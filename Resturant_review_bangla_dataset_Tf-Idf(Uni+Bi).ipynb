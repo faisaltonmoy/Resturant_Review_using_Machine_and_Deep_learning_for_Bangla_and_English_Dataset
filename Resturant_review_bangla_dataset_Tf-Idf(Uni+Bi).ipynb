{
  "nbformat": 4,
  "nbformat_minor": 0,
  "metadata": {
    "colab": {
      "provenance": [],
      "collapsed_sections": [
        "w_bE6u5hTV6C",
        "Ard-mBTuTsVS",
        "2IKRamPyT2De",
        "EcI3NlFiT9-S",
        "GDDsdv1YURgS"
      ]
    },
    "kernelspec": {
      "name": "python3",
      "display_name": "Python 3"
    },
    "language_info": {
      "name": "python"
    },
    "gpuClass": "standard"
  },
  "cells": [
    {
      "cell_type": "markdown",
      "source": [
        "# ***Install Packages***"
      ],
      "metadata": {
        "id": "w_bE6u5hTV6C"
      }
    },
    {
      "cell_type": "code",
      "execution_count": null,
      "metadata": {
        "colab": {
          "base_uri": "https://localhost:8080/"
        },
        "id": "odsRHOa6Ufrk",
        "outputId": "6cbf29da-b9b0-43d7-930f-dcee1884f95d"
      },
      "outputs": [
        {
          "output_type": "stream",
          "name": "stdout",
          "text": [
            "Looking in indexes: https://pypi.org/simple, https://us-python.pkg.dev/colab-wheels/public/simple/\n",
            "Collecting bnlp_toolkit\n",
            "  Downloading bnlp_toolkit-3.1.2-py3-none-any.whl (17 kB)\n",
            "Requirement already satisfied: numpy in /usr/local/lib/python3.7/dist-packages (from bnlp_toolkit) (1.21.6)\n",
            "Collecting sentencepiece\n",
            "  Downloading sentencepiece-0.1.97-cp37-cp37m-manylinux_2_17_x86_64.manylinux2014_x86_64.whl (1.3 MB)\n",
            "\u001b[K     |████████████████████████████████| 1.3 MB 35.4 MB/s \n",
            "\u001b[?25hRequirement already satisfied: scipy in /usr/local/lib/python3.7/dist-packages (from bnlp_toolkit) (1.7.3)\n",
            "Collecting gensim==4.0.1\n",
            "  Downloading gensim-4.0.1-cp37-cp37m-manylinux1_x86_64.whl (23.9 MB)\n",
            "\u001b[K     |████████████████████████████████| 23.9 MB 1.4 MB/s \n",
            "\u001b[?25hRequirement already satisfied: wasabi in /usr/local/lib/python3.7/dist-packages (from bnlp_toolkit) (0.10.1)\n",
            "Collecting sklearn-crfsuite\n",
            "  Downloading sklearn_crfsuite-0.3.6-py2.py3-none-any.whl (12 kB)\n",
            "Requirement already satisfied: nltk in /usr/local/lib/python3.7/dist-packages (from bnlp_toolkit) (3.7)\n",
            "Requirement already satisfied: smart-open>=1.8.1 in /usr/local/lib/python3.7/dist-packages (from gensim==4.0.1->bnlp_toolkit) (5.2.1)\n",
            "Requirement already satisfied: click in /usr/local/lib/python3.7/dist-packages (from nltk->bnlp_toolkit) (7.1.2)\n",
            "Requirement already satisfied: regex>=2021.8.3 in /usr/local/lib/python3.7/dist-packages (from nltk->bnlp_toolkit) (2022.6.2)\n",
            "Requirement already satisfied: joblib in /usr/local/lib/python3.7/dist-packages (from nltk->bnlp_toolkit) (1.1.0)\n",
            "Requirement already satisfied: tqdm in /usr/local/lib/python3.7/dist-packages (from nltk->bnlp_toolkit) (4.64.0)\n",
            "Requirement already satisfied: six in /usr/local/lib/python3.7/dist-packages (from sklearn-crfsuite->bnlp_toolkit) (1.15.0)\n",
            "Collecting python-crfsuite>=0.8.3\n",
            "  Downloading python_crfsuite-0.9.8-cp37-cp37m-manylinux_2_17_x86_64.manylinux2014_x86_64.whl (965 kB)\n",
            "\u001b[K     |████████████████████████████████| 965 kB 62.8 MB/s \n",
            "\u001b[?25hRequirement already satisfied: tabulate in /usr/local/lib/python3.7/dist-packages (from sklearn-crfsuite->bnlp_toolkit) (0.8.10)\n",
            "Installing collected packages: python-crfsuite, sklearn-crfsuite, sentencepiece, gensim, bnlp-toolkit\n",
            "  Attempting uninstall: gensim\n",
            "    Found existing installation: gensim 3.6.0\n",
            "    Uninstalling gensim-3.6.0:\n",
            "      Successfully uninstalled gensim-3.6.0\n",
            "Successfully installed bnlp-toolkit-3.1.2 gensim-4.0.1 python-crfsuite-0.9.8 sentencepiece-0.1.97 sklearn-crfsuite-0.3.6\n",
            "Looking in indexes: https://pypi.org/simple, https://us-python.pkg.dev/colab-wheels/public/simple/\n",
            "Collecting bnltk\n",
            "  Downloading bnltk-0.7.6-py3-none-any.whl (11 kB)\n",
            "Requirement already satisfied: tensorflow in /usr/local/lib/python3.7/dist-packages (from bnltk) (2.8.2+zzzcolab20220719082949)\n",
            "Requirement already satisfied: numpy in /usr/local/lib/python3.7/dist-packages (from bnltk) (1.21.6)\n",
            "Requirement already satisfied: requests in /usr/local/lib/python3.7/dist-packages (from bnltk) (2.23.0)\n",
            "Requirement already satisfied: keras in /usr/local/lib/python3.7/dist-packages (from bnltk) (2.8.0)\n",
            "Collecting sklearn\n",
            "  Downloading sklearn-0.0.tar.gz (1.1 kB)\n",
            "Requirement already satisfied: chardet<4,>=3.0.2 in /usr/local/lib/python3.7/dist-packages (from requests->bnltk) (3.0.4)\n",
            "Requirement already satisfied: idna<3,>=2.5 in /usr/local/lib/python3.7/dist-packages (from requests->bnltk) (2.10)\n",
            "Requirement already satisfied: urllib3!=1.25.0,!=1.25.1,<1.26,>=1.21.1 in /usr/local/lib/python3.7/dist-packages (from requests->bnltk) (1.24.3)\n",
            "Requirement already satisfied: certifi>=2017.4.17 in /usr/local/lib/python3.7/dist-packages (from requests->bnltk) (2022.6.15)\n",
            "Requirement already satisfied: scikit-learn in /usr/local/lib/python3.7/dist-packages (from sklearn->bnltk) (1.0.2)\n",
            "Requirement already satisfied: joblib>=0.11 in /usr/local/lib/python3.7/dist-packages (from scikit-learn->sklearn->bnltk) (1.1.0)\n",
            "Requirement already satisfied: scipy>=1.1.0 in /usr/local/lib/python3.7/dist-packages (from scikit-learn->sklearn->bnltk) (1.7.3)\n",
            "Requirement already satisfied: threadpoolctl>=2.0.0 in /usr/local/lib/python3.7/dist-packages (from scikit-learn->sklearn->bnltk) (3.1.0)\n",
            "Requirement already satisfied: gast>=0.2.1 in /usr/local/lib/python3.7/dist-packages (from tensorflow->bnltk) (0.5.3)\n",
            "Requirement already satisfied: google-pasta>=0.1.1 in /usr/local/lib/python3.7/dist-packages (from tensorflow->bnltk) (0.2.0)\n",
            "Requirement already satisfied: opt-einsum>=2.3.2 in /usr/local/lib/python3.7/dist-packages (from tensorflow->bnltk) (3.3.0)\n",
            "Requirement already satisfied: typing-extensions>=3.6.6 in /usr/local/lib/python3.7/dist-packages (from tensorflow->bnltk) (4.1.1)\n",
            "Requirement already satisfied: h5py>=2.9.0 in /usr/local/lib/python3.7/dist-packages (from tensorflow->bnltk) (3.1.0)\n",
            "Requirement already satisfied: keras-preprocessing>=1.1.1 in /usr/local/lib/python3.7/dist-packages (from tensorflow->bnltk) (1.1.2)\n",
            "Requirement already satisfied: wrapt>=1.11.0 in /usr/local/lib/python3.7/dist-packages (from tensorflow->bnltk) (1.14.1)\n",
            "Requirement already satisfied: libclang>=9.0.1 in /usr/local/lib/python3.7/dist-packages (from tensorflow->bnltk) (14.0.6)\n",
            "Requirement already satisfied: astunparse>=1.6.0 in /usr/local/lib/python3.7/dist-packages (from tensorflow->bnltk) (1.6.3)\n",
            "Requirement already satisfied: six>=1.12.0 in /usr/local/lib/python3.7/dist-packages (from tensorflow->bnltk) (1.15.0)\n",
            "Requirement already satisfied: tensorboard<2.9,>=2.8 in /usr/local/lib/python3.7/dist-packages (from tensorflow->bnltk) (2.8.0)\n",
            "Requirement already satisfied: flatbuffers>=1.12 in /usr/local/lib/python3.7/dist-packages (from tensorflow->bnltk) (2.0.7)\n",
            "Requirement already satisfied: absl-py>=0.4.0 in /usr/local/lib/python3.7/dist-packages (from tensorflow->bnltk) (1.2.0)\n",
            "Requirement already satisfied: termcolor>=1.1.0 in /usr/local/lib/python3.7/dist-packages (from tensorflow->bnltk) (1.1.0)\n",
            "Requirement already satisfied: protobuf<3.20,>=3.9.2 in /usr/local/lib/python3.7/dist-packages (from tensorflow->bnltk) (3.17.3)\n",
            "Requirement already satisfied: setuptools in /usr/local/lib/python3.7/dist-packages (from tensorflow->bnltk) (57.4.0)\n",
            "Requirement already satisfied: tensorflow-io-gcs-filesystem>=0.23.1 in /usr/local/lib/python3.7/dist-packages (from tensorflow->bnltk) (0.26.0)\n",
            "Requirement already satisfied: tensorflow-estimator<2.9,>=2.8 in /usr/local/lib/python3.7/dist-packages (from tensorflow->bnltk) (2.8.0)\n",
            "Requirement already satisfied: grpcio<2.0,>=1.24.3 in /usr/local/lib/python3.7/dist-packages (from tensorflow->bnltk) (1.47.0)\n",
            "Requirement already satisfied: wheel<1.0,>=0.23.0 in /usr/local/lib/python3.7/dist-packages (from astunparse>=1.6.0->tensorflow->bnltk) (0.37.1)\n",
            "Requirement already satisfied: cached-property in /usr/local/lib/python3.7/dist-packages (from h5py>=2.9.0->tensorflow->bnltk) (1.5.2)\n",
            "Requirement already satisfied: google-auth<3,>=1.6.3 in /usr/local/lib/python3.7/dist-packages (from tensorboard<2.9,>=2.8->tensorflow->bnltk) (1.35.0)\n",
            "Requirement already satisfied: tensorboard-plugin-wit>=1.6.0 in /usr/local/lib/python3.7/dist-packages (from tensorboard<2.9,>=2.8->tensorflow->bnltk) (1.8.1)\n",
            "Requirement already satisfied: markdown>=2.6.8 in /usr/local/lib/python3.7/dist-packages (from tensorboard<2.9,>=2.8->tensorflow->bnltk) (3.4.1)\n",
            "Requirement already satisfied: google-auth-oauthlib<0.5,>=0.4.1 in /usr/local/lib/python3.7/dist-packages (from tensorboard<2.9,>=2.8->tensorflow->bnltk) (0.4.6)\n",
            "Requirement already satisfied: tensorboard-data-server<0.7.0,>=0.6.0 in /usr/local/lib/python3.7/dist-packages (from tensorboard<2.9,>=2.8->tensorflow->bnltk) (0.6.1)\n",
            "Requirement already satisfied: werkzeug>=0.11.15 in /usr/local/lib/python3.7/dist-packages (from tensorboard<2.9,>=2.8->tensorflow->bnltk) (1.0.1)\n",
            "Requirement already satisfied: pyasn1-modules>=0.2.1 in /usr/local/lib/python3.7/dist-packages (from google-auth<3,>=1.6.3->tensorboard<2.9,>=2.8->tensorflow->bnltk) (0.2.8)\n",
            "Requirement already satisfied: cachetools<5.0,>=2.0.0 in /usr/local/lib/python3.7/dist-packages (from google-auth<3,>=1.6.3->tensorboard<2.9,>=2.8->tensorflow->bnltk) (4.2.4)\n",
            "Requirement already satisfied: rsa<5,>=3.1.4 in /usr/local/lib/python3.7/dist-packages (from google-auth<3,>=1.6.3->tensorboard<2.9,>=2.8->tensorflow->bnltk) (4.9)\n",
            "Requirement already satisfied: requests-oauthlib>=0.7.0 in /usr/local/lib/python3.7/dist-packages (from google-auth-oauthlib<0.5,>=0.4.1->tensorboard<2.9,>=2.8->tensorflow->bnltk) (1.3.1)\n",
            "Requirement already satisfied: importlib-metadata>=4.4 in /usr/local/lib/python3.7/dist-packages (from markdown>=2.6.8->tensorboard<2.9,>=2.8->tensorflow->bnltk) (4.12.0)\n",
            "Requirement already satisfied: zipp>=0.5 in /usr/local/lib/python3.7/dist-packages (from importlib-metadata>=4.4->markdown>=2.6.8->tensorboard<2.9,>=2.8->tensorflow->bnltk) (3.8.1)\n",
            "Requirement already satisfied: pyasn1<0.5.0,>=0.4.6 in /usr/local/lib/python3.7/dist-packages (from pyasn1-modules>=0.2.1->google-auth<3,>=1.6.3->tensorboard<2.9,>=2.8->tensorflow->bnltk) (0.4.8)\n",
            "Requirement already satisfied: oauthlib>=3.0.0 in /usr/local/lib/python3.7/dist-packages (from requests-oauthlib>=0.7.0->google-auth-oauthlib<0.5,>=0.4.1->tensorboard<2.9,>=2.8->tensorflow->bnltk) (3.2.0)\n",
            "Building wheels for collected packages: sklearn\n",
            "  Building wheel for sklearn (setup.py) ... \u001b[?25l\u001b[?25hdone\n",
            "  Created wheel for sklearn: filename=sklearn-0.0-py2.py3-none-any.whl size=1310 sha256=5fed4996d9900da5e3bbf3e2cdf59a552cd7ba68c0bc00d1a4374a01874b1606\n",
            "  Stored in directory: /root/.cache/pip/wheels/46/ef/c3/157e41f5ee1372d1be90b09f74f82b10e391eaacca8f22d33e\n",
            "Successfully built sklearn\n",
            "Installing collected packages: sklearn, bnltk\n",
            "Successfully installed bnltk-0.7.6 sklearn-0.0\n",
            "Looking in indexes: https://pypi.org/simple, https://us-python.pkg.dev/colab-wheels/public/simple/\n",
            "Requirement already satisfied: bnlp_toolkit in /usr/local/lib/python3.7/dist-packages (3.1.2)\n",
            "Requirement already satisfied: nltk in /usr/local/lib/python3.7/dist-packages (from bnlp_toolkit) (3.7)\n",
            "Requirement already satisfied: scipy in /usr/local/lib/python3.7/dist-packages (from bnlp_toolkit) (1.7.3)\n",
            "Requirement already satisfied: sentencepiece in /usr/local/lib/python3.7/dist-packages (from bnlp_toolkit) (0.1.97)\n",
            "Requirement already satisfied: numpy in /usr/local/lib/python3.7/dist-packages (from bnlp_toolkit) (1.21.6)\n",
            "Requirement already satisfied: wasabi in /usr/local/lib/python3.7/dist-packages (from bnlp_toolkit) (0.10.1)\n",
            "Requirement already satisfied: sklearn-crfsuite in /usr/local/lib/python3.7/dist-packages (from bnlp_toolkit) (0.3.6)\n",
            "Requirement already satisfied: gensim==4.0.1 in /usr/local/lib/python3.7/dist-packages (from bnlp_toolkit) (4.0.1)\n",
            "Requirement already satisfied: smart-open>=1.8.1 in /usr/local/lib/python3.7/dist-packages (from gensim==4.0.1->bnlp_toolkit) (5.2.1)\n",
            "Requirement already satisfied: regex>=2021.8.3 in /usr/local/lib/python3.7/dist-packages (from nltk->bnlp_toolkit) (2022.6.2)\n",
            "Requirement already satisfied: tqdm in /usr/local/lib/python3.7/dist-packages (from nltk->bnlp_toolkit) (4.64.0)\n",
            "Requirement already satisfied: joblib in /usr/local/lib/python3.7/dist-packages (from nltk->bnlp_toolkit) (1.1.0)\n",
            "Requirement already satisfied: click in /usr/local/lib/python3.7/dist-packages (from nltk->bnlp_toolkit) (7.1.2)\n",
            "Requirement already satisfied: python-crfsuite>=0.8.3 in /usr/local/lib/python3.7/dist-packages (from sklearn-crfsuite->bnlp_toolkit) (0.9.8)\n",
            "Requirement already satisfied: six in /usr/local/lib/python3.7/dist-packages (from sklearn-crfsuite->bnlp_toolkit) (1.15.0)\n",
            "Requirement already satisfied: tabulate in /usr/local/lib/python3.7/dist-packages (from sklearn-crfsuite->bnlp_toolkit) (0.8.10)\n"
          ]
        }
      ],
      "source": [
        "!pip install bnlp_toolkit\n",
        "!pip install bnltk\n",
        "!pip install -U bnlp_toolkit"
      ]
    },
    {
      "cell_type": "markdown",
      "source": [
        "# ***Import Libraries***"
      ],
      "metadata": {
        "id": "7CLincqwTjgf"
      }
    },
    {
      "cell_type": "code",
      "source": [
        "import numpy as np\n",
        "import matplotlib.pyplot as plt\n",
        "import pandas as pd\n",
        "from bnlp.corpus import stopwords\n",
        "from bnlp.corpus.util import remove_stopwords\n",
        "from bnltk.stemmer import BanglaStemmer\n",
        "\n",
        "from sklearn import metrics\n",
        "\n",
        "from sklearn.tree import DecisionTreeClassifier\n",
        "from sklearn.svm import SVC\n",
        "from sklearn.neighbors import KNeighborsClassifier\n",
        "from sklearn.ensemble import RandomForestClassifier\n",
        "from sklearn.naive_bayes import GaussianNB\n",
        "\n",
        "from sklearn.ensemble import AdaBoostClassifier\n",
        "from sklearn.ensemble import GradientBoostingClassifier\n",
        "\n",
        "from sklearn.metrics import precision_score\n",
        "from sklearn.metrics import recall_score\n",
        "from sklearn.metrics import f1_score\n",
        "from sklearn.metrics import accuracy_score\n",
        "from sklearn.metrics import confusion_matrix\n",
        "from sklearn.model_selection import train_test_split\n",
        "\n",
        "from sklearn.model_selection import cross_val_score\n",
        "from sklearn.model_selection import cross_val_predict\n",
        "from sklearn.model_selection import KFold\n",
        "from statistics import *\n",
        "from tabulate import tabulate"
      ],
      "metadata": {
        "id": "-fn5vA_tUxw1",
        "colab": {
          "base_uri": "https://localhost:8080/"
        },
        "outputId": "03e38748-d483-451d-d598-4522203fadc0"
      },
      "execution_count": null,
      "outputs": [
        {
          "output_type": "stream",
          "name": "stdout",
          "text": [
            "punkt not found. downloading...\n"
          ]
        },
        {
          "output_type": "stream",
          "name": "stderr",
          "text": [
            "[nltk_data] Downloading package punkt to /root/nltk_data...\n",
            "[nltk_data]   Unzipping tokenizers/punkt.zip.\n",
            "/usr/local/lib/python3.7/dist-packages/gensim/similarities/__init__.py:15: UserWarning: The gensim.similarities.levenshtein submodule is disabled, because the optional Levenshtein package <https://pypi.org/project/python-Levenshtein/> is unavailable. Install Levenhstein (e.g. `pip install python-Levenshtein`) to suppress this warning.\n",
            "  warnings.warn(msg)\n"
          ]
        }
      ]
    },
    {
      "cell_type": "markdown",
      "source": [
        "# ***Drive Connect***"
      ],
      "metadata": {
        "id": "Ard-mBTuTsVS"
      }
    },
    {
      "cell_type": "code",
      "source": [
        "from google.colab import drive\n",
        "drive.mount('/content/drive')"
      ],
      "metadata": {
        "colab": {
          "base_uri": "https://localhost:8080/"
        },
        "id": "tr0qayTWUzg_",
        "outputId": "552c0a1a-f4d3-4f52-c8a1-c026f6eed942"
      },
      "execution_count": null,
      "outputs": [
        {
          "output_type": "stream",
          "name": "stdout",
          "text": [
            "Mounted at /content/drive\n"
          ]
        }
      ]
    },
    {
      "cell_type": "code",
      "source": [
        "data = pd.read_csv('/content/drive/MyDrive/Data/resturant_review(7612).csv')\n",
        "data.head(20)"
      ],
      "metadata": {
        "colab": {
          "base_uri": "https://localhost:8080/",
          "height": 1000
        },
        "id": "p4XPflu7U52s",
        "outputId": "703e5d21-6b9f-4236-e81d-962abe795244"
      },
      "execution_count": null,
      "outputs": [
        {
          "output_type": "execute_result",
          "data": {
            "text/plain": [
              "                                                 Text  Sentiment\n",
              "0   পিজাটা চমৎকার ছিল । আমি এবং আমার বন্ধুদের এটি ...          1\n",
              "1   এরাবিয়ান মাস্টারের  অভ্যন্তরীণ সজ্জাটা অনন্য। ...          1\n",
              "2   কোরিয়ান এবং জামাইকান BBQ উপভোগ করার জন্য একটি...          1\n",
              "3                               BBQ এর মেনুগুলো সেরা।          1\n",
              "4          শ্রেষ্ঠ স্বাদ ..... খাবারের মানও ভাল  ....          1\n",
              "5   সেরা পরিবেশ সঙ্গে শ্রেষ্ঠ স্বাদ। একেবারে প্রিম...          1\n",
              "6   সত্যিই খেতে দারুণ টেস্ট !!! আমি শুধু  BBQ ভালব...          1\n",
              "7   মহান খাদ্য বাহ ভাল বাহ সঙ্গে মহান সেবা ..........          1\n",
              "8   অসাধারণ এবং সুস্বাদু খাদ্য ... ভাল সার্ভিস এবং...          1\n",
              "9   গরম এবং মসলাযুক্ত চিকেন ফ্রাইটা পছন্দনীয়। চমৎক...          1\n",
              "10                                ব্রিলিয়ান্ট......।।          1\n",
              "11      charboiled চিকেনটা অসাধারণ। অপূর্ব.........।!          1\n",
              "12  এটা সত্যিই একটি ভাল জায়গা। তুলনাহীন. তাদের আচ...          1\n",
              "13                  অপূর্ব খাবার, গ্রেট সার্ভিস... !!          1\n",
              "14  এটা ডিনারের জন্য সত্যিই ভাল জায়গা, জ্যামাইকান...          1\n",
              "15                      ভাল খাবার এবং চমৎকার সেবা...।          1\n",
              "16  BBQ বাংলাদেশকে এক কথায় বর্নণা করার সহজ শব্দ হচ...          1\n",
              "17                                          ভালোবাসি!          1\n",
              "18  সুস্বাদু। খাবারটা সত্যিই অনেক ভাল। তাদের  তৈরি...          1\n",
              "19                                          সুস্বাদু!          1"
            ],
            "text/html": [
              "\n",
              "  <div id=\"df-3ec84619-f27d-46e9-a407-f5bbfabb4191\">\n",
              "    <div class=\"colab-df-container\">\n",
              "      <div>\n",
              "<style scoped>\n",
              "    .dataframe tbody tr th:only-of-type {\n",
              "        vertical-align: middle;\n",
              "    }\n",
              "\n",
              "    .dataframe tbody tr th {\n",
              "        vertical-align: top;\n",
              "    }\n",
              "\n",
              "    .dataframe thead th {\n",
              "        text-align: right;\n",
              "    }\n",
              "</style>\n",
              "<table border=\"1\" class=\"dataframe\">\n",
              "  <thead>\n",
              "    <tr style=\"text-align: right;\">\n",
              "      <th></th>\n",
              "      <th>Text</th>\n",
              "      <th>Sentiment</th>\n",
              "    </tr>\n",
              "  </thead>\n",
              "  <tbody>\n",
              "    <tr>\n",
              "      <th>0</th>\n",
              "      <td>পিজাটা চমৎকার ছিল । আমি এবং আমার বন্ধুদের এটি ...</td>\n",
              "      <td>1</td>\n",
              "    </tr>\n",
              "    <tr>\n",
              "      <th>1</th>\n",
              "      <td>এরাবিয়ান মাস্টারের  অভ্যন্তরীণ সজ্জাটা অনন্য। ...</td>\n",
              "      <td>1</td>\n",
              "    </tr>\n",
              "    <tr>\n",
              "      <th>2</th>\n",
              "      <td>কোরিয়ান এবং জামাইকান BBQ উপভোগ করার জন্য একটি...</td>\n",
              "      <td>1</td>\n",
              "    </tr>\n",
              "    <tr>\n",
              "      <th>3</th>\n",
              "      <td>BBQ এর মেনুগুলো সেরা।</td>\n",
              "      <td>1</td>\n",
              "    </tr>\n",
              "    <tr>\n",
              "      <th>4</th>\n",
              "      <td>শ্রেষ্ঠ স্বাদ ..... খাবারের মানও ভাল  ....</td>\n",
              "      <td>1</td>\n",
              "    </tr>\n",
              "    <tr>\n",
              "      <th>5</th>\n",
              "      <td>সেরা পরিবেশ সঙ্গে শ্রেষ্ঠ স্বাদ। একেবারে প্রিম...</td>\n",
              "      <td>1</td>\n",
              "    </tr>\n",
              "    <tr>\n",
              "      <th>6</th>\n",
              "      <td>সত্যিই খেতে দারুণ টেস্ট !!! আমি শুধু  BBQ ভালব...</td>\n",
              "      <td>1</td>\n",
              "    </tr>\n",
              "    <tr>\n",
              "      <th>7</th>\n",
              "      <td>মহান খাদ্য বাহ ভাল বাহ সঙ্গে মহান সেবা ..........</td>\n",
              "      <td>1</td>\n",
              "    </tr>\n",
              "    <tr>\n",
              "      <th>8</th>\n",
              "      <td>অসাধারণ এবং সুস্বাদু খাদ্য ... ভাল সার্ভিস এবং...</td>\n",
              "      <td>1</td>\n",
              "    </tr>\n",
              "    <tr>\n",
              "      <th>9</th>\n",
              "      <td>গরম এবং মসলাযুক্ত চিকেন ফ্রাইটা পছন্দনীয়। চমৎক...</td>\n",
              "      <td>1</td>\n",
              "    </tr>\n",
              "    <tr>\n",
              "      <th>10</th>\n",
              "      <td>ব্রিলিয়ান্ট......।।</td>\n",
              "      <td>1</td>\n",
              "    </tr>\n",
              "    <tr>\n",
              "      <th>11</th>\n",
              "      <td>charboiled চিকেনটা অসাধারণ। অপূর্ব.........।!</td>\n",
              "      <td>1</td>\n",
              "    </tr>\n",
              "    <tr>\n",
              "      <th>12</th>\n",
              "      <td>এটা সত্যিই একটি ভাল জায়গা। তুলনাহীন. তাদের আচ...</td>\n",
              "      <td>1</td>\n",
              "    </tr>\n",
              "    <tr>\n",
              "      <th>13</th>\n",
              "      <td>অপূর্ব খাবার, গ্রেট সার্ভিস... !!</td>\n",
              "      <td>1</td>\n",
              "    </tr>\n",
              "    <tr>\n",
              "      <th>14</th>\n",
              "      <td>এটা ডিনারের জন্য সত্যিই ভাল জায়গা, জ্যামাইকান...</td>\n",
              "      <td>1</td>\n",
              "    </tr>\n",
              "    <tr>\n",
              "      <th>15</th>\n",
              "      <td>ভাল খাবার এবং চমৎকার সেবা...।</td>\n",
              "      <td>1</td>\n",
              "    </tr>\n",
              "    <tr>\n",
              "      <th>16</th>\n",
              "      <td>BBQ বাংলাদেশকে এক কথায় বর্নণা করার সহজ শব্দ হচ...</td>\n",
              "      <td>1</td>\n",
              "    </tr>\n",
              "    <tr>\n",
              "      <th>17</th>\n",
              "      <td>ভালোবাসি!</td>\n",
              "      <td>1</td>\n",
              "    </tr>\n",
              "    <tr>\n",
              "      <th>18</th>\n",
              "      <td>সুস্বাদু। খাবারটা সত্যিই অনেক ভাল। তাদের  তৈরি...</td>\n",
              "      <td>1</td>\n",
              "    </tr>\n",
              "    <tr>\n",
              "      <th>19</th>\n",
              "      <td>সুস্বাদু!</td>\n",
              "      <td>1</td>\n",
              "    </tr>\n",
              "  </tbody>\n",
              "</table>\n",
              "</div>\n",
              "      <button class=\"colab-df-convert\" onclick=\"convertToInteractive('df-3ec84619-f27d-46e9-a407-f5bbfabb4191')\"\n",
              "              title=\"Convert this dataframe to an interactive table.\"\n",
              "              style=\"display:none;\">\n",
              "        \n",
              "  <svg xmlns=\"http://www.w3.org/2000/svg\" height=\"24px\"viewBox=\"0 0 24 24\"\n",
              "       width=\"24px\">\n",
              "    <path d=\"M0 0h24v24H0V0z\" fill=\"none\"/>\n",
              "    <path d=\"M18.56 5.44l.94 2.06.94-2.06 2.06-.94-2.06-.94-.94-2.06-.94 2.06-2.06.94zm-11 1L8.5 8.5l.94-2.06 2.06-.94-2.06-.94L8.5 2.5l-.94 2.06-2.06.94zm10 10l.94 2.06.94-2.06 2.06-.94-2.06-.94-.94-2.06-.94 2.06-2.06.94z\"/><path d=\"M17.41 7.96l-1.37-1.37c-.4-.4-.92-.59-1.43-.59-.52 0-1.04.2-1.43.59L10.3 9.45l-7.72 7.72c-.78.78-.78 2.05 0 2.83L4 21.41c.39.39.9.59 1.41.59.51 0 1.02-.2 1.41-.59l7.78-7.78 2.81-2.81c.8-.78.8-2.07 0-2.86zM5.41 20L4 18.59l7.72-7.72 1.47 1.35L5.41 20z\"/>\n",
              "  </svg>\n",
              "      </button>\n",
              "      \n",
              "  <style>\n",
              "    .colab-df-container {\n",
              "      display:flex;\n",
              "      flex-wrap:wrap;\n",
              "      gap: 12px;\n",
              "    }\n",
              "\n",
              "    .colab-df-convert {\n",
              "      background-color: #E8F0FE;\n",
              "      border: none;\n",
              "      border-radius: 50%;\n",
              "      cursor: pointer;\n",
              "      display: none;\n",
              "      fill: #1967D2;\n",
              "      height: 32px;\n",
              "      padding: 0 0 0 0;\n",
              "      width: 32px;\n",
              "    }\n",
              "\n",
              "    .colab-df-convert:hover {\n",
              "      background-color: #E2EBFA;\n",
              "      box-shadow: 0px 1px 2px rgba(60, 64, 67, 0.3), 0px 1px 3px 1px rgba(60, 64, 67, 0.15);\n",
              "      fill: #174EA6;\n",
              "    }\n",
              "\n",
              "    [theme=dark] .colab-df-convert {\n",
              "      background-color: #3B4455;\n",
              "      fill: #D2E3FC;\n",
              "    }\n",
              "\n",
              "    [theme=dark] .colab-df-convert:hover {\n",
              "      background-color: #434B5C;\n",
              "      box-shadow: 0px 1px 3px 1px rgba(0, 0, 0, 0.15);\n",
              "      filter: drop-shadow(0px 1px 2px rgba(0, 0, 0, 0.3));\n",
              "      fill: #FFFFFF;\n",
              "    }\n",
              "  </style>\n",
              "\n",
              "      <script>\n",
              "        const buttonEl =\n",
              "          document.querySelector('#df-3ec84619-f27d-46e9-a407-f5bbfabb4191 button.colab-df-convert');\n",
              "        buttonEl.style.display =\n",
              "          google.colab.kernel.accessAllowed ? 'block' : 'none';\n",
              "\n",
              "        async function convertToInteractive(key) {\n",
              "          const element = document.querySelector('#df-3ec84619-f27d-46e9-a407-f5bbfabb4191');\n",
              "          const dataTable =\n",
              "            await google.colab.kernel.invokeFunction('convertToInteractive',\n",
              "                                                     [key], {});\n",
              "          if (!dataTable) return;\n",
              "\n",
              "          const docLinkHtml = 'Like what you see? Visit the ' +\n",
              "            '<a target=\"_blank\" href=https://colab.research.google.com/notebooks/data_table.ipynb>data table notebook</a>'\n",
              "            + ' to learn more about interactive tables.';\n",
              "          element.innerHTML = '';\n",
              "          dataTable['output_type'] = 'display_data';\n",
              "          await google.colab.output.renderOutput(dataTable, element);\n",
              "          const docLink = document.createElement('div');\n",
              "          docLink.innerHTML = docLinkHtml;\n",
              "          element.appendChild(docLink);\n",
              "        }\n",
              "      </script>\n",
              "    </div>\n",
              "  </div>\n",
              "  "
            ]
          },
          "metadata": {},
          "execution_count": 5
        }
      ]
    },
    {
      "cell_type": "markdown",
      "source": [
        "# ***Data Ratio***"
      ],
      "metadata": {
        "id": "2IKRamPyT2De"
      }
    },
    {
      "cell_type": "code",
      "source": [
        "import seaborn as sns\n",
        "target_vc = data[\"Sentiment\"].value_counts(normalize=False)\n",
        "print(\"Negative: {:.2%}, Positive: {:.2%}\".format(target_vc[0], target_vc[1]))\n",
        "sns.barplot(x=target_vc.index, y=target_vc)\n",
        "plt.title(\"Dataset Distribution\")\n",
        "plt.xlabel(\"0 = Negative, 1 = Positive\")\n",
        "plt.ylabel(\"Number of data\")\n",
        "plt.show()"
      ],
      "metadata": {
        "colab": {
          "base_uri": "https://localhost:8080/",
          "height": 72
        },
        "id": "NxCMU-WDU-TI",
        "outputId": "f936df2c-8142-4022-ecfb-11e173d02546"
      },
      "execution_count": null,
      "outputs": [
        {
          "output_type": "stream",
          "name": "stdout",
          "text": [
            "Negative: 350100.00%, Positive: 411100.00%\n"
          ]
        },
        {
          "output_type": "display_data",
          "data": {
            "text/plain": [
              "<Figure size 432x288 with 1 Axes>"
            ],
            "image/png": "[encoded data removed]"
          },
          "metadata": {
            "needs_background": "light"
          }
        }
      ]
    },
    {
      "cell_type": "code",
      "source": [
        "data.shape"
      ],
      "metadata": {
        "colab": {
          "base_uri": "https://localhost:8080/"
        },
        "id": "clSiQ9G9VFCI",
        "outputId": "7e88fa14-7cae-40d0-f70d-679062823420"
      },
      "execution_count": null,
      "outputs": [
        {
          "output_type": "execute_result",
          "data": {
            "text/plain": [
              "(7612, 2)"
            ]
          },
          "metadata": {},
          "execution_count": 7
        }
      ]
    },
    {
      "cell_type": "markdown",
      "source": [
        "# ***Data Pre-processing***"
      ],
      "metadata": {
        "id": "hQOurDCkT5Rr"
      }
    },
    {
      "cell_type": "code",
      "source": [
        "#cleaning the texts\n",
        "import re\n",
        "corpus=[]\n",
        "for i in range(0,7612):\n",
        "    review = re.sub('[\\!\"#$%&()*,./:;<=>?@[\\\\]^`{|}~\\t\\n।+-]', ' ', data['Text'][i])\n",
        "    review=review.replace('_',' ')\n",
        "    review=review.replace('ঃ',' ')\n",
        "    review = re.sub('[a-zA-Z0-9]+', ' ', review)    \n",
        "    review = re.sub('[''````£|¢|/=।!“’<>‘॥”‰\\']', ' ', review)               \n",
        "    emoji_pattern = re.compile(\"[\"\n",
        "                           u\"\\U0001F600-\\U0001F64F\"  # emoticons\n",
        "                           u\"\\U0001F300-\\U0001F5FF\"  # symbols & pictographs\n",
        "                           u\"\\U0001F680-\\U0001F6FF\"  # transport & map symbols\n",
        "                           u\"\\U0001F1E0-\\U0001F1FF\"  # flags (iOS)\n",
        "                           u\"\\U00002702-\\U000027B0\"\n",
        "                           u\"\\U000024C2-\\U0001F251\"\n",
        "                           u\"\\u00C0-\\u017F\"          #latin\n",
        "                           u\"\\u2000-\\u206F\"          #generalPunctuations \n",
        "                           u\"\\\\U0001f90f\" \n",
        "                           u\"\\\\U0001f9cf\"\n",
        "                           u\"\\U0001fa78\"  \n",
        "                           \"]+\", flags=re.UNICODE)\n",
        "    review=emoji_pattern.sub(r'', review)\n",
        "    bn_stemmer = BanglaStemmer()\n",
        "    review=bn_stemmer.stem(review)\n",
        "    review = remove_stopwords(review, stopwords)\n",
        "    review=' '.join(review)\n",
        "    corpus.append(review)\n",
        "corpus"
      ],
      "metadata": {
        "colab": {
          "base_uri": "https://localhost:8080/"
        },
        "id": "8etdZnByVG6j",
        "outputId": "b3839ac0-b043-4a74-da29-5935e1bf1087"
      },
      "execution_count": null,
      "outputs": [
        {
          "output_type": "execute_result",
          "data": {
            "text/plain": [
              "['পিজাটা চমৎকার বন্ধুদের পছন্দ হয়েছে',\n",
              " 'এরাবিয়ান মাস্টারের অভ্যন্তরীণ সজ্জাটা অনন্য এটির খাদ্য সুস্বাদু একটু মসলাযুক্ত কর্মীরা বন্ধুত্বপূর্ণ',\n",
              " 'কোরিয়ান জামাইকান উপভোগ চমৎকার জায়গা',\n",
              " 'মেনুগুলো সেরা',\n",
              " 'শ্রেষ্ঠ স্বাদ খাবারের মানও ভাল',\n",
              " 'সেরা পরিবেশ শ্রেষ্ঠ স্বাদ একেবারে প্রিমিয়াম মুরগি',\n",
              " 'সত্যিই খেতে দারুণ টেস্ট ভালবাসি খাবারটা অসাধারণ জায়গায় ভালোবাসি ভাল',\n",
              " 'মহান খাদ্য বাহ ভাল বাহ মহান সেবা',\n",
              " 'অসাধারণ সুস্বাদু খাদ্য ভাল সার্ভিস নিশ্চিত জায়গাটা সেরা কোরিয়ান ভালোবাসি',\n",
              " 'গরম মসলাযুক্ত চিকেন ফ্রাইটা পছন্দনীয় চমৎকার পরিবেশ আতিথেয়তা এটিকে ঢাকায় শীর্ষস্থানীয় রেস্তোরাঁর রেটিং দিব',\n",
              " 'ব্রিলিয়ান্ট',\n",
              " 'চিকেনটা অসাধারণ অপূর্ব',\n",
              " 'সত্যিই ভাল জায়গা তুলনাহীন আচরণও ভাল সেরা আতিথেয়তা খাদ্য ভাল প্রতিটি খাদ্য সত্যিই মজাদার যুক্তিসংগত মূল্য জায়গাটি দম্পতি বন্ধু পরিবারের ভাল অভ্যন্তর নকশা সুন্দর সবকিছুই পছন্দ হয়েছে',\n",
              " 'অপূর্ব খাবার গ্রেট সার্ভিস',\n",
              " 'ডিনারের সত্যিই ভাল জায়গা জ্যামাইকান কোরিয়ান চিকেন উভয়ের টেস্টই ভাল কম্বিনেশন পিজাটা দুর্দান্ত পারলে ভালো লাগবে',\n",
              " 'ভাল খাবার চমৎকার সেবা',\n",
              " 'বাংলাদেশকে এক কথায় বর্নণা সহজ শব্দ অসাধারণ নিখুত খাবারের ঐতিহ্য',\n",
              " 'ভালোবাসি',\n",
              " 'সুস্বাদু খাবারটা সত্যিই ভাল তৈরি আলুটা অসাধারণ',\n",
              " 'সুস্বাদু',\n",
              " 'অপূর্ব খাবার',\n",
              " 'একেবারে ভালোবাসি খাবারটা তাজা সুস্বাদু সম্ভবত মুহুর্তে ঢাকায় সেরা খাওয়ার জায়গা',\n",
              " 'অসাধারণ খাবার',\n",
              " 'ভাল জায়গা খাবার সত্যিই সুস্বাদু পরিবেশও ভাল লালবাঘ কেলার দৃশ্য কর্মীদের আচরণ ভাল দামও যুক্তিসঙ্গত',\n",
              " 'জায়গা বোম্ব জোস',\n",
              " 'চমত্ক',\n",
              " 'রাতে তে পরিবারের সাথে অপূর্ব ডিনার খাবারগুলো সুস্বাদু',\n",
              " 'স্টার দেয়ার নিজেকে থামাতে পারছিনা ভাল জায়গা দারুণ খাবার',\n",
              " 'চিকেনটা জাস্ট ওয়াওওওও',\n",
              " 'খাবারটা সুপার জায়গাটা সেরা',\n",
              " 'খাবারটা অসাধারণ',\n",
              " 'শ্রেষ্ঠ খাবার',\n",
              " 'খাবারটা স্বাস্থ্যকর হয়েছে তাছাড়া পরিবেশ লোকেশন দুইটাই আরামদায়ক',\n",
              " 'ফাটাফাটি অসাধারণ জোস',\n",
              " 'মতে সবচেয়ে আরামদায়ক জায়গা আচরণ খুবই বন্ধুত্বপূর্ণ',\n",
              " 'ইয়াম্মিইইইইইইইইইইই',\n",
              " 'চমৎকার খাবার',\n",
              " 'চমত্কার সেবা',\n",
              " 'গ্রেট ফুড ভাল সার্ভিস জায়গাটা নীরব সেরা রেস্টুরেন্টগুলার সহজেই রেঙ্কড যায়',\n",
              " 'অরিজিনাল চিকেন খাওয়ার নিয়েছিলাম স্বাদটা চমৎকার পরিবেশও ভাল সেরা',\n",
              " 'চিকেন সালাদটা অপুর্ব ডেজার্টটা আরো ভাল পারত সেরা জিনিস ফিডব্যাকের কথাটি শুনেছে সাথে সাথে ডেজার্টটা চেঞ্জ দিয়েছে ব্রিগ জেনারেল কাদের মামার মালিকদের একজন সাথে সময় কাটান ধৈর্য খাবার মেনু রিভিউগুলো শুনেছেন ধন্যবাদ অবশ্যই শীঘ্রই অন্যান্য আইটেমগুলো করব',\n",
              " 'সেরা গ্রিল্ড চিকেন',\n",
              " 'দুর্দান্ত খাবারের অসাধারণ সার্ভিস',\n",
              " 'সবচেয়ে ভাল জায়গা',\n",
              " 'ভাল চমত্কার ডেকোরেশন দামটা একটু বেশী খাবারটা সত্যিই ভাল তাজা স্পেশাল',\n",
              " 'ভাল আচরণ খাবার মজাদার',\n",
              " 'ভাল খাদ্য দাম অনুযায়ী',\n",
              " 'বাংলাদেশের সেরা খাবার',\n",
              " 'খুবই ভালো ভালবাসি',\n",
              " 'চমৎকার পরিবেশ ভাল ডেকোরেশন',\n",
              " 'গিয়েছিলাম এককথায় সেরা প্রাইচ সেরা ফুড',\n",
              " 'ডেকোরেশনট ভাল সার্ভিসও ভাল ফাস্ট স্পেশাল জিনিস খাবারের মান খুবই সুস্বাদু ইয়াম্মিইইইই ফ্রি ওয়াইফাইও চমৎকার আচরণ সার্ভিস',\n",
              " 'খাবারটা ইয়াম্মিইইইই সার্ভিসটাও ভাল',\n",
              " 'সেরা খাবার স্বাদ টাকাটা খরচ সম্পূর্ণ প্লিজ চেক রিকমেন্ডেড',\n",
              " 'ইয়াম্মিইই খাবার চমৎকার আচরণ',\n",
              " 'অসাধারণ শ্রেষ্ঠ কফি',\n",
              " 'ভালো সময় কাটানোর যায়গাটি খুবই অসাধারণ পছন্দ হয়েছে খুবই সুস্বাদু পিজা পাস্তা ভাল লেগেছে পিজ্জার দামও যুক্তিসঙ্গত',\n",
              " 'যাত্রাবাড়ীতে জন্মদিন পালনের সবচেয়ে ভাল জায়গা',\n",
              " 'ভাল',\n",
              " 'সার্ভিসটা ভাল খাবারের মানও ভাল',\n",
              " 'ফ্যামিলিকে সাথে ইফতার গিয়েছিলাম ইফতারের মেনু ভাল আমিমনে পরিবার বন্ধুদের সাথে সুন্দর জায়গা খাবারের মানও ভাল পরিষ্কার পরিষ্কার ক্যাফে',\n",
              " 'ভাল রেস্টুরেন্ট ডেকোরেশনটা বিস্ময়কর আউটডোরটা বিস্ময়কর যুক্তিসংগত দাম সাথে খাবারটা সার্ভিসটা চমৎকার মানের জায়গাটি ভালোবাসি আরো অনেকবার চাই',\n",
              " 'স্টার খুবই ভাল রেস্তোরাঁ পরিবেশটা চমৎকার অপুর্ব খাবার পুরোপুরি ওয়েটার পরিবেশিত রেস্টুরেন্ট ভালবাসি',\n",
              " 'আচরণ সার্ভিস খুবই সন্তুষ্ট খাবারের মান ভাল খুশি নিশ্চয়ই জায়গাটায় আসব সর্বোপরি আচরণ ভাল',\n",
              " 'সাধারণত পোস্ট মন্তব্য জায়গাটি অসাধারণ খাবারটিও সুস্বাদু স্টাফগুলোও জোস বন্ধুত্বপূর্ণ সার্ভিসটা ভাল ধন্যবাদ বলছি',\n",
              " 'খাওয়া সেরা সেট মেনু থাই স্যুপটি সুস্বাদু মসলাযুক্ত জোস সার্ভিস আচরণ অসাধারণ সত্যিই জায়গাটি খাবার পছন্দ হয়েছে',\n",
              " 'চমৎকার পরিবেশ খাবারের মান জোস হাইলি রিকমেন্ডড',\n",
              " 'খাবার দারুণ বার্গারটা অসাধারণ এরাবিয়ান মাস্টার পুরো শহরে দোকানের মাস্টার ইনশাআল্লাহ',\n",
              " 'চমৎকার জায়গা এমনকি খাবারও সুস্বাদু এমনকি খাবারের মান ভালমত বজায় রাখে',\n",
              " 'খাবার খুবই ভাল জায়গাটিও চমৎকার ভিউটা অসাধারন ভিউটা ভাল লেগেছে',\n",
              " 'যুক্তিসংগত দামের সাথে চমৎকার মানের খাবার সেবা তাছাড়া পরিবেশ সুন্দর গ্রাহকদের পুরোপুরি সার্ভিস দিচ্ছে মসলাটা অসাধারণ',\n",
              " 'চমৎকার পরিবেশ টেস্টি খাবার লোকের পার্টি দিয়েছিলাম সকলেই খাবারগুলো পছন্দ স্টাফদের ব্যবহারও ভাল ইনশা আল্লাহ আসব',\n",
              " 'সত্যিই প্রশংসনীয় সুন্দর জায়গা রেষ্টুরেন্টের প্রেমে পড়ে গিয়েছি খাবার খুবই সুস্বাদু কর্মীরাও ভাল অনুগত ভাল',\n",
              " 'রেস্টুরেন্টটা ভাল ডেকোরেশনটা অসাধারণ খাবার ভাল মূল্যও যুক্তিসঙ্গত কোয়ালিটিও ভাল ব্যবসার শুভেচ্ছা',\n",
              " 'ওসসসাম খাবারে কোয়ালিটি ভালবাসি সুন্দর জায়গা',\n",
              " 'স্পাইসি ৬ চমৎকার অভিজ্ঞতা খাবারের কোয়ালিটি সেবা দুইটাই চমৎকার জায়গাটি ভালোবাসি',\n",
              " 'যেহেতু খাবার পরিবেশ খুজতে ভালোবাসি কেবল পরিবেশ অবশ্যই খাবার পছন্দ করেছি সন্তোষজনক',\n",
              " 'যাই যাওয়াটা চমৎকার অভিজ্ঞতা স্ট্রবেরি শেক ভালবাসা এটাকেই অগ্রাধিকার দিব',\n",
              " 'প্রায়ই আসা নিয়মিত গ্রাহকের মত খাবারের মান পরিবেশ দুইটাই ভাল পিজা সেট মেনুর দুইটাই জোস',\n",
              " 'সুন্দর',\n",
              " 'অপুর্ব খাবার সেরা সেবা চমৎকার ডেকোরেশন সামগ্রিকভাবে উপভোগ চমৎকার জায়গা',\n",
              " 'জায়গাটি সুন্দরভাবে সজ্জিত খাদ্যের মানও প্রশংসনীয়',\n",
              " 'স্থান খাবার ইন্টেরিওর সেবা ভাল স্পাইসি এওর শুভকামনা আল্লাহ আপনাদের আশীর্বাদ করুক',\n",
              " 'জায়গাটা অসাধারণ পছন্দ ডেকোরেশনটা ভাল',\n",
              " 'অপুর্ব ইন্টেরিওর খাবারটা ভালো ভাল সময় কাটানোর সুন্দর জায়গা',\n",
              " 'অনুভুতি অভিজ্ঞতা বলি শব্দে স্পাইসি ৬ সেরা',\n",
              " 'খাবারের মান খুবই স্বাস্থ্যকর ভাল পছন্দ',\n",
              " 'ইন্টেরিওর আচরণ সবই চমৎকার ভাল খাবার যুক্তিসংগত মূল্য',\n",
              " 'পরিবেশ খাবার সার্ভিস সবকিছুই সেরা',\n",
              " 'লালবাগের রেস্টুরেন্টের তুলনায় পরিবেশ ভালো সেবাও ভাল',\n",
              " 'জোস একটা জায়গা সুন্দর ডেকোরেশন সুস্বাদু খাবার',\n",
              " 'ভাল সময় ভাল খাদ্য অসাধারণ জায়গা সুন্দর ডেকোরেশন',\n",
              " 'জানিনা আসিনাই সত্যিই অসাধারণ নিখুঁত কফি',\n",
              " 'নম্র আচরণ খাবার স্বাস্থ্যকর সুস্বাদু',\n",
              " 'ভালবাসি',\n",
              " 'ভালো খাবার',\n",
              " 'কোল্ড কফিটা খুবই ভাল আপনারা ট্রাই',\n",
              " 'পুরনো ঢাকায় সর্বোত্তম অনন্য খাবারের কন্সেপ্ট খাবার পছন্দ করেছি',\n",
              " 'চমৎকার জায়গা ভাল খাবার',\n",
              " 'চমৎকার স্বাদের খাবার ডোসা স্বাদ সেরা',\n",
              " 'চমৎকার বন্ধুত্বপূর্ণ পরিবেশ ভাল খাবার মতে সেট মেনুটা সেরা বজায় রাখেন',\n",
              " 'প্রথমত গ্রেট ডেকোরেশন গ্রেট আতিথেয়তা যুক্তিসঙ্গত খাবারের মূল্য খাবার একেবারে জিভে জল এনে দেওয়ার মত মেনুতে প্রশংসাসূচক খাবারের ধন্যবাদ করাহী চোল ভাতোর চুদি আলু পরাথা বেশিরভাগ হায়দরাবাদী ডোসা পুরনো ঢাকায় সবচেয়ে ভাল রেস্তোরাঁ চাই এক কথায় লাজাওয়াব',\n",
              " 'ভারতীয় খাবারের খাঁটি পরীক্ষা এককথায় জিভে জল এনে দেওয়ার মত খাবার গুণমান সার্ভিস সেরা পরিবেশ আপনারা ভাল যেহেতু আপনাদের কাস্টমার আপনাদের সাজেশন দেব আপনাদের জায়গাটা বড় আপনাদের চমৎকার সেবার ধন্যবাদ আপনাদের সৌভাগ্য কামনা করছি ডোসা লাজাওয়াব রক্স',\n",
              " 'চমৎকার খাবার খাবারের গুণগত মানও ভাল দাম সস্তা ফ্রেন্ড ফ্যামিলির সাথে হ্যাংআউট দুর্দান্ত জায়গা সেখানের সার্ভিসও ভাল সেরা সার্ভিস ভাল খাবার',\n",
              " 'গতকাল স্ত্রী আপনাদের দই ফুচকা স্পেশাল মিক্সড নুডলস খেয়েছিলাম দুজনই আপনাদের খাবারের ফ্যান হয়ে গিয়েছি সুন্দর ডেকোরেশন সেবার সাথে সুন্দর চমৎকার খাবারও সবই দুর্দান্ত ধন্যবাদ',\n",
              " 'পুরাতন শহরে ডোসা লাজাবাব সবচেয়ে ভাল খাবারের দোকান খাবারগুলো তাজা সুস্বাদু',\n",
              " 'সস্তা দামের সাথে চমৎকার খাবার খাদ্যের মানও ভালো ভালোবাসার জায়গা',\n",
              " 'বেশিরভাগ খাবারই সুস্বাদু ভাল এলাকার সেরা রেস্টুরেন্ট',\n",
              " 'বড় জায়গা কোয়ালিটি ভাল খাবার পছন্দ দুর্দান্ত ভাল সুস্বাদু খাবার খাওয়ার সময় যাই',\n",
              " 'জায়গা খাবার ভালো লাগে ভাল ব্যবহারের ভাল খাবার',\n",
              " 'খাবারের আইটেমগুলো চমৎকার সস্তা ভাল জায়গাটা ছোট ডেকোরেশটা সুন্দর',\n",
              " 'বন্ধু জন্মদিনের উপলক্ষ্যে গিয়েছিলাম সম্পূর্ণরূপে আশ্চর্যজনক খাবার সত্যিই ভাল সবাই উপভোগ করুন',\n",
              " 'অপ্রত্যাশিতভাবে প্রথমবারের গিয়েছিলাম খাবারটা এতই সুস্বাদু আশা নি সেবাও অন্যদের দ্রুত কিনা উপভোগ মত',\n",
              " 'সেরা সেরা সেরা খাবার আতিথেয়তা পছন্দনীয়',\n",
              " 'সুস্বাদু সুস্থ অসাধারণ খাবার স্থান ছোট',\n",
              " 'পুরানো শহরে সেরা খাবার সবকিছু ভাল সুস্বাদু',\n",
              " 'সুস্বাদু ভাল মানের খাদ্য পরিবেশন কর',\n",
              " 'খাবারে মান সেবা খুবই ভাল',\n",
              " 'বিবিকিউ সিজনের পরীক্ষা করেছি চিজ সুপ্রিম পিজা ভাল তাছাড় সেবাও ভাল',\n",
              " 'পরিবেশ সত্যিই ভাল খাবার মোটামুটি সেবা আগের ধীর গতির আচরণ ভাল গান নির্বাচনও ভাল ছিলো',\n",
              " 'এখানকার খাবারের মান উন্নত ভালো টেস্টি মজাদার সার্ভিসটাও ভালো সবাইকে মুগ্ধ দিলো',\n",
              " 'পিজা ভালোবাসা গিয়েছিলাম পরিবেশ ভাল',\n",
              " 'এককথায় পিজাটা এটার টেস্ট চাই',\n",
              " 'গ্রেট জায়গা আচরণ ভাল চলতে থাকুন',\n",
              " 'হ্যাঙ্গআউটের চমৎকার জায়গা সেবা ভাল',\n",
              " 'যুক্তিসঙ্গত মূল্য সুস্বাদু পিজা সাথে ডিসকাউন্ট অফার পছন্দনী',\n",
              " 'গ্রেট খাবার ললিপপ চিকেন প্রত্যেকেরই স্বাদ নেয়া',\n",
              " 'আশ্চর্যজনক খাদ্য মহান আতিথেয়তা সত্যিই প্রভাবিত হওয়ার মত',\n",
              " 'অসাধারণ',\n",
              " 'খাদ্য ভাল সার্ভ',\n",
              " 'খাবার অসাধারণ মিস',\n",
              " 'চমত্কার খাদ্য',\n",
              " 'কিচু বলার খাওয়ার টেস্ট ভাল ভালবাসা',\n",
              " 'এটার খাদ্যের মান ভাল সুস্বাদু',\n",
              " 'পিজা অন্যান্য খাবার চমৎকার সার্ভিস ভাল',\n",
              " 'সুস্বাদু খাদ্য সেবায় সন্তুষ্ট ভালবাসি',\n",
              " 'দারুন খাবার চিকেন পরিদর্শন খাবারে স্বাদ গ্রহন',\n",
              " 'অসাধারণ মানের খাবার',\n",
              " 'ভাল পরিবেশ পছন্দ হয়েছে ভেতরগত চমৎকার আরামদায়ক আসনও রয়েছে পছন্দনীয় স্টাফরা ভাল এটাও পছন্দনীয় মুরগিটা সুস্বাদু পছন্দনীয়',\n",
              " 'চমত্কার খাদ্য কোরিয়ান প্লেটটা আবশ্যক শুভ কামনা',\n",
              " 'চমতকার সেবা দারুন খাবার',\n",
              " 'ভাল খাদ্য অসাধারণ সেবা বছর আসছি সেরা জিনিস খাবারের মান সার্ভিসে সামঞ্জস্যতা রাখে',\n",
              " 'শহরে সেরা মুরগী সার্ভ সেবা খাবার খুশী',\n",
              " 'সেরা পরিবেশনা',\n",
              " 'মানসম্মত খাদ্য অসাধারণ পরিবেশ সর্বোত্তম সেবা',\n",
              " 'ভালবাসি',\n",
              " 'চমৎকার',\n",
              " 'কর্মীরা খুবই বন্ধুত্বপূর্ণ ভাল খাবার ঘরোয়া পরিবেশ ছিলো',\n",
              " 'অসাধারণ',\n",
              " 'আকর্ষণীয় পরিবেশনা ভাল মানের খাবার',\n",
              " 'চিকেনের স্বাদটা অসাধারণ অতিরিক্ত সুস্বাদু মুরগির আইটেমগুলো পছন্দনীয়',\n",
              " 'চমৎকার খাদ্য ভাল গ্রাহক সেবা',\n",
              " 'খাবারটা ভালোবাসি',\n",
              " 'কয়েকবার গিয়েছিলাম যাইহোক সত্যিই জামাইকান গ্রিল ভেজি ফ্রাইড রাইস গ্রিন অ্যাপল জুস উপভোগ করেছি চমৎকার খাবার বন্ধুত্বপূর্ণ সার্ভিস',\n",
              " 'পরিবেশটা খুবই ভাল সেবাও চমৎকার',\n",
              " 'জোস জায়গা ভাল পরিবেশ ব্যক্তিগতভাবে পছন্দ করেছি',\n",
              " 'অসাধারণ খাবার চমত্কার ইন্টেরিওর ওয়েটারদের বিহেভ ভাল',\n",
              " 'প্রকৃতপক্ষে সাধারণত রিভিউ লিখি একজন গুরুতর সমালোচক সমালোচনার স্তর বেশী সত্যিই আপনাদের রেস্টুরেন্ট বেশী ভ্ল লাগছে আপনাদের কোরিয়ান বিবিসি জামাইকান অসাধারণ খাবারের মান এককথায় জোস',\n",
              " 'আচ্ছা খাবারটা ভাল অভ্যন্তরীণ নকশাও সুন্দর তাছাড়া পরিবেশ শান্ত ব্যাকগ্রাউন্ড সঙ্গীতটা ভাল',\n",
              " 'প্রিয় জায়গা সেরা',\n",
              " 'সুস্বাদু খাবার আশ্চর্যজনক আইটেম পরিবেশন আসলেই ভাল',\n",
              " 'গ্রেট খাবার পরিবেশ জায়গা ভালোবাসি',\n",
              " 'পরিবার ভাল জায়গা খেলার মাঠ খাবার সম্পর্কে সত্যিই অসাধারণ সুস্বাদু',\n",
              " 'খাবার সত্যিই ভাল প্রচুর খাবার অর্ডার দিয়েছিলাম জিনিস উপভোগ করেছি প্রিয় মাশরুম স্যুপ সুপরিচিত জামাইকান গ্রিলের তুলনায় ভাল স্বাদ স্মোকি নমনীয় রসিক স্বাদ স্বাদ কুঁড়িগুলির সাথে পুরোপুরি মিলে যায় যথোপযুক্ত গরম মশাল পরিবারের সাথে চমৎকার সময় কাটল',\n",
              " 'পরিবেশ খাবারের স্বাদ অসাধারণ চাই',\n",
              " 'শহর সেরা রেস্টুরেন্ট',\n",
              " 'জ্যামাইকান বিবিসি সেরা চমৎকার পরিবেশ ধন্যবাদ',\n",
              " 'সুস্বাদু খাবারের চমৎকার জায়গা',\n",
              " 'গুলশানে ২ খাওয়ার গিয়েছিলাম প্রতিটি অনুষ্ঠানে পুরোপুরি খুশি হয়েছি সুন্দর পরিবেশ ওয়েটাররাও বন্ধুত্বপূর্ণ পরিষ্কার টেবিল সুস্বাদু খাবার বিস্তারিত থাকলে ডিশ সবসময় দেয়া ফলক মাশরুম স্যুপ কোরিয়ান চিকেন আইটেম খেয়ে কখনই হতাশ',\n",
              " 'সকল মানুষজন মত খাদক টাইপের এরাবিয়ান মাস্টার চমৎকার জায়গা পরিবেশ খাবারের মান খুবই ভাল কর্মীদের আচরণ চমৎকার ভাল পরিবেশ উপযুক্ত মূল্যের খাদ্য এককথায় এরাবিয়ান মাস্টার অসাধারণ',\n",
              " 'স্বাদটা রাখার মত অতিথেয়তা টা সেরা বাচচাদের বন্ধুত্বপূর্ণ',\n",
              " 'জ্যামাইকান গ্রিল প্লেটারটা সত্যিই ভাল',\n",
              " 'খাবার টা ভালো',\n",
              " 'ঢাকার উপরের বন্ধনীতে অসাধারণ স্বাদ সেবা মনোরম পরিবেশের কারণে কাস্টমারদের অন্যতম এক রেস্তোরাঁ নিশ্চিতভাবে শীর্ষস্থানীয় রেস্টুরেন্ট গুলোর হৃদয় জুড়ানো খাবারের বেশী প্রিয়',\n",
              " 'জ্যামাইকান গ্রিল প্লেটটারটি সত্যিই আসাধারণ মুরগিটা জুসি তাজা নি সন্দেহে ঢাকার শ্রেষ্ঠ রেস্তোরাঁগুলোর পছন্দ সম্ভবত আবর্জনা খা়ন যাব কর্মীদের আতিথেয়তা বেশিই ভাল',\n",
              " 'খাওয়ার গ্রেট জায়গা সত্যিই কোরিয়ান চিকেন প্যারিস উইংস পছন্দনীয় পাশাপাশি সার্ভিসটাও চমত্কার মহান',\n",
              " 'খাবারটা অসাধারণ ছিলো',\n",
              " 'খাবারটা প্রত্যেকবার তে যাই শুধুমাত্র ভাল রান্না মুরগি',\n",
              " 'আপনাদের খাবার অসম্ভব রকমের ভাল লেগেছে চালিয়ে আপনাদের কোরিয়ান টা চমৎকার',\n",
              " 'খাবারের মানটাই অসাধারণ লেগেছে পিজার সমন্বয়টা অস্থির সাথে প্রিয়',\n",
              " 'জায়গাটি আরামদায়ক খাবারগুলো সুস্বাদু প্রতিটি আইটেমই স্বাদে ভরপুর সেট মেনু সর্বোত্তম সবচেয়ে গুরুত্বপূর্ণ বিষয় আচরণ বন্ধুত্বপূর্ণ ভাল জায়গা পরিবেশ ভাল সকল কর্মীদের আচরণ ভাল খাবারের মূল্যও যুক্তিসঙ্গত সর্বোপরি সার্ভিস সিস্টেম আচরণ জায়গা সবকিছুই পছন্দ করেছি',\n",
              " 'আপনাদের পিজাটা এককথায় জোস ভালবাসা পিজা',\n",
              " 'লাঞ্চের প্রিয় জায়গা খাবারের মান অসাধারণ',\n",
              " 'এক শব্দে আসাধারণ',\n",
              " 'প্রথমে খাবার সুস্বাদু চমৎকার লোকেশন বুঝতে পারছি দাম রাখছে',\n",
              " 'জায়গার খাবার সার্ভিস সবকিছুই ভালোবাসা নিখুঁত',\n",
              " 'খাবারটা জোস বসার যেই এরেঞ্জমেন্ট আরো সেরা',\n",
              " 'ভাল খাবারের ভাল পরিবেশ পছন্দ হয়েছে এগিয়ে',\n",
              " 'সত্যিই সুস্বাদু খাবার সাথে ইম্প্রেসিব সার্ভিস',\n",
              " 'সুন্দর জায়গা খাবারও সুস্বাদু খাবার জায়গা সবাইকে বলব',\n",
              " 'আইটেমগুলো সুস্বাদু সেরা অসম্ভব ভাল লেগেছে',\n",
              " 'তারকা মহান আরামদায়ক পরিবেশ পিজাটা সর্বশ্রেষ্ঠ সেরা',\n",
              " 'ফুড খুবই পছন্দ চমৎকার পরিবেশ জিভে জল এনে দেওয়ার মত খাবারের স্বাদ',\n",
              " 'জোস খাবার',\n",
              " 'ক্লাসি খাবার',\n",
              " 'প্রথমবার ডেকোরেশন পরিবেশ পছন্দনীয় খাবারের স্বাদটা গ্রেট বন্ধু পরিবারের সাথে যাওয়ার সুপারিশ করব',\n",
              " 'খাওয়া সেরা ফ্রাইড চিকেন জোস সবসমইয়ই প্রয়োজন',\n",
              " 'ভালবাসি',\n",
              " 'নি সন্দেহে মুরগির রেসিপির শহরের সেরা জায়গা',\n",
              " 'পিজাটা সেরা এটার আসব',\n",
              " 'করররররররা',\n",
              " 'কোরিয়ান থাইস পৃথিবীতে শ্রেষ্ঠ জিনিস',\n",
              " 'সেবা পছন্দনীয় মহান ভাল অভিজ্ঞতা শীঘ্রই পরিদর্শন',\n",
              " 'জায়গাটি ভালোবাসা সুন্দর পরিবেশ',\n",
              " 'ভাল মসলাযুক্ত',\n",
              " 'আশ্চর্যজনক পরিবেশ পছন্দনীয় ধূমপান অঞ্চল এছাড়াও খাবারটাও সময়মত পরিবেশন হয়েছিল',\n",
              " 'খাদ্য প্লেস রেস্টুরেন্টের পরিবেশ সবই ভাল',\n",
              " 'পরিদর্শন করেছি জায়গা সেবা সজ্জা খাবার সবই পছন্দনীয় দাম একটু বেশী',\n",
              " 'খাদ্যের মান স্বাদ অফারটা ভাল',\n",
              " 'উইংসের অফারটা ভাল আমাদেরটাতে তিনটি স্বাদ সবই ভাল রাখেন',\n",
              " 'ভাল ইন্টেরিওর ডিজাইন কর্মী সেবা দুইটাই ভাল খাদ্যে ধরনের স্বাদ জামাইকান সত্যিই সুস্বাদু মূল মাশরুমের ক্রিম গোলাকার আকৃতির রুটিতে পরিবেশন সুস্বাদু রকমের অন্যান্য খাবার ভাল সুশোভিত স্বাদেও ভাল দাম উচ্চ রেস্টুরেন্টের সামনের দিকটা গ্যারেজ মত দেখায়',\n",
              " 'এককথায় ভাল খাবার সত্যিই ভাল',\n",
              " 'খাবার সুন্দর ভিড়ের সময় সার্ভিসে আরো মনোযোগ অতিথিরা আসে গ্লাস পরিবেশন পানির গ্লাসের অনেকবার ওয়েটারকে ডাকতে হয়েছিল ডাকার গ্রীন স্যালাতের মান মূল্যের ভিত্তিতে কিছুটা বাড়াতে জন্মদিনের উদযাপনের যেহেতু বুক ছোট ছোট কেক সাজানো ভাল উপরের পয়েন্ট শুধুমাত্র ব্যক্তিগত মন্তব্য',\n",
              " 'পিজাটা স্বাদযুক্ত পরিবেশন দেরি সার্ভিসের গুণমান উন্নত হব',\n",
              " 'শহরে সেরা গ্রিলস সেহরি ইফতারের খাবার পছন্দনীয় খাবার তাজা ময়লা পাত্রোতে কিছুটা উন্নতি চাই স্বাদযুক্ত পাত্রোয়ের তুলনায় পোড়ামাটির স্বাদ একটু পুরু ঘন জামাইকান কোরিয়ান খাবার ভালবাসি',\n",
              " 'অনেকবার গিয়েছিলাম সর্বদাই সার্ভিসে সন্তুষ্ট শিশুদের ছোট জায়গা ছোট্ট সন্তানের খুবই সহায়ক',\n",
              " 'খাদ্য ভাল অসাধারণ অভিজ্ঞতা',\n",
              " 'জামাইকান চিকেনের সময় যাব ভাল',\n",
              " 'কখনো বাংলাদেশের বাইরে ফ্র্যাঞ্চাইজিতে যাইনি খাবার ভাল কয়েকবার গিয়েছিলাম সাধারণত জামাইকিন গ্রিল চিকেন অর্ডার মাশরুমের স্যুপ দিয়ে পরিবেশ ডেকোরেশন শিশুদের খেলার জায়গা সবি ধূমপায়ীদের সুন্দর ব্যালকনি',\n",
              " 'পেন মাশরুম স্যুপ কোরিয়ান চর্বিযুক্ত মুরগি নিয়েছলাম অভিজ্ঞতা একজন ফুডি যাওয়ার অপেক্ষায় থাকলাম',\n",
              " 'নিয়েছিলাম সবকিছুর স্বাদ ভাল দাম একটু একটু উচ্চ',\n",
              " 'সুপার সুস্বাদু মুরগী মাশরুম ক্রিম স্যুপের কারণে আসলে ঢাকায় প্রিয় রেস্টুরেন্টগুলির ভ্যালেন্টাইন প্লেটের কথা উল্লেখ বিশেষত আহামরি চালট দুইজনের আসলেই অদ্ভুত আকৃতির স্যান্ডউইচ হ্যাঁ মুরগি অন্যান্য মুরগির প্লেটের তুলনায় মূল্যের কথা ভাল',\n",
              " 'ভাল মানের খাবার ভাল জায়গা যাব',\n",
              " 'সেট মেনুটা ভাল ড্রিঙ্কসটা ভয়ঙ্কর',\n",
              " 'মহান অভিজ্ঞতা শীঘ্রই',\n",
              " 'অত্যন্ত সুস্বাদু খাবার পরিষ্কার শালীন জায়গাটি ভালবাসা',\n",
              " 'সত্যিই খাবার জামাইকান চিকেন পেন মাশরুম স্যুপ পছন্দ সপ্তাহে যাই ধনমন্ডি শাখায় গিয়েছিলাম গুলশান ২ শাখার তুলনায় বাজে স্যুপে মরিচ গানের সাউন্ড উঁচু গুলশান শাখা পছন্দ এখানের শেফরাই আসল শেফ তৈরী খাবার প্রেম পড়ে গিয়েছি',\n",
              " 'বাংলাদেশের খাবার একটা ভালোবাসা ভাল অংশ অসাধারণ স্বাদ খাবারে সন্তুষ্ট',\n",
              " 'ভাল খাদ্য বন্ধুত্বপূর্ণ সার্ভিস আশা যায়',\n",
              " 'ভাল খাদ্য সেবা পাশাপাশি কর্মীরাও ভদ্র আরো আসতে পারলে ভাল লাগবে',\n",
              " 'গ্রেট সার্ভিস খুবই ভাল খাবার পরিবেশ একটু দামী',\n",
              " 'সাথে করাটা সত্যিই দুর্দান্ত সত্যিই মুগ্ধ হলাম অসাধারণ টেস্ট মানসম্মত খাবার নম্র এবংসবকিছু মিলিয়ে জোস পরিবেশ খাবারের মান সার্ভিস বজায় রাখুন',\n",
              " 'খাবারের মান ভাল স্বাদও ভাল অন্যরকম',\n",
              " 'মুরগিটা ভাল ছিলনা সার্ভিসটা প্রত্যেক পর্যায়েই ভাল',\n",
              " 'কোরিয়ান চিকেনটাই পরিবেশন সবচেয়ে ভাল খাবার মাশরুম স্যুপটাও ভাল অন্যান্য অধিকাংশ খাবার লবণ দিয়ে পূর্ণ সেবা পরিবেশও চমৎকার',\n",
              " 'ভাল খাবার ওয়েটাররা ভাল আচরণ',\n",
              " 'গ্রেট খাবার বসার ব্যবস্থা ছিলনা',\n",
              " 'খাবার ভাল একটু টাকা প্রস্তুত',\n",
              " 'কোরিয়ান চিকেনটা সত্যিই ভাল সবাইকে সুপারিশ করব',\n",
              " 'ভাল পরিবেশের সাথে ভাল মানের খাবার ধন্যবাদ',\n",
              " 'দারুন খাবার সেবা আরো ভাল পারত ব্যাকগ্রাউন্ডে বাজানোর ল্যাটিন মিউজিকটা আরো উপযুক্ত হওয়া দরকার',\n",
              " 'ভাল পদক্ষেপ',\n",
              " 'জায়গার ইতালিয়ান খাবারটা ভাল',\n",
              " 'খাবারটা ভাল ব্যয়বহুল',\n",
              " 'ভাল খাবার সুন্দর পরিবেশ',\n",
              " 'টেস্ট ভাল চিকেন প্লেটার সেবাটা একটু ভাল পারত সর্বোপরি বন্ধু পরিবারকে মত সুন্দর জায়গা',\n",
              " 'সহকর্মীদের গিয়েছিলাম খাদ্য অস্থির আপনাদের আতিথেয়তা আশ্চর্যজনক',\n",
              " 'ভাল খাবার',\n",
              " 'ভাল সাস্থ্যকর খাবার',\n",
              " 'খাবার ভাল সুস্বাদু খাবার পরিবেশন সময় নেয় সামগ্রিকভাবে ভাল জায়গা',\n",
              " 'গ্রেট খাবার ভাল জায়গা ভাল মূল্য কর্মচারীরাও ভালো',\n",
              " 'যতক্ষণ সঠিক জিনিস অর্ডার ততক্ষ্ণ ভাল খাবার পাবেন',\n",
              " 'কোরিয়ান চিকেন ভালবাসা',\n",
              " 'শ্রিম্প গর্গোজোলা পিজা চিকেন ক্রিম পাস্তাটা ট্রাই করেছিলাম পারফেক্ট',\n",
              " 'চমত্কার খাদ্য ম্যানেজারের গ্রেট সার্ভিস পেয়েছি গাড়ি বের আনলেন সত্যিই কৃতজ্ঞ ঢাকায় জায়গায় ওয়েটারদের কিছুটা শিখা দরকার',\n",
              " 'দারুন জায়গা',\n",
              " 'খারাপ ন্ম্র ভাল',\n",
              " 'ভাল খাবার চমৎকার সার্ভিস এরকম খাদ্য সার্ভিস চালিয়ে',\n",
              " 'খাবারটি ভালো ডিনারটা আরো উপভোগ করতাম বসার জায়গাটা আরো প্রশস্ত',\n",
              " 'ভাল খাবার',\n",
              " 'অসাধারণ খাবার লোক দাম সম্পর্কে অভিযোগ করছিল কম দামই মহান কাজটি চালিয়ে',\n",
              " 'প্রতিদিন যাই বললাম',\n",
              " 'রেস্টুরেন্টের সূচনা আসছি খাওয়ার অন্যতম প্রিয় জায়গা কর্মীদের সুন্দর মেনুতে পিজাটা জোস',\n",
              " 'জায়গাটা জোস সবসময় খাবার সার্ভ ইনশাআল্লাহ সফলতা আসবে',\n",
              " 'খাবারগুলো ইয়াম্মিইইইই ইচ্ছে প্রতিদিন খাই',\n",
              " 'চমৎকার ইন্টেরিওর খাবার খুশি',\n",
              " 'খাবার স্বাদ দুইটাই ভাল লেবুটা অবশ্যই ট্রাই',\n",
              " 'খাবারটি ভাল সার্ভিস খুবই ধীরগতির কর্তৃপক্ষের বড় হাততালি ব্যক্তিগতভাবে চার্জ গ্রহণ নিশ্চিত দ্রুত খাবার পাই',\n",
              " 'জামাইকান গ্রিল চিকেনটা স্বর্গীয় একটা ভালবাসা সর্বদা জন্যই যাই দামী চমত্কার',\n",
              " 'পুরো এলাকাটাই সুন্দরভাবে সাজানো রাতের দৃশ্যটা রঙিন সামনের দিকটা সুন্দর',\n",
              " 'আউটডোর খুবই গরম পাখা রেস্টুরেন্টের খারাপ দিক এছাড়া ভালো খাওয়ার ভালো জায়গা নিয়মিত যাওয়ার করব',\n",
              " 'টাইম স্পেন্ড চমৎকার জায়গা',\n",
              " 'ডেকোরেশনটা অসাধারণ আশা খাবারের স্বাদ আরো বাড়বে মসলার শুভকামনা জায়গাটির ডেকোরেশনটা অসম্ভব পছন্দ করেছি',\n",
              " 'অসাধারণ জায়গা',\n",
              " 'খাবার সুস্বাদু খাবার এভারেজ মানের পরিমাণ ভাল পরিবেশও ভাল',\n",
              " 'সুন্দর',\n",
              " 'আসল মসলার মজা অনুভব যায় জোস',\n",
              " 'বাইকারদের ঠাণ্ডা শান্ত জায়গা খাবারও ভালো',\n",
              " 'ফ্রেন্ডস পরিবারের সাথে চিল ভাল জায়গা সেরা জিনিস হট কফিটা স্বাদ ভাল দরকার আইটেমগুলি ট্রাই দরকার চালিয়ে',\n",
              " 'সাশ্রয়ী মূল্যের খাবারের স্বাদও ভাল',\n",
              " 'ভালো লাগল ছোট স্পেসে হোমমেড পেস্ট্রি কেকস ইতাদি কোল্ড লফিটা অন্যরকম',\n",
              " 'সুস্বাদু খাবার পরিমাণও মানও ভাল অল্প সময়ের আইটেম সরবরাহ টিপস গ্রহণযোগ্য',\n",
              " 'গতকাল বন্ধুদের সাথে গিয়েছিলাম অসাধারণ ডোসাটা ওয়াও সস্তা কউই খাবারটা খেতে পারবে টিপস দেওয়ার করেছি অস্বীকার আশ্চর্জনক ব্যাপার কারন যেখানেই যাই সবসময় টিপসের পাশে অন্যদের আচরণের সাথে সন্তুষ্ট ইনশাআল্লাহ আসব',\n",
              " 'ভাল খারাপ ভারতীয় ডোসার মত ভারতীয় ডোসা সুস্বাদু বাংলাদেশে সেরা',\n",
              " 'চমৎকার কোয়ালিটির খাবার সস্তা দামে হ্যাংআউট দুর্দান্ত জায়গা সার্ভিসটা ভাল সামগ্রিকভাবে ভালোবাসা ভালো লাগে ডোসা লাজাওয়াব',\n",
              " 'খাবারের মান ভাল ছোট সত্ত্বেও জায়গাটি ভালভাবে ডেকোরেটেড দামও যুক্তিসঙ্গত',\n",
              " 'ভাল',\n",
              " 'একটা অসাধারণ জায়গা খাবারের স্বাদ মান ভাল সার্ভিস দ্রুত',\n",
              " 'বছর আসল ডোসার স্বাদ পেলাম অবশ্যই',\n",
              " 'খাদ্য সেবা ভাল খাবারের মান ভাল পারত',\n",
              " 'শহরের সেরা মুরগি মুরগীর মাংস ভালবাসেন খেয়ে',\n",
              " 'বন্ধুদের সাথে ঘুরার মহান জায়গা সাথে জিভে জল এনে দেওয়ার মত খাবার পিজাটা',\n",
              " 'এরাবিয়ান মাস্টারের খাবার ভাল মজা উচিত্ মজার মজার খাবার উপভোগ এমনকি খাবারের দামও যুক্তিসংগত',\n",
              " 'স্বাদ ভাল পরিবেশন দ্রুত ডেকোরেশনটা একটু আপগ্রেড',\n",
              " 'খাবার পছন্দ হয়েছে সার্ভিস ভাল',\n",
              " 'চমত্কার লাঞ্চ',\n",
              " 'বন্ধুত্বপূর্ণ স্টাফ ভাল খাদ্য সুপরিচিত পরিবেশ',\n",
              " 'আচ্ছা খাবার ভাল অভ্যন্তরীণ নকশা সুন্দর পরিবেশ শান্ত আবহসংগীত ভাল এটাকে দেব',\n",
              " 'মত ভোজন রসিকদের আরব মাস্টার একটা চমৎকার জায়গা পরিবেশ খাদ্যের মান ভাল বিশেষভাবে কর্মীদের সুন্দর ভাল পরিবেশ খাদ্য এসব আরব মাস্টার উপযুক্ত মূল্য এককথায় সন্ত্রস্ত',\n",
              " 'মহান স্বাগত বায়ুমণ্ডল পিজা সর্বশ্রেষ্ঠ সেরা',\n",
              " 'ওয়েল ফুডের খাবার মজার আচরণ ভাল',\n",
              " 'একানকার খাবারে মান উন্নত ভালো টেস্টি মজাদার অরে সার্ভিস বেটার সবাইকে মুগ্ধ দিলো',\n",
              " 'সুস্বাদু ভাল মানের খাদ্য পরিবেশিত',\n",
              " 'সত্যিই ভাল জায়গা তুলনাহীন আচরণ এছাড়াও আতিথেয়তা খাদ্য খাদ্য সত্যিই মজা যুক্তিসঙ্গত জায়গা দম্পতিরা বন্ধু পরিবারের সবচেয়ে ভাল অভ্যন্তর নকশা সুন্দর সবকিছু খুঁজছেন',\n",
              " 'ভালো সত্যিই সুস্বাদু পরিবেশ ভাল লালবাগ কেল্লা দৃশ্য কর্মীদের ভালো দাম যুক্তিসঙ্গত পার',\n",
              " 'সবচেয়ে আরামদায়ক জায়গা চিরদিনের সাধরণ বিশেষভাবে',\n",
              " 'সুন্দর জায়গা মহান সময় প্রিয়জনের মুখরোচক পিজা পাস্তা পছন্দ পিজা মূল্য যুক্তিযুক্ত',\n",
              " 'খাদ্য বার্গার ভাল আরব মাস্টার পুরাতন টাউন ইনশাল্লাহ দোকান মাস্টার হব',\n",
              " 'ঘন ঘন নিয়মিত গ্রাহক মত খাদ্য মান ভাল পরিবেশ এছাড়াও ভাল পিজা সেট মেনু পরীক্ষিত সম্পূর্ণভাবে বিশ্বস্ত',\n",
              " 'পরিবেশ লালবাগ রেস্টুরেন্টে বেশী ভালো সেবা শুভ সীমাহীন পরিবর্তন সময় দেব পার',\n",
              " 'সুন্দর বান্ধব পরিবেশ গুড খাদ্য সেট মেন্যু মতে শ্রেষ্ঠ বজায়',\n",
              " 'প্রথমবার অপ্রত্যাশিতভাবে গিয়েছিলাম খাদ্য প্রত্যাশিত সেবা দ্রুত অন্যদের পছন্দ Ω উপায়',\n",
              " 'খাদ্য মানের সেবা খুবই ভালো খাদ্য বিশেষভাবে ক্রিম পাস্তা ভালবাস',\n",
              " 'পিজা পছন্দ চমৎকার এছাড়াও পছন্দ বন্ধু',\n",
              " 'বন্ধু জন্মদিন উদযাপন যাচ্ছি সম্পূর্ণভাবে খাদ্য বলছি অনুগ্রহ যাচ্ছি উপভোগ সত্যিই ভালো',\n",
              " 'পরিবার সবচেয়ে ভাল জায়গা খাবারের মানের পরিমাণ সবকিছু আরব মাস্টার ধন্যবাদ',\n",
              " 'যুক্তিসংগত মূল্য এছাড়াও ছাড় অফার মুখরোচক পিজা পছন্দ',\n",
              " 'মহান খাদ্য বিশেষভাবে বাংলাদেশের চিকেন সবাই দেখুন স্বাদ',\n",
              " 'পিজা ভালবাসার অর্থ দেখেছেন পরিবেশ ভালো',\n",
              " 'কেবলমাত্র পিজা নিশ্চিত খেয়ে ওয়ানা',\n",
              " 'দারুন জায়গা আচরণ ভাল রাখুন',\n",
              " 'চমৎকার জায়গা সেবা ভাল',\n",
              " 'গ্রেট খাদ্য বিশেষভাবে বাংলাদেশের চিকেন সবাই স্বাদ',\n",
              " 'অ্যামেজিং খাদ্য মহান আতিথেয়তা অঙ্কিত',\n",
              " 'অসাধারণ',\n",
              " 'খাদ্য ভাল সেবা আরব মালিক চেয়',\n",
              " 'খাদ্যে সন্ত্রস্ত দর্শন লগ মিস করত',\n",
              " 'ম হোম ডেলিভারী এফ এম এনওয়াইসি এন ফাস্ট এন ডি পিজা',\n",
              " 'ফ্যান্টাস্টিক খাব',\n",
              " 'ভালো',\n",
              " 'কিসু বলার খবর টেস্ট ভালো লোভে ইট',\n",
              " 'তোলে খাদ্য মান ভাল সুস্বাদু',\n",
              " 'বলছে আরব মাস্টার বারী ঘর এম সেবা খাদ্য পছন্দ এন সকল কর্মীদের দ ছোট ভাই গান অত্যধিক কাছাকাছি ভাই এন মালিক দ খোলা আশ্চর্যজনক পাশ ভা',\n",
              " 'অত্যন্ত চমৎকার ভালবাসা',\n",
              " 'মুখরোচক খাদ্য পরিষেবা সন্তুষ্ট ভালবাসি',\n",
              " 'লালবাগ ভালবাসা দা খাবার চমৎকার জায়গা',\n",
              " 'গ্রেট খাদ্য আরামদায়ক বায়ুমণ্ডল স্বাস্থ্যকর খাবার বন্ধু পরিবারের লোকজন জমায়েত মহান',\n",
              " 'ভালো খাবার চমৎকার বন্ধুত্বপূর্ণ কর্মী বাতাবরণ',\n",
              " 'আপনাকে বলছি ভালো সহকর্মীদের সাথে গিয়েছিলাম খাদ্য মহান লোকেদের আতিথেয়তা বিস্ময়কর মো শেখ সাদী আতিথেয়তা জনাব নাসপাতি বড় চিত্কার আশা শীঘ্রই আপনাকে বলছি দেখার মহান আপ রাখুন',\n",
              " 'গুড আবহ প্রেম খাদ্য',\n",
              " 'অসাধারণ খাদ্য মান',\n",
              " 'ভাল খাবার জনাব নাসপাতি আহমেদ সহকারী রেঁস্তোরা ম্যানেজার চমৎকার ব্যক্তিগতকৃত সেবা মহান খাদ্য সেবা আপ রাখুন',\n",
              " 'জ্যামাইকান ভাজাভুজি মুরগির এক স্বর্গীয় ভালবাসা এক সর্বদা বিট খুঁজে মূল্য আ',\n",
              " 'নিস আন্দোলন সর্বশেষ ভালবাসা',\n",
              " 'চমৎকার বন্ধুদের একসঙ্গে পার্টি খাদ্য অংশ সেবা বন্ধুত্বপূর্ণ',\n",
              " 'শহরে সেরা মুরগির সরস মুরগির ভালবাসেন হব',\n",
              " 'ফ্যান্টাস্টিক খাদ্য কোরিয়ান থালা শুভ কামনা',\n",
              " 'চলমান কিনতে এক বিনামূল্যে ভাল প্রস্তাব পেতে স্থানটি আরো ভাল জিনিস মান কোরিয়ান শৈলী মুরগির আইটেম স্থল অত্যন্ত মুরগির প্রেমীদের সুপারিশ',\n",
              " 'জায়গা চমৎকার পরিবেশ ভালবাসা পছন্দের পেয়েছিলাম সবচেয়ে প্রস্তাবিত রেস্টুরেন্টে হ',\n",
              " 'পর্যালোচনা পরিষেবা ওয়েটার সুমিত খাদ্য চমৎকার অভিজ্ঞতা গুলশান',\n",
              " 'মহৎ সেবা দারুন খাব',\n",
              " 'ফুড কোয়ালিটি আগের বাজে সার্ভিস থিঙ্ক ফুড কোয়ালিটি নেক্সট টাইম ভালো ৱক গুলশান',\n",
              " 'ভাল খাবার মহান সেবা বছর সেরা জিনিসের আসছে খাদ্য গুণমান সেবা সামঞ্জস্যপূর্ণ',\n",
              " 'শহরে সেরা মুরগির সেবা পরিষেবা খাবার শুভ',\n",
              " 'অ্যামেজিং বাতাবরণ ধূমপান জোন পছন্দ খাদ্য এছাড়াও আশ্চর্যজনক যথাসময়ে উপাসনা করত',\n",
              " 'সর্বোত্তম সেবা',\n",
              " 'কোয়ালিটির খাদ্য সন্ত্রস্ত পরিবেশ সর্বোত্তম পরিষেবা',\n",
              " 'ভালবাসি',\n",
              " 'চমৎক',\n",
              " 'জট্টিল ডি',\n",
              " 'চিত্তাকর্ষক সেবা খাদ্য মান মানের ক্রমবর্ধমান রাখুন',\n",
              " 'চিকেন কাণ্ডকীর্তি মহান সুস্বাদু মুরগির আইটেম ভালবাস',\n",
              " 'চমৎকার খাদ্য ভাল গ্রাহক সেবা',\n",
              " 'খাদ্য পছন্দ',\n",
              " 'স্বাদ কুঁড়ি পথে সত্যিই জ্যামাইকান গ্রিল শাকসব্জী ভাজা চাউল সবুজ আপেল জুস আস্বাদিত চমৎকার খাদ্য আপ বন্ধুত্বপূর্ণ সেবা আসে অঙ্গুষ্ঠ',\n",
              " 'খাদ্য বাংলাদেশে শ্রেষ্ঠ মান পালিশ পরিষেবা চমৎক',\n",
              " 'জায়গা বায়ুমণ্ডল ভালো ব্যক্তিগতভাবে পছন্দ কর',\n",
              " 'অ্যামেজিং খাদ্য ফ্যান্টাস্টিক অভ্যন্তর ওয়েল আপ ভদ্র ওয়েটার অঙ্গুষ্ঠ',\n",
              " 'ছিলাম আরো কয়েকবার সবসময় সেবা সন্তুষ্ট শিশু খেলা সামান্য শিশু খুবই সমর্থন জুগিয়ে ছোট জায়গা আ',\n",
              " 'ওয়েল য',\n",
              " 'আসলে সাধারণত পর্যালোচনা লিখতে কারন গুরুতর সমালোচক আছি সমালোচনা স্তরের বেশী উপায় সত্যি সবকিছু বাদ দিয়েও রেস্টুরেন্ট পছন্দ কোরিয়ান জ্যামাইকান আশ্চর্যজনক যেখানেই যাই অফিস বন্ধু ঘর শারীরিকভাবে রেস্টুরেন্টে চালক খাবার অর্ডার ব্যাপার উত্তরায় রক্ষিত একদিন আশা শাখা খুলবে খাদ্য মান',\n",
              " 'প্রিয় শ্রেষ্ঠ ভর্তা বীট পার',\n",
              " 'সুস্বাদু খাদ্য আশ্চর্যজনক আইটেম প্রদান আসলেই ভাল',\n",
              " 'জ্যামাইকান চিকেন সময় সময় পরিদর্শন করব',\n",
              " 'গ্রেট খাবার পরিবেশ জায়গা ভালোবাসি',\n",
              " 'খাদ্য পরিবেশের স্বাদ সন্ত্রস্ত চা',\n",
              " 'সিটির শ্রেষ্ঠ রেস্টুরেন্টে এক',\n",
              " 'জ্যামাইকান ভয়ঙ্কর চমৎকার পরিবেশ ধন্যবাদ',\n",
              " 'সুস্বাদু খাদ্য সুন্দর জায়গা',\n",
              " 'মানের খাবার সার্বিক ভাল জায়গা',\n",
              " 'গুলশান অসংখ্য প্রতিটি অনুষ্ঠানে পুঙ্খানুপুঙ্খভাবে খুশী চলেছি বায়ুমণ্ডল সুন্দর ওয়েটার বন্ধুত্বপূর্ণ টেবিল পরিষ্কার খাদ্য সুস্বাদু অত্যধিক বিস্তারিত ডিশ বিশ্বজনীনভাবে সুপারিশ পেন মাশরুম স্যুপ কোরীয় মুরগির ইতিমধ্যে চলেছি সময় কিনা আইটেম হতাশ',\n",
              " 'চিহ্ন কাণ্ডকীর্তি শ্রেষ্ঠ সময়ে অ্যাম্বিয়েন্স বন্ধুত্বপূর্ণ কিডস',\n",
              " 'জ্যামাইকান ভাজা থালা সত্যিই ভাল',\n",
              " 'খাবার টা ভালো',\n",
              " 'অনুপম স্বাদ পরিষেবা বাতাবরণ গ্রাহকদের উপলব্ধ কারণে রেস্টুরেন্ট ঢাকার শীর্ষ বন্ধনী সহজে অন্যতম নিশ্চিতভাবে স্থানে শীর্ষ সবচেয়ে চলতে চলতে এক হার্ট খাবার দখল কর',\n",
              " 'জ্যামাইকান ভাজা থালা ডু আশ্চর্যজনক মুরগির সরস পক্ষই তাজা স্পষ্টভাবে ভাল রেস্টুরেন্ট ঢাকায় এক নি সন্দেহে পছন্দ সম্ভবত ট্র্যাশ খায় লুল আসছে স্টাফ পাশাপাশি সুপার অতিথি পরায়ন',\n",
              " 'খাবার গ্রেট জায়গা সত্যিই কোরিয়ান চিকেন প্যারিস উইংস পছন্দ সেবা পাশাপাশি প্রশংসনীয় মহান',\n",
              " 'লুল প্রেম রিভিউ পড়া জীবন গল্প চাই খাদ্য মহান',\n",
              " 'খাদ্য প্রতিটি সময় সেরা রান্না মুরগির গিয়েছিলাম',\n",
              " 'খাদ্য ভালবাসেন ডি রাখুন আপ কোরিয়ান চমৎক',\n",
              " 'প্রিয়জনের ঘ মানের খাদ্য কাবাব সমন্বয় পিজা আশ্চর্যজনক প্রিয় ফলবিশেষ মধুভাষী সঙ্গ',\n",
              " 'ভালবাসা উর বিশেষত কোরিয়ান পিজা',\n",
              " 'দুপুরের খাবার খাচ্ছি মান খাবার মহান প্রিয় জায়গা এক',\n",
              " 'এক শব্দ সন্ত্রস্ত',\n",
              " 'খাবারে সুস্বাদু সুন্দর অবস্থান বুঝতে পারছি অত্যধিক অভিযুক্ত',\n",
              " 'খাদ্য সবকিছু চাকরি জায়গা ভালোবাসি নিখুঁত',\n",
              " 'খাওয়ার মজাই আলাদা অধিবেশন আয়োজন প্রিয়জনের ভাল একজাতীয় উৎকৃষ্ট কফি পেয়েছে',\n",
              " 'ভালো খাবার সাথে সৌভাগ্য পরিবেশ পছন্দ করছি এগিয়ে',\n",
              " 'চিত্তাকর্ষক সাথে সত্যিই মুখরোচক খাব',\n",
              " 'চমৎকার জায়গা খাদ্য সুস্বাদু খাদ্য জায়গা সবাই হব',\n",
              " 'জায়গা ভালবাসা কোরিয়ান মুরগির মরতে ছিলাম গত সময় হতাশ ঠান্ডা খাদ্য পরিবেশিত এমনকি মাশরুম স্যুপ সবে উষ্ণ আলু ভর্তা ভুল সাধারণত গুলশান শাখায় মুখরোচক ধানমন্ডি শাখায় গত ভিজিট হতাশ শেফ রেসিপি অধিকার পাচ্ছেন যাই সত্যিই আশা আপনাকে বলছি খারাপ থাকার দয়া নিশ্চিত করুন ঘটবে নিশ্চিত ভয়ানক খাদ্য গ্রহণযোগ্য অপেক্ষায় থাকলাম আরো কয়েকবার দেখার জায়গা নষ্ট দয়া ধন্যবাদ',\n",
              " 'মধ্যাহ্নভোজ আইটেম সুস্বাদু মহান ভালোবাসি',\n",
              " 'ভালোবাসি খাদ্য চমৎকার পরিবেশ মুখ খাদ্য স্বাদ জলসেচন',\n",
              " 'ভালো',\n",
              " 'প্রথমবারের সাজসজ্জা বাতাবরণ খাদ্য মহান লীঢ় স্পষ্টভাবে বন্ধু পরিবারের সুপারিশ করব',\n",
              " 'শহরে সেরা মুরগির রেসিপি নি সন্দেহে জায়গা',\n",
              " 'শ্রিম্প পিজা মরতে হব',\n",
              " 'কোরিয়ান উরু পৃথিবীতে ভাল জিন',\n",
              " 'দারুন জায়গা জ্যামাইকান পাশাপাশি কোরিয়ান উপভোগ কর',\n",
              " 'টাঁকা মনু',\n",
              " 'শ্রেষ্ঠ কখনো গুড খাদ্য মানের',\n",
              " 'সেরা পরিবেশের শ্রেষ্ঠ স্বাদ একেবারে প্রিমিয়াম মুরগির',\n",
              " 'সূরা আল আহযাব টেস্ট টাটকা খাওয়া ভালবাসা খাদ্যে অসাধারণ জায়গা পছন্দ করুন ইচ্ছা ভাল ডি',\n",
              " 'পরিবারের একজন সদস্য সর্বশক্তিমান ধন্যবাদ',\n",
              " 'মহান খাদ্য ঘেউ ঘেউ ঘেউ মহান সেবা',\n",
              " 'মহান আবহ কোয়ালিটির খাদ্য পরিদর্শন আপনাকে ধন্যবাদ',\n",
              " 'জট্টিল সুস্বাদু খাদ্য ভালো সেবা নিশ্চিত দারুন জায়গা পছন্দ কোরিয়ান গৃহস্থালির সেদ্ধ মুরগির ডি সবকিছু মূল্য ব্যতীত নির্ভুল দামী বিট',\n",
              " 'গরম এন মসলাযুক্ত চিকেন ফ্রাই পছন্দ চমৎকার বাতাবরণ আতিথেয়তা শীর্ষ রেস্টুরেন্ট ঢাকায় এক রেট হব',\n",
              " 'গুড পদক্ষেপ',\n",
              " 'উজ্জ্বল',\n",
              " 'মুরগির পছন্দ ওয়ান্ডারফুল',\n",
              " 'অ্যামেজিং খাদ্য মহান সেবা',\n",
              " 'ভাল খাব',\n",
              " 'গুড খাদ্য সুস্থ',\n",
              " 'সত্যিই ডিনার জামাইকা কোরিয়ান মুরগির উভয় ভাল পরীক্ষিত ভাল স্থান সমাবেশ পিজা সন্ত্রস্ত হব',\n",
              " 'ভালো খাবার এন চমৎকার সেবা',\n",
              " 'আসাদ',\n",
              " 'সহজ কথায় বাংলাদেশের বাংলাদেশ সূক্ষ্ম ডাইনিং কৃশতা ঐতিহ্য বর্ণনা কর',\n",
              " 'পছন্দনী',\n",
              " 'সুস্বাদু খাবার তাছাড়া বাকি ভালো',\n",
              " 'টাকা চুক্তির রিয়াল মান অ্যামেজিং খাব',\n",
              " 'শ্রিম্প পিজা চিকেন ক্রীম পাস্তা পারফেক্ট বার্গার পরের দর্শন ফ্রাই আশা ব্যক্তিগত শীর্ষ টাউন বার্গার তালিকার তৈরি হ্যাঁ ন',\n",
              " 'একেবারে ভালবাসা খাদ্য তাজা সুস্বাদু সম্ভবত সেরা এক খুঁজে মুহূর্তে ঢাকায় জায়গা খায়',\n",
              " 'স্থানটি বোমা',\n",
              " 'চমত্ক',\n",
              " 'রাতে কাবাব খাদ্য পরিবারের সাথে বিস্ময়কর ডিনার মজা',\n",
              " 'দারুন জায়গা',\n",
              " 'নিজেকে তারার দান ভালো জায়গা বন্ধ পারবেন অ্যামেজিং খাদ্য',\n",
              " 'দেড় বছর দেশটি দেখার আসেন রেস্টুরেন্টে খাবার শুভ মান কখনো ভাল পুরোনো প্রিয় কোরিয়ান মুরগির মত আস্বাদন ছেড়ে সবসময় গ্রেট অভিজ্ঞতা স্পষ্টভাবে আসছে হব',\n",
              " 'বাহ চিক',\n",
              " 'সুপার খাদ্য দারুন জায়গা',\n",
              " 'খাদ্য সন্ত্রস্ত',\n",
              " 'শ্রেষ্ঠ',\n",
              " 'দেখেছি খাদ্য স্বাস্থ্যকর পরিবেশ অবস্থান আরামদায়ক',\n",
              " 'সন্ত্রস্ত',\n",
              " 'নিস খাব',\n",
              " 'চমত্কার সেবা',\n",
              " 'দৈনন্দিন পর্যাপ্ত তোম',\n",
              " 'চমৎকার খাদ্য বিশ্রি সেবা স্টাফ উন্নত প্রশিক্ষণ প্রয়োজন গুরুত্বের সাথে সমন্বয় অভাব সম্পাদনা অসমান সূত্রপাত দীর্ঘ পথ আসা করেছি খেতে প্রিয় জাগাতে অন্যতম স্টাফ সুদৃশ্য আশা মেনুতে আরো এখনো যোগ করেনি ইতিমধ্যে মেনুতে করেছি মেনুতে সবকিছু ভাল পিজা তোমাকে তাকিয়ে আছি বেশী আশ্চর্যজনক',\n",
              " 'মহান খাদ্য ভাল সেবা শীতল স্থানে সহজে বিডি এক স্থান পার',\n",
              " 'মূল বাংলাদেশের চিকেন মধু সরিষা সালাদ স্বাদ বিস্ময়কর পরিবেশ বড় হাটবাজার বন্ধ',\n",
              " 'চিকেন সালাদ অসাধারণ ডেজার্ট থাকতে ভাল জিনিস ডেজার্ট ফিড প্রশংসা দ্রুত চ্যাটের সময় ব্যয় অকাতরে শোনা মুহুর্তে সেট ব্রিগেডিয়ার জেনারেল মঞ্জুরের কাদের চাচা মালিক ধন্যবাদ সবকিছু নি খাদ্য মেনুতে রিভিউ নিশ্চিতভাবে শীঘ্রই অন্যান্য আইটেম আউট',\n",
              " 'সন্ত্রস্ত সাথে জট্টিল খাদ্য',\n",
              " 'সবচেয়ে ভাল জায়গা',\n",
              " 'ভাল চমত্কার প্রসাধন মূল্য সামান্য বিট উচ্চ খাদ্য সত্যিই ভাল তাজা',\n",
              " 'ভাল খাবার টাকার মূল্য',\n",
              " 'সেরা খাদ্য বাংলাদেশ',\n",
              " 'মহান ভালবাসা',\n",
              " 'নিস পরিবেশ প্রসাধন ভাল',\n",
              " 'অলংকরণ ভাল পরিষেবা ভালো দ্রুত জিনিস খাদ্য মান সুস্বাদু মুখরোচক বিনামূল্যে ওয়াইফাই প্রাপ্তিসাধ্য আচরণ পরিষেবাযোগ্যতা',\n",
              " 'খাদ্য সেবা ভাল',\n",
              " 'মহান খাদ্য স্বাদ সম্পূর্ণই মূল্য টাকা খরচ অনুগ্রহ পরীক্ষণ অত্যন্ত সুপারিশ',\n",
              " 'খাদ্য চমৎকার আচরণ',\n",
              " 'অসাধারণ শ্রেষ্ঠ কফি',\n",
              " 'খাবার গুলো য়াম্মম্মম্ময় ইচ্ছে প্রতিদিন খা',\n",
              " 'জবর মেনু বিস্ময়কর খাবার পুরোপুরি ওয়েটার পরিবেশিত এছাড়াও সুন্দর পরিবেশ উত্কৃষ্ট সেবা পূরণ সেবা সময় গরম টাটকা খাবার উহু ভাল নিখুঁত খাবার টকটকে অভ্যন্তর পরিবার জমায়েত পার্টি দলগুলোর সহজভাবে শহরে সবচেয়ে ভাল জায়গা ব্যবস্থা চমৎকার জায়গা',\n",
              " 'পরিবারের ইফতার ইফতার মেনু ভাল পরিবার মান বন্ধুদের সাথে চমৎকার জায়গা নি খাদ্য গুণটা ভাল ঝরঝরে পরিষ্কার কাফ',\n",
              " 'ভাল রেস্টুরেন্ট অলংকরণ আউট ডোর বিস্ময়কর অসাধারণ যুক্তিসঙ্গত মূল্য খাবার পরিষেবার চমৎকার গুণমান জায়গা ভালবাসেন আরো সময় ইচ্ছুক',\n",
              " 'তোলে মসলাযুক্ত একটা চমৎকার অভিজ্ঞতা সেবা চমৎকার ম্যানেজমেন্ট কর্মীদের পরিষেবার মান সম্পর্কে সচেতন মেনু সন্ত্রস্ত দর্শন লগ পরামর্শ চাই দর্শন লগ উদ্ভাবনী সুস্বাদু খাদ্য সামগ্রী অন্যদের উর রেস্টুরেন্টে গ্রীষ্মকালীন বর্ষাকালে দিনের বেলা খোলা জায়গা অস্থায়ী ছাদ ব্যবস্থা খোলা পরিবেশ উপভোগ ফোকাস',\n",
              " 'ভালো রেস্টুরেন্টে পরিবেশ চমৎকার বিস্ময়কর খাবার এনডি পুরোপুরি ওয়েটার পরিবেশিত রেস্টুরেন্টে ভালবাস',\n",
              " 'দর্শন লগ আচরণ সার্ভিসিং আরামদায়ক খাদ্য মান ভাল দর্শন লগ খুশি নিশ্চিত জায়গা আসবে আবির ভাল',\n",
              " 'খাবার ভাল সেবা সময় ধীর দ্যা বিগ কর্তৃপক্ষ ব্যক্তিগতভাবে ভার গ্রহণ নিশ্চিত খাদ্য দ্রুত থাম্বস আপ',\n",
              " 'এলাকায় চমত্কারভাবে সাজানো রাত দৃশ্য সামনের সুন্দর',\n",
              " 'সাধারণত পোস্ট করব মন্তব্য জায়গা অসাধারণ খাদ্য সুস্বাদু আশ্চর্যজনক কাপড় বন্ধুত্বপূর্ণ সেবা মসৃণ ধন্যবাদ বল',\n",
              " 'সেরা সেট মেনু এক কখনো থাই স্যুপ সুস্বাদু সেবা আচরণ ওয়েল সত্যিই ভালবাস',\n",
              " 'চমৎকার পরিবেশ খাদ্য মান সন্ত্রস্ত অত্যন্ত বাঞ্ছনীয়',\n",
              " 'বিস্ময়কর জায়গা সন্ত্রস্ত ফুড সুস্বাদু এছাড়াও ভাল মানের বজায়',\n",
              " 'রিয়াল খাদ্য শুধুমাত্র চমৎকার জায়গা চমৎকার দৃশ্য ভাল দৃশ্য ভালোবাসি',\n",
              " 'যুক্তিসঙ্গত মূল্য খাবার পরিষেবার বিষয় কঠোর মান তাছাড়া পরিবেশ সুন্দর গ্রাহকদের মূল্য প্রদানের দলের প্রাণঢালা শুভেচ্ছা',\n",
              " 'জট্টিল পরিবেশ সুস্বাদু খাবার কাছাকাছি পার্টি দিবি প্রেম দা খাদ্য এন ভাল আচরণবিশিষ্ট ইন শা আল্লাহ এন আসতে কর',\n",
              " 'সত্যিই প্রশংসনীয় ভাল জায়গা কখনো রেস্টুরেন্টে প্রেমময় করছি খাবারের সুস্বাদু ভাল লাঠি অনুগত ভাল',\n",
              " 'রেস্টুরেন্টে ভাল অভ্যন্তরীণ সন্ত্রস্ত খাদ্য খুবই ভালো মূল্য যুক্তিসঙ্গত মান ভাল ব্যবসা প্রাণঢালা শুভেচ্ছা',\n",
              " 'রেস্টুরেন্টে খুবই ভালো অভ্যন্তরীণ সন্ত্রস্ত খাদ্য খুবই ভালো মূল্য যুক্তিসঙ্গত মান ভাল ভালবাসা',\n",
              " 'খাদ্য মানের জায়গা ভালবাস',\n",
              " 'চমৎকার পরিবেশ চমৎকার প্রসাধন মুখরোচক খাবার জায়গা ভালবাসেন আরো আরো ইচ্ছুক',\n",
              " 'ভোজন রসিক খাদ্য মান ভালবাসেন পরিবেশ চমত্কার চা',\n",
              " 'জট্টিল জায়গা',\n",
              " 'একটা ঝাঁঝরি অভিজ্ঞতা মসলা খাদ্য এন সেবার বিষয় কঠোর মান জায়গা ভালোবাসি',\n",
              " 'খাদ্য পরিবেশে অন্বেষণ ভালোবাসি কেবল বাতাবরণ খাদ্য অবশ্যই শুনব পছন্দ সন্তোষজনক',\n",
              " 'ফিরিয়ে আনতে বিরাট অভিজ্ঞতা স্ট্রবেরি শেক ভালবাসেন অগ্রাধিকার ঝাঁকান',\n",
              " 'সুন্দর',\n",
              " 'জট্টিল খাদ্য সুন্দর প্রসাধন সামগ্রিক রমণ চমৎকার জায়গা',\n",
              " 'তোমাকে চমত্কারভাবে জায়গা সুসজ্জত করেছি খাদ্য মান প্রশংসনীয়',\n",
              " 'স্থান খাদ্য অভ্যন্তর সেবা ভাল ভাল আল্লাহ তোমাকে রহমত করুক',\n",
              " 'নিস প্রসাধন চমৎকার পরিবেশ ভালো সেবা খাদ্য পরীক্ষা সন্ত্রস্ত ভাল ভদ্র সম্পূর্ণ প্রশিক্ষিত রেস্টুরেণ্টে ভালবাসা',\n",
              " 'স্থানটি অসাধারণ প্রিয়জনের ভাল',\n",
              " 'অ্যামেজিং অভ্যন্তর খাবার ভালো সুন্দর জায়গা ভাল সময় কাটা',\n",
              " 'সম্পর্কে অভিজ্ঞতা বলুন শব্দ হব',\n",
              " 'খাদ্য মানের অত্যধিক সুস্থ ভাল পছন্দ',\n",
              " 'ন',\n",
              " 'নিস অভ্যন্তর চমৎকার আচরণ ভালো খাবার যুক্তিসংগত মূল্য',\n",
              " 'পরিবেশ খাদ্য সেবা মহান',\n",
              " 'জস জায়গা নিস সজ্জা মুখরোচক খাদ্য',\n",
              " 'গুড সময় ভাল খাদ্য জায়গা',\n",
              " 'শুভকামনা',\n",
              " 'বাস্তব মসলা ভরাট আসুন ভোগ',\n",
              " 'জানি কিভাবে সত্যিই মহান কফি নিখুঁত কফি শপ',\n",
              " 'অনন্য হিম আইটেম ওয়ানা সাদাসিধা প্যাস্ট্রি আস্বাদন ওয়ানা কাপ কেক ভাল এক দেখো ঠান্ডা কফি পছন্দ শক্তিশালী পদাঘাত আ',\n",
              " 'ছোট স্থান প্যাস্ট্রি কেক ব্যতিক্রমী ঠান্ডা কফি',\n",
              " 'ডিসেন্ট আচরণ খাদ্য স্বাস্থ্যকর সুস্বাদু',\n",
              " 'কোল্ড কফি ভালো সিলো আপনারা ট্রাই পার',\n",
              " 'ওয়েল জানি সঠিক জায়গা গতকাল পুরো পরিবারের সাথে স্থানে গেলেন স্থান কর্মীদের সন্ত্রস্ত আন্তরিক নরকের মত সুস্বাদু স্থান সম্পর্কে সবচেয়ে আশ্চর্যজনক জিনিস মূল্য পরিসীমা আক্ষরিক টাকা ধরনের থাকতে সামগ্রিকভাবে পছন্দ আরো',\n",
              " 'সুস্বাদু খাদ্য পরিমাণ মান ভাল টিপ অল্প সময়ের গ্রহণযোগ্য আইটেমটি উদ্ধ',\n",
              " 'সবচেয়ে ভাল অনন্য খাদ্য ধারণা কখনো পুরান ঢাকার অন্যতম খাবার প্রিয়জনের সীমাবদ্ধতা ছোট জায়গা সিটে অপরের সাথে ভাগ মুহূর্তে অবাধে দ্বিধা অজানা খাদ্য শেয়ারিং আস্বাদিত খাদ্য পরীক্ষা দোসা মত গ্রাহকের অনুভূতি বুঝতে সন্দেহজনক বিসিএস চাই সকলকে প্রয়োজন ইউ',\n",
              " 'চমৎকার জায়গা ভালো খাব',\n",
              " 'খাবার চমৎকার স্বাদ দোসা স্বাদ সেরা',\n",
              " 'প্রথমে গ্রেট সুসজ্জিত গ্রেট আতিথেয়তা অত্যন্ত যুক্তিসংগত মূল্য খাদ্য একেবারে মুখ জল মেনুটির কারি প্রশংসাসূচক খাবারের অঙ্গুষ্ঠ আপ বেশিরভাগ হায়দেরাবাদী দোসা পুরান ঢাকার সেরা রেস্টুরেন্ট এযাবৎ কালে দেখার শব্দ',\n",
              " 'সময় জন্যে আগের দিনের সন্ত্রস্ত ডোসা ঘেউ য় অত্যধিক সস্তা খাবার কেনার য় টিপস অস্বীকার জঘন্য জিনিস জায়গায় সবসময় পাশে টিপসের খেয়ে ফেলতাম মত অন্যদের আমিও আচরণ সন্তুষ্ট আরো য় আরো সময় ইন শা আল্লাহ হব',\n",
              " 'ভারতীয় খাদ্য খাঁটি পরীক্ষা শব্দ খাদ্য গুণমান সেবা মহান পরিবেশ মহান বিশাল চাহিদা তাড়াতাড়ি বড় জায়গা প্রস্তাবিত চাই চমৎকার সেবা ধন্যবাদ আপনাকে ভাল কামনা দোসা শিলা',\n",
              " 'চমৎকার খাবার খাদ্য মান এফএনএফ সেবা ডি সস্তা দাম ওয়াই দারুন জায়গা ভাল সামগ্রিক রেটিং সর্বোত্তম সেবা ভাল শ্রেষ্ঠ খাব',\n",
              " 'মিশ্রণ খাওয়া স্ত্রী পাখা আসুন চমৎকার সুন্দর প্রসাধন সাথে চমৎকার খাদ্য মহান',\n",
              " 'দোসা পুরাতন শহর শ্রেষ্ঠ খাদ্য দোকান খাদ্য তাজা',\n",
              " 'সস্তা মূল্য চমৎকার খাদ্য খাদ্য মান ভাল জায়গা ভালবাসা',\n",
              " 'খাদ্য অধিকাংশ সুস্বাদু ভাল এলাকায় সেরা রেস্টুরেন্ট এক',\n",
              " 'বড় জায়গা মানের গান আরো বড় ভালবাসেন সময় ভয়ঙ্কর ভাল মজা স্থল',\n",
              " 'অসাধারণ পরিবেশ খাদ্য সেবা ভাল চোল ভালোবাসি প্রাচীন সেরা রেস্টুরেন্ট',\n",
              " 'সন্ত্রস্ত জায়গা খাদ্য স্বাদ গুণমান ভাল দ্রুততর সেবা সামগ্রিক',\n",
              " 'জায়গা এন খাদ্য ভাল আচরণ ভালো খাবার ভালবাস',\n",
              " 'খাদ্যসামগ্রী চমৎকার সস্তা ভাল ছোট প্রসাধন চমৎকার জায়গা',\n",
              " 'সেরা সেরা সেরা খাদ্য আতিথেয়তা পছন্দ',\n",
              " 'পুরানো শহরে সর্বকালের সেরা সবকিছু ভাল আস্বাদন',\n",
              " 'একজন বয়সের বাস্তব দোসা স্বাদ নিশ্চয় পরিদর্শন',\n",
              " 'সুন্দর প্রসাধন সাথে চমৎকার খাদ্য মহান বল',\n",
              " 'খাদ্য অত্যধিক ভাল বিশেষভাবে ডোসা',\n",
              " 'খাদ্য সত্যিই সুস্বাদু আরো বসা স্পেস প্রয়োজন',\n",
              " 'যুক্তিসংগত মূল্য ভাল খাবার আসনবিন্যাস ব্যবস্থা পরিচালনা',\n",
              " '',\n",
              " 'ভাল খাবার সস্তা দাম সেবা ভাল বন্ধুত্বপূর্ণ পছন্দ',\n",
              " 'চমৎকার খাদ্য এন শীতল প্রসাধন ডোসা সত্যিই',\n",
              " 'খাদ্য আইটেম ডোই ডোই মত উহু মুখরোচক',\n",
              " 'সবকিছু লোকেরা প্রচুর পরিমাণে প্রশস্ত পরিবেশ প্রয়োজন',\n",
              " 'মজা ভাল আইটেম চমৎকার সবকিছু',\n",
              " 'খাদ্য সত্যিই সুস্বাদু বিশেষভাবে চিকেন কারি স্বাদ সন্ত্রস্ত',\n",
              " 'চমত্কার পরীক্ষা যুক্তিসংগত মূল্য',\n",
              " 'সুন্দর প্রসাধন ভাল খাবার চমৎকার খাদ্য মুখরোচক',\n",
              " 'দারুন নিস অলংকরণ সুস্বাদু খাদ্য ওয়েটার আচরণ পছন্দ ভালোবাসি',\n",
              " 'দোসা সত্যিই খাওয়া মুরগির তরকারি',\n",
              " 'ভালো খাবার সস্তা দাম আ',\n",
              " 'সন্ত্রস্ত',\n",
              " 'সত্যিই জোস অসাধারণ',\n",
              " 'ডেকোরেশন ভালো ছিলো বুট স্পেস ছোট খাবারের প্রাইস রিসোনাবলে টেস্ট ভালো',\n",
              " 'যুক্তিসংগত মূল্য গ্রেট খাদ্য মানের দয়া চালিয়ে শ্রেষ্ঠ',\n",
              " 'যাই আস্বাদন করল সন্ত্রস্ত বিশেষভাবে পরলোক প্রত্যাশা রামপুরা বনশ্রী এলাকায় সম্ভবত সেরা রেস্টুরেন্ট',\n",
              " 'যুক্তিসংগত মূল্য ভাল খাবার সেবা উন্নত হব',\n",
              " 'গুড খাদ্য আইটেম',\n",
              " 'সামান্য এক যথাসাধ্য তৈরি করুন',\n",
              " 'খাদ্য সুস্বাদু জট্টিল ফ্যান মূল্য খাদ্যের মান পরিমাণে আকবর বিশেষভাবে বার্গার',\n",
              " 'গতকাল পিজা কেনা ভালো বাঞ্ছনীয়',\n",
              " 'কফি ভালো লেগেছে মুহূর্তের ব্যয় প্রেম প্লেস নিস অভ্যন্তরীণ নকশা রেঁস্তোরা প্রতিটি আইটেম ডিসকাউন্ট পা',\n",
              " 'থাই পছন্দ সত্যিই ভাল',\n",
              " 'কোয়ালিটি কোয়ান্টিটি এনভায়রনমেন্ট বেহেভিওর এক কথায় অসাধারণ বেস্ট অফ লাক ফর মর টাকা কাফে গ অ্যাহেড',\n",
              " 'চমৎকার পরিবেশ সন্ধ্যা উপভোগ করুন খাবার আ',\n",
              " 'চমৎকার জায়গা স্বাদ উপভোগ কর',\n",
              " 'ভাল মানের খাদ্য',\n",
              " 'মর তাক তে খেলাম খাবার গুলো খুবই মজাদ',\n",
              " 'খাবার ভাল আচরণ এছাড়াও ভালো চমৎকার জায়গা',\n",
              " 'সুন্দর ঝরঝরে পরিষ্কার অধিকাংশ সুদৃশ্য জায়গা ভালোবাসি কারি হাউস হে হ',\n",
              " 'চমৎকার জায়গা শীতল পরিবেশ ভাল শৃঙ্খলাবদ্ধ কর্মীরা অসাধারণ ভাল সেবা থাকার আউট ভোজন সুস্বাদু সন্ত্রস্ত মুখরোচক খাবার শীঘ্রই এসো সময়',\n",
              " 'যুক্তিসঙ্গত পরিষেবার সুস্বাদু খাদ্য চমৎকার অবশ্যই আসবো পছন্দ স্পষ্টত রেস্তোরাঁ সজ্জা সন্ত্রস্ত',\n",
              " 'সত্যিই লোকেদের যোগাযোগ পছন্দ সত্যিই অনুষ্ঠান হোস্টিং যোগ্য বিশ্বাস এমনকি খাদ্য গুণমান স্বাদ আশ্চর্যজনক সম্পূর্ণরূপে সাথে সন্তুষ্ট আপ রাখুন বড় মত',\n",
              " 'ঢাকা শহরের',\n",
              " 'একটা চমৎকার জায়গা শীতল পরিবেশ ভাল আচরণবিশিষ্ট লাঠি ভাল সার্ভিস সবচেয়ে গুরুত্বপূর্ণভাবে সুস্বাদু খাবার থাকার আউট ভোজন',\n",
              " 'সত্যিই চমত্কার স্বাগত পানীয় চমৎকার পরিপাটি রেস্টুরেন্টে খাদ্যে সুস্বাদু',\n",
              " 'সামগ্রিকভাবে খাদ্য সন্ত্রস্ত বাতাবরণ ভাল',\n",
              " 'খাদ্য পছন্দ ধৃষ্টতা ভাল রেস্টুরেন্ট ওভার ঢাকা বিশেষভাবে মালিবাগ শান্তিনগর এলাকা এক',\n",
              " 'খাদ্য সময় মানের খাদ্য প্রদান পছন্দ',\n",
              " 'তোলে অভ্যন্তর নকশা প্রসাধন আতিথেয়তা খাদ্য মান স্পষ্টত সেবা মুগ্ধ',\n",
              " 'খাদ্য মানের চমৎকার সেবা ভাল ভাল',\n",
              " 'সার্ভিস খাদ্য উভয় সত্যিই ভালো আবশ্যক রেটিং আ',\n",
              " 'থাই স্যুপ অন্থন পছন্দ স্বাদ সত্যিই ভাল',\n",
              " 'সুন্দর রেস্টুরেন্টে দলে সন্তুষ্টি সাথে খেতে করুন',\n",
              " 'চীনা থালা ভাল সাশ্রয়ী অভ্যন্তর এছাড়াও পছন্দ ডি',\n",
              " 'ভালো আতিথেয়তা অত্যন্ত আন্তরিক খাদ্য সরস',\n",
              " 'খাদ্য মজা আইটেম স্বাগত পানীয় সন্ত্রস্ত',\n",
              " 'প্রেম ভারতীয় সেট ভাল প্রসাধন বিশেষত কাঠ তৈরি সিঁড়ি গুজরাটি উদ্ভিজ্জ',\n",
              " 'খাদ্য মান ভাল',\n",
              " 'শহরে সর্বাধিক সুস্বাদু বার্গ',\n",
              " 'অনুষ্ঠান মুরগির গোলগাল বার্গার বার্গার চিকেন ফ্রাই নেতিবাচক বলার ঢাকায় শুধুমাত্র বার্গার জয়েন্টগুলোতে করেছি সহজ সবচেয়ে ভাল মূল্য স্বাদ আসে সাশ্রয়ী মূল্যের কিনতে পেতে বিনামূল্যে আউট সেরা চুক্তি',\n",
              " 'ঢাকা শ্রেষ্ঠ বার্গার রেস্টুরেন্টে এক ক্যাপ্টেন কুক',\n",
              " 'স্বাক্ষর গরুর মাংস বেকন বার্গার একেবারে আশ্চর্যজনক সলিড ভাল রান্না গরুর মাংস পাটিয়ে কোমল গরুর মাংস রেখাচিত্রমালা পনির সস নিখুঁত ভারসাম্য শীর্ষস্থানে টাটকা লেটুস ফালি খাস্তা পোঁদ টমেটো আরো উন্নত অভিজ্ঞতা তৈরি ক্যাপ্টেন কুক বার্গার বার্গার জায়গা যখনই সীমান্ত ধানমন্ডির দেখুন দয়া কর',\n",
              " 'মহান ফাস্ট ফুড জায়গা মানে খাবারটা অসাধারণ ছিলো দামী মেনু উত্কৃষ্ট বার্গার খাদ্য ভজনা সময় মধ্যপন্থী এমনকি ভীড় পছন্দ পানি চাইলেন পানি শুধুমাত্র বোতল চশমা তারার প্রাপ্য শান্তি ক্যাপ্টেন কুক',\n",
              " 'ক্যাপ্টেন কুক ঢাকা আশ্চর্যজনক সত্যি ভাল সেবা অবিশ্বাস্য পনির চিকেন মরতে একজন বৃত্তাকার ভাল রেস্টুরেন্টে ভাল রেস্টুরেন্ট কখনো দেখার অন্যতম',\n",
              " 'দাম তুলনা ডাবল কোয়ার্টার নোড়া বার্গার নম্র সবকিছু জিজ্ঞাসা প্রতিটি টেবিলের ক্ষুধার্ত বাজেট বার্গার ভাল কামড় জায়গা',\n",
              " 'ক্যাপ্টেন কুক গরুর মাংস রসুন সস মহান পুলি মহান সরস জগাখিচুড়ি মসলা কান্নাকাটি স্থান চমৎকার শীতলতা পরিবেষ্টনকারী স্কাই ভিউ মহান দাম ওয়ার্থ অভিজ্ঞতা খাদ্য',\n",
              " 'শহরে শ্রেষ্ঠ বার্গার এতদূর অপেক্ষাকৃত কম মূল্য মূল বার্গার সরস গোলগাল সীমান্ত ধানমন্ডির বার্গার ধরনের ভাল স্বাদ আনন্দিত ক্যাপ্টেন কুক ধন্যবাদ',\n",
              " 'শহরে শ্রেষ্ঠ বার্গার এতদূর অপেক্ষাকৃত কম মূল্য বার্গার সরস গোলগাল ধানমন্ডিতে বার্গার ধরনের ভাল স্বাদ আনন্দিত',\n",
              " 'সেবা দ্রুত অবতীর্ণ প্রত্যেক গ্রাহকের ভদ্র রেস্টুরেন্টে দর্শন সম্মানিত এছাড়াও ডিসকাউন্ট সাথে সন্তুষ্ট বার্গার সুস্বাদু সরস রেস্টুরেন্টে দেখার সবাই সুপারিশ চা',\n",
              " 'বার্গার নম্রভাবে মূল্য নির্ধারণ অর্থ মান পুলি শুষ্ক ভাল যায়নি পনির ডিসেন্ট পরিমাণ সামগ্রিকভাবে মহান সত্যিই মত পাশাপাশি খাবার ক্যাপ্টেন কুক ধন্যবাদ',\n",
              " 'খাদ্য পরিষেবা পরিবেশ পরিধান মহান কোয়ালিটির মানের মান সময় পাস সবচেয়ে ভাল জায়গা জায়গা নিশ্চয় পছন্দ',\n",
              " 'স্বাক্ষর বিফ এন্ড বেকন বার্গার স্যান্ডউইচ সম্পূর্ণই পছন্দ বলার ডি পরিবেষ্টনকারী পরিবেশ মহান খাদ্য ভাল',\n",
              " 'স্থানটি সাম্প্রতিক প্রিয় বিশেষভাবে বার্গার ভালোবাসি ইতিমধ্যে স্টাফ আচরণ সত্যিই ভাল সংযমের দর্শন ক্যাপ্টেন কুক রেঁস্তোরা ধন্যবাদ',\n",
              " 'বার্গার স্বাদ তুলনা মূল্য কম স্বাদ বার্গার প্রেমিকা',\n",
              " 'পরিবেশ সবকিছু সন্ত্রস্ত জনাব আলেকজান্ডার বার্গার সত্যিই আস্বাদিত বার্গার উত্তম',\n",
              " 'বার্গার প্রেমীদের বিশেষভাবে স্থান যেতেই বার্গার হট মহিষ উইংস মুগ্ধ করছি গুণমানের সেরা ক্যাপ্টেন কুক রাখুন',\n",
              " 'খাদ্য মান পছন্দ গরুর মাংসের বার্গার তোলে বার্গার চেইন তুলনায় সুস্বাদু ভবিষ্যতের সৌভাগ্য কামনা কর',\n",
              " 'ধানমন্ডি এলাকায় মহান বার্গার দোকান অভিলাষও অবশিষ্ট অধিনায়ক ভাল রান্না',\n",
              " 'মাইন্ড আগন্তুক বার্গার অভিজ্ঞতা ফুঁ এছাড়াও বিশুদ্ধ ঝাঁকান ভুলবেন ক্যাপ্টেন কুক নিবেদিত গুড জব গাই',\n",
              " 'সিটির শ্রেষ্ঠ বার্গার মন প্রবাহিত মূল্য ভাল যুক্তিযুক্ত ধন্যবাদ ক্যাপ্টেন কুক ঢাকা',\n",
              " 'ধানমন্ডি সেরা ছাত্র বন্ধুত্বপূর্ণ বার্গার রেস্তোরাঁ একটা বার্গার প্রেমিকা স্কুলে প্রচারাভিযান শিক্ষার্থীদের বিস্মিত',\n",
              " 'ক্যাপ্টেন কুক ঢাকা সিটি শ্রেষ্ঠ রেঁস্তোরা অন্যতম সুসজ্জিত রেঁস্তোরা খাদ্য স্বাদ আলাদা সার্ভিস আচরণ বড় সম্পদ',\n",
              " 'মুরগির পনির বার্গার নিয়মিত ফরাসি ফ্রাই ভালবাসা',\n",
              " 'খাদ্য সন্ত্রস্ত আচরণ ভালো পেট খুশি পরন্তু চমৎকার জায়গা',\n",
              " 'এছাড়াও ফুঁ মন কিটক্যাট শেক তাজা ভালবাসেন ক্যাপ্টেন কুক',\n",
              " 'সর্বপ্রথমে খাদ্য পরিবেশ ভয়ঙ্কর বিখ্যাত রয়েল বার্গার শেক মাইন্ড ফুঁ পরীক্ষা সত্যি ভালবাসা ক্যাপ্টেন কুক শুভেচ্ছা',\n",
              " 'সবসময় সীমান্ত এসেছে প্রেমের বার্গার দোকান ক্যাপ্টেন কুক',\n",
              " 'বাহ ভারি সুস্বাদু খাদ্য রাঁধুনি ঢাকা শহরে সবচেয়ে বিখ্যাত রেস্টুরেন্ট',\n",
              " 'বাংলাদেশ শ্রেষ্ঠ বার্গার কেন্দ্রিক ভীড়ের মধ্য একজন',\n",
              " 'বন্ধু অন্যান্যদের সাথে ভালো জায়গা',\n",
              " 'সন্ত্রস্ত মানুষের চমত্কার সেবা ভালো গুণ ব্যয় শিথিল কর',\n",
              " 'শুরুতে মানের বহন সবসময় মান বজায় শুভকামনা',\n",
              " 'যুক্তিসংগত মূল্য চমত্কার খাবার ভবিষ্যত যাত্রার সৌভাগ্য কামনা কর',\n",
              " 'সত্যি ধানমন্ডির বার্গার পেয়েছিলাম আশা সুনাম হব',\n",
              " 'ক্যাপ্টেন কুক ঢাকা সত্যিই অসাধারণ বার্গার সুপার',\n",
              " 'ক্যাপ্টেন কুক ভাল কামনা বজায়',\n",
              " 'বার্গার ভাজাভুজির ভাল অ্যামেজিং বার্গার বাহ',\n",
              " 'দারুন সেবা চমৎকার ভালবাসা সুন্দর',\n",
              " 'সুস্বাদু খাদ্য নিউ সংবেদন এইমাত্র',\n",
              " 'ধানমন্ডি আরেকটি বার্গার স্বর্গ',\n",
              " 'সেরা তালিকাভুক্ত ক্যাপ্টেন কুক চা',\n",
              " 'রেস্টুরেন্ট বার্গার খুবই চমৎক',\n",
              " 'নাগা বার্গার ফুঁ মন',\n",
              " 'দারুন মানের পণ্য মানের সেবা',\n",
              " 'সর্বাধিক অনন্য পণ্য লাইন গ্রেট বার্গার রেস্টুরেন্টে ক্যাপ্টেন কুক উন্নতি',\n",
              " 'ভালো খাবার',\n",
              " 'ক্যাপ্টেন কুক প্রমাণ প্রতিভা শেফ সত্যিই সন্ত্রস্ত',\n",
              " 'বেস্ট ইন সীমান্ত স্কোয়ারে ধান্মন্ধি সার্ভিস টষ্ট',\n",
              " 'শ্রেষ্ঠ ছাদের বার্গার রেঁস্তো',\n",
              " 'ব্যক্তি খাদ্যতালিকা আরবীয় মাস্টার সুন্দর জায়গা পরিবেশ খাবারের মান ভাল বিশেষত কর্মীদের আচরণ সুন্দর ভাল পরিবেশ মানসম্পন্ন খাবার আরবীয় মাস্টারের সাথে উপযুক্ত মূল্য এক কথায় দুর্দান্ত',\n",
              " 'ছেলেরা দুর্দান্ত কেবল অফার পিজ্জা টাস্টি রিসনেবলপ্রাইস পছন্দ',\n",
              " 'বন্ধু উল্লেখ গিয়েছিলাম পনির ক্রিম পাস্তা সম্পূর্ণরূপে মূল্যবান ধরণের খাবার পিজ্জা এনবি ইতিমধ্যে বন্ধুদের সাথে ট্রিট সকলের বিশ্বাস করুন সেরা বিকল্প',\n",
              " 'সুস্বাদু ভাল মানের খাবার পরিবেশন কর',\n",
              " 'সত্যিই ভাল জায়গা তুলনাহীন আচরণও ভাল সেরা আতিথেয়তা খাবারটিও সেরা প্রতিটি খাবার সত্যই পরীক্ষামূলক যুক্তিসঙ্গত দাম দম্পতি বন্ধু পরিবারের জায়গাটি সেরা অভ্যন্তর নকশা সুন্দর দেখাচ্ছে সবকিছু পছন্দ',\n",
              " 'ভাল জায়গা ফুডস সত্যিই সুস্বাদু পরিবেশ ভাল এখান লালবাগ কেলার দৃশ্য পাচ্ছি কর্মীদের ভাল দামগুলি যুক্তিসঙ্গত',\n",
              " 'মেহের সবচেয়ে আরামদায়ক জায়গা বিশেষত আচরণটি উচ্ছল',\n",
              " 'সুন্দর জায়গাটি ভাল সময় পছন্দ করেছিল',\n",
              " 'সেরা আরবীয় মাস্টার পছন্দ করেছি',\n",
              " 'খাবারটি বার্গার ভাল আরবিয়ান মাস্টার ওল্ড টাউন ইনশাল্লাহর দোকানের মাস্টার হ',\n",
              " 'ঘন ঘন নিয়মিত গ্রাহকের খাবারের মান ভাল পরিবেশও ভাল পিজ্জা পরীক্ষা মেনু সেট করুন সম্পূর্ণ বিশ্বাসযোগ্য',\n",
              " 'লালবাগের রেস্তোঁরাগুলির পরিবেশ ভাল পরিষেবা হ ল গুড বিসিজেড সীমাহীন পরিবর্তন আনার সময়',\n",
              " 'সুন্দর বন্ধুত্বপূর্ণ পরিবেশ ভাল খাবার সেট মেনুগুলি মতে সেরা বজায়',\n",
              " 'প্রথমবারের অপ্রত্যাশিতভাবে গিয়েছিলেন খাবারটি এতটা ইয়াম আশা নি পরিষেবাটি অন্যদের রোজা রাখার উপায় পছন্দ করেছি',\n",
              " 'খাবারের গুণমান পরিষেবা ভাল কেবল খাবার পছন্দ বিশেষভাবে ক্রিম পাস্তা চৌমিন',\n",
              " 'প্রত্যেকে প্রচুর মজা উপভোগ বন্ধুবান্ধব জন্মদিনের পার্টির সাথে চ্যাট আরবীয় মাস্টার সবাইকে ধন্যবাদ',\n",
              " 'পিজ্জা ভাল লাগছিল পছন্দ বন্ধুরাও পছন্দ',\n",
              " 'উজ্জীবিত জন্ম দিবসটি পুরোপুরি আশ্চর্যজনক উদযাপন যাচ্ছি ¿ ½ খাবার সত্যিই ভাল গিউস প্লিজ যাচ্ছেন দিনটি উপভোগ করুন',\n",
              " 'পারিবারিক সেরা জায়গা খাদ্য গুণমান পরিমাণ আরবীয় মাস্টার সবকিছুর ধন্যবাদ',\n",
              " 'যুক্তিসঙ্গত দামের সাথে মুখরোচক পিজ্জা ছাড় অফার পছন্দ ¿ ½',\n",
              " 'মহান খাদ্য বিশেষত বিবিকিউ মুরগি প্রত্যেকেরই স্বাদ',\n",
              " 'বিবিকিউ পিজ্জা প্রেম ¤ সময় পরিদর্শন করেছি পরিবেশও ভাল',\n",
              " 'কেবল পিজ্জা চিজিই নিশ্চিতভাবে এটির স্বাদ চাই',\n",
              " 'দুর্দান্ত জায়গা আচরণ ভাল চালিয়ে',\n",
              " 'হ্যাঙ্গআউট সুন্দর জায়গা পরিষেবা ভাল',\n",
              " 'দুর্দান্ত খাবার বিশেষত বিবিকিউ ললিপপ মুরগি প্রত্যেকেরই স্বাদ',\n",
              " 'আশ্চর্যজনক খাবার দুর্দান্ত আতিথেয়তা সত্যই মুগ্ধ',\n",
              " 'অসাধারণ',\n",
              " 'খাবার ভাল বেঁচে থ্যাঙ্কস আরবীয় মাস্টার ওয়ন',\n",
              " 'খাবারগুলি দুর্দান্ত মিস',\n",
              " 'ম হোম ডেলিভারি এফআরএম ডিএম এনওয়াইসি এন ফাস্ট এন ডি পিজ্জা মুখের জল ইয়ামম',\n",
              " 'চমত্কার খাবার',\n",
              " 'ভালো',\n",
              " 'কিসু বোলার খোয়ার পরীক্ষা ওয়ানক ভ্লো পছন্দ',\n",
              " 'খাবারের মান ভাল সুস্বাদু',\n",
              " 'আরবীয় মাস্টার হলেন মাহ ২ য় বারী গার এম থ্রি ফুড এন অ্যাবট সার্ভিস থ্রি স্টাফ লিক মাহ ছোট ভাই',\n",
              " 'সুন্দর ভালবাসি',\n",
              " 'মুখরোচক খাবার পরিষেবাটি সন্তুষ্ট পছন্দ',\n",
              " 'লালবাগে সুন্দর জায়গা দা খাবার পছন্দ করুন',\n",
              " 'ভাল খাবার সহকারী রেস্তোঁরা ব্যবস্থাপক মি পিয়ার আহমেদ দুর্দান্ত ব্যক্তিগতকৃত পরিষেবা দুর্দান্ত খাবার পরিষেবা চালিয়ে',\n",
              " 'জামাইকান গ্রিল চিকেন ওয়ান স্বর্গীয় এক ভালবাসা সর্বদা বিবি কিউতে কিছুটা মূল্যবান মূল্যবান',\n",
              " 'দুর্দান্ত বন্ধুরা গেটটোজার পার্টি খাবারের অংশটি পরিষেবা বন্ধুত্বপূর্ণ',\n",
              " 'শহরে সেরা মুরগি সরস মুরগি পছন্দ অবশ্যই করুন',\n",
              " 'চমত্কার খাবার কোরিয়ান প্লাটার শুভেচ্ছা',\n",
              " 'চলমান কিনুন গেট ওয়ান ফ্রি ভাল অফার জায়গাটি ভাল স্টাফ স্ট্যান্ডার্ড কোরিয়ান স্টাইলের মুরগির আইটেমগুলিতে পরিবেশন মুরগী প্রেমীদের উচ্চ সুপারিশ করুন',\n",
              " 'জায়গাটি ভালবাসুন সুন্দর পরিবেশ লোকেরা পছন্দের পেয়েছে সর্বাধিক প্রস্তাবিত রেস্তোঁরা',\n",
              " 'পুন মূল্যায়ন পরিষেবা ওয়েটার সুমিত খাদ্য দুর্দান্ত অভিজ্ঞতা বিবিকিউ বাংলাদেশ গুলশান',\n",
              " 'মহৎ সেবা মহান খাদ্য',\n",
              " 'খাবারের গুণমান অ্যাগ্রার থেক ওয়ানক বাজে সার্ভিস থিক অ্যাসে খাবারের গুণমানটি পরের ভালো হোব বিবিকিউ গুলশান',\n",
              " 'ভাল খাবার ¿ ½ দুর্দান্ত পরিষেবা বছরের বছর আসছেন সর্বোত্তম হ ল খাদ্য গুণমান পরিষেবার সাথে সামঞ্জস্যপূর্ণ',\n",
              " 'শহরে সেরা মুরগি পরিবেশন পরিষেবা খাবারের সাথে খুশি',\n",
              " 'আশ্চর্যজনক পরিবেশ ধূমপান অঞ্চল পছন্দ খাবারও যথাযথ সময়ে পরিবেশন',\n",
              " 'সেরা পরিষেবা',\n",
              " 'মানের খাবার দুর্দান্ত পরিবেশ সেরা পরিষেবা',\n",
              " 'পছন্দ',\n",
              " 'সুন্দর',\n",
              " 'দুর্দান্ত ডি',\n",
              " 'চিত্তাকর্ষক পরিষেবা খাবারের গুণমান মানের সাথে বাড়তে থাকুন',\n",
              " 'মুরগির স্বাদ দুর্দান্ত সুস্বাদু মুরগির আইটেমগুলি পছন্দ কর',\n",
              " 'দুর্দান্ত খাবার ভাল গ্রাহক পরিষেবা',\n",
              " '¿ ½',\n",
              " 'খাবার পছন্দ',\n",
              " 'কয়েকবার ছিলাম স্বাদের কুঁড়ি যাইহোক সত্যিই জামাইকান গ্রিল ভেজ ফ্রাইড রাইস সবুজ আপেলের রস উপভোগ করেছি দুর্দান্ত খাবারটি বন্ধুত্বপূর্ণ সেবার সাথে আসে থাম্বস আপ',\n",
              " 'খাদ্য বাংলাদেশের সেরা মান এটমসফেয়ার পালিশ পরিষেবা দুর্দান্ত',\n",
              " 'স্থান ¿ ½ ভাল পরিবেশ ¿ ½ ব্যক্তিগতভাবে পছন্দ করেছি ¿ ½',\n",
              " 'আশ্চর্যজনক খাবার চমত্কার অভ্যন্তর ভাল আচরণ ওয়েটার থাম্ব আপ',\n",
              " 'সময় ছিলাম সর্বদা পরিষেবাগুলিতে সন্তুষ্ট বাচ্চাদের ছোট জায়গা ছোট সন্তানের সহায়ক',\n",
              " 'ভাল',\n",
              " 'আসলে সাধারণত পর্যালোচনা লিখি একজন গুরুতর সমালোচক সমালোচনার স্তরটি সত্যই রেস্তোঁরাটি কিছুর পছন্দ কোরিয়ান বিবিকিউ জামাইকান বিবিকিউ আশ্চর্যজনক যেখানেই যাই অফিস ফ্রেন্ডস হাউস শারীরিকভাবে রেস্তোঁরায় যাই ফুডপান্ডা ড্রাইভারের খাবারগুলি অর্ডার উত্তরাটিতে থাকি আশা একদিন শাখা খুলবে খাবারের গুণমান',\n",
              " 'প্রিয় জায়গা সেরা ম্যাশড আলু মারতে',\n",
              " 'সুস্বাদু খাবার আশ্চর্যজনক আইটেম সরবরাহ করুন আসলেই ভাল',\n",
              " 'জামাইকান মুরগির সময় সময় ঘুরে দেখব বেস্ট ইন টাউন',\n",
              " 'দুর্দান্ত খাবার পরিবেশ জায়গাটি ভালবাসি',\n",
              " 'খাবারের স্বাদ পরিবেশ দুর্দান্ত থাকতে চাই',\n",
              " 'শহরের অন্যতম সেরা রেস্তোঁরা',\n",
              " 'জামাইকান বিবিকিউ দুর্দান্ত সুন্দর পরিবেশ ধন্যবাদ বিবিকিউকে',\n",
              " 'সুস্বাদু খাবার দুর্দান্ত জায়গা',\n",
              " 'মানসম্পন্ন খাবারের সাথে সামগ্রিকভাবে ভাল জায়গা যাব চ্যালেঞ্জ',\n",
              " 'গুলশান ২ বিবিকিউতে গিয়েছি প্রতিটি উপলক্ষে পুরোপুরি সন্তুষ্ট হয়েছি বায়ুমণ্ডলটি দুর্দান্ত ওয়েটার বন্ধুত্বপূর্ণ টেবিলগুলি পরিষ্কার খাবার সুস্বাদু বিশদে খাবার সর্বজনীনভাবে সুপারিশ ফলক মাশরুম স্যুপ কোরিয়ান চারব্রোয়েলড মুরগি ইতিমধ্যে বিবিকিউতে গেছেন প্রথমবার কিনা আইটেম হতাশ',\n",
              " 'চিহ্ন স্বাদ পরিবেশটি সর্বোত্তম বাচ্চাদের বন্ধুত্বপূর্ণ',\n",
              " 'জামাইকান গ্রিলড প্লাটারটি সত্যিই ভাল',\n",
              " 'খাবার টা ভালো',\n",
              " 'বিবি কিউ সহজেই গ্রাহকদের সরবরাহ অতুলনীয় স্বাদ পরিষেবা পরিবেশের কারণে াকার শীর্ষ বন্ধনীগুলির রেস্তোঁরা সহজেই অবশ্যই শীর্ষের হার্ট শোধক খাবার দখল জায়গাগুলিতে',\n",
              " 'জামাইকান গ্রিলড প্লাটার ডু আশ্চর্যজনক মুরগি সরস পক্ষগুলি তাজা বিবিকিউ অবশ্যই নি সন্দেহে াকার অন্যতম সেরা রেস্তোঁরা পছন্দ সম্ভবত আবর্জনা খান বারবার আসতে থাকি কর্মীরা পাশাপাশি অতিথিপরায়ণ',\n",
              " 'খাবারের দুর্দান্ত জায়গা সত্যিই কোরিয়ান চারবাইলড চিকেন প্যারিস উইংসগুলি পছন্দ পরিষেবাটিও দুর্দান্ত',\n",
              " '¿ ½ প্রেম জীবন গল্পগুলির পর্যালোচনাগুলি পড়া খাবারটি দুর্দান্ত',\n",
              " 'খাবারটি সুন্দর প্রতিবার বিবিকিউতে গিয়েছিলাম কেবল সেরা রান্না বিবিকিউ মুরগির',\n",
              " 'বিপিএল গ্র্যান্ড ফাইনাল শুক্রবার ডিসেম্বর দক্ষিন স্ট্যান্ড প্রধান মূল্য দাম জিজ্ঞাসা শহীদ মুশটেক প্রধান মূল্য জিজ্ঞাসা মূল্য ভিআইপি গ্র্যান্ড স্ট্যান্ড প্রধান মূল্য জিজ্ঞাসা মূল্য আতিথেয়তা বাক্স প্রধান মূল্য জিজ্ঞাসা মূল্য এন টিকিট হটলাইন',\n",
              " 'খাবার পছন্দ ডি চালিয়ে কোরিয়ান চারব্রোয়েলড দুর্দান্ত',\n",
              " 'সবেমাত্র ডি কোয়ালিটি ফুড বিবিকিউ সংমিশ্রণ পিজ্জা আশ্চর্যজনক ¿ ½গুলির সাথে প্রিয় রাস্পবেরি স্মুথির সাথে ¿ ½ § § চালিত ½',\n",
              " 'ভালবাসা পিজ্জা বিশেষত কোরিয়ান চারব্রোয়েলড পিজ্জা',\n",
              " 'দুপুরের খাবার খাওয়ার প্রিয় জায়গা মূল্য খাবার দুর্দান্ত ¿ ½ ¿ ½',\n",
              " 'কথায় দুর্দান্ত',\n",
              " 'খাবারগুলি সুস্বাদু সুন্দর অবস্থান চার্জ বুঝতে',\n",
              " 'পরিষেবা খাবার জায়গাটি ভালবাসুন সবকিছু নিখুঁত',\n",
              " 'খাবারটি আশ্চর্যজনক বসার ব্যবস্থা পছন্দ সেরা মোচা পেয়',\n",
              " 'ভাল খাবার ভাল পরিবেশ পছন্দ করছি এগিয়ে',\n",
              " 'চিত্তাকর্ষক পরিষেবা সত্যিই মুখরোচক খাবার',\n",
              " 'সুন্দর জায়গা খাবার সুস্বাদু খাবার এনডি জায়গা সবাইকে বলব',\n",
              " 'জায়গা ভালবাসা কোরিয়ান চারব্রোয়েলড মুরগি মারা সময় এসেছি শেষবার হতাশ হইনি ঠান্ডা খাবার পরিবেশন এমনকি মাশরুমের স্যুপটি সবে গরম ছাদযুক্ত আলুর সাথে ভুল সাধারণত মুখরোচক গুলশান শাখায় ধানমন্ডি শাখায় শেষ সফরে নিয়েও হতাশ হয়েছি শেফ রেসিপিটি পাচ্ছেন যাইহোক সত্যিই আশা ছেলেরা কেবল খারাপ কাটছিলেন দয়া নিশ্চিত করুন ঘটে ঠান্ডা খাবার কেবল গ্রহণযোগ্য আপনাকে অনেকবার দেখার অপেক্ষায় রয়েছি দয়া জায়গাটি নষ্ট ধন্যবাদ',\n",
              " 'মধ্যাহ্নভোজ আইটেমগুলি সুস্বাদু দুর্দান্ত ভালবাসা',\n",
              " 'বিবিকিউ খাবার পছন্দ সুন্দর পরিবেশের মুখ জল খাওয়ার স্বাদ',\n",
              " 'মুগ্ধ',\n",
              " 'উত্কৃষ্ট',\n",
              " 'প্রথমবার সজ্জা পরিবেশকে লোভিত করুন খাবারটি দুর্দান্ত স্বাদযুক্ত অবশ্যই বন্ধুবান্ধব পরিবারকে সুপারিশ করব',\n",
              " 'সেরা ভাজা মুরগি স্বাদ পেয়েছি মন ফুটিয়ে উঠছে কেবল নিয়মিত দরকার',\n",
              " 'ভালবাসি',\n",
              " 'নি সন্দেহে শহরের সেরা মুরগির রেসিপিগুলির জায়গা',\n",
              " 'গর্জনজোলা চিংড়ি পিজ্জা মারা এটির',\n",
              " 'কোরাআ',\n",
              " 'কোরিয়ান চারবাইলড উরু পৃথিবীর সেরা জিন',\n",
              " 'কোরিয়ান পাশাপাশি জামাইকান বিবিকিউ উপভোগ দুর্দান্ত জায়গা',\n",
              " 'বিবিকিউ বেস্ট মনু',\n",
              " 'ওয়েবসাইট ডিজাইন বিকাশের অফার লেটার প্রিয় স্যার ম্যাম সালাম শুভেচ্ছা সংস্থা লুমেক্সটেক সলিউশন লিমিটেডের সাথে পরিচয় সুযোগটি গ্রহণ বাংলাদেশ কম্পিউটার কাউন্সিল বিসিসি কমিলা বিশ্ববিদ্যালয় ভিক্টোরিয়ার সাথে পরিবেশন করছি বিশ্ববিদ্যালয় উত্সর্গীকৃত দক্ষ দল নামী সংস্থা প্রতিযোগিতামূলক মূল্যে পেশাদার ঝামেলা মুক্ত সফ্টওয়্যার ওয়েব ডেভলপমেন্ট সলিউশন পরিষেবা সরবরাহ আপনাকে সফ্টওয়্যারটির ব্যবসায়ের প্রয়োজনীয়তা বাড়ানোর সম্ভাব্য দুর্দান্ত সুযোগ সরবরাহ সন্তুষ্টি গ্যারান্টিযুক্ত ব্যবসায়ের প্রয়োজনীয়তা পূরণ করব সমস্তভাবে মনোরম অভিজ্ঞতা নিশ্চিত ওয়েব ডিজাইন উন্নয়ন দলে প্রতিভা দক্ষ ব্যক্তিদের সমন্বয়ে গঠিত সমৃদ্ধ কার্যকারিতা প্রিমিয়াম মানের ওয়েবসাইটগুলি ডিজাইন বিকাশ সক্ষম ওয়েবসাইট উন্নয়ন প্রকল্পটি এইচটিএমএল ভিত্তিক ওয়েবসাইটগুলি সমৃদ্ধ সিএমএস সিস্টেমগুলির সাথে মাল্টিফংশনাল ওয়েব পোর্টাল উচ্চ মানের ওয়েব ভিত্তিক অ্যাপ্লিকেশনগুলিও বিকাশ কমার্স পোর্টালগুলিও বিকাশ বাণিজ্য পরিষেবা সরবরাহ জবাবের অপেক্ষা করছি দীর্ঘমেয়াদী উপকারী ব্যবসায়িক সম্পর্কের আন্তরিকভাবে অপেক্ষা করছি ধরণের সংস্থা সংস্থাগুলির ওয়েব ডিজাইন বিকাশ স্পষ্টকরণে সুবিধার্থে সাথে যোগাযোগ স্বাগত জানাই লাইফ ওয়ার্ক ডেমো দেখানোর সভা স্থির সদয় তথ্যের সংস্থার প্রোফাইলটি সংযুক্ত করেছি অব্যাহত সাফল্য কামনা শুভেচ্ছা এম জাহিদুল ইসলামের নির্বাহী কর্মকর্তা লুমেক্সটেক সলিউশনস লিমিটেড লেক সার্কাস ধোলফিন গোলি কালাবাগান াকা সেল ব্যক্তিগত',\n",
              " 'সর্বকালের সেরা টেস্ট ¤ ¤ ¤ ভাল খাবারের গুণমান',\n",
              " 'সেরা পরিবেশের সাথে সেরা স্বাদ একেবারে প্রিমিয়াম চিকেন',\n",
              " 'সত্যিই দুর্দান্ত পরীক্ষা তাজা খাওয়া বিবিকিউ ভালবাসি খাবারগুলি দুর্দান্ত পছন্দ জায়গায় বিবিকিউ শুভেচ্ছা জানাই ডি',\n",
              " 'পরিবারের সদস্য সর্বশক্তিমান ধন্যবাদ ¿ ½',\n",
              " 'দুর্দান্ত খাবারের সাথে দুর্দান্ত পরিষেবা বাহ বাহ বাহ বাহ',\n",
              " 'দুর্দান্ত পরিবেশ মানের খাবার আপনাকে ধন্যবাদ',\n",
              " 'দুর্দান্ত সুস্বাদু খাবার ভাল পরিষেবা নিশ্চিতভাবে দুর্দান্ত জায়গা কোরিয়ান চর সিদ্ধ মুরগি পছন্দ ডি দাম ব্যতীত সবকিছু নিখুঁত কিছুটা ব্যয়বহুল',\n",
              " 'গরম এন মশলাদার মুরগির ভাজা পছন্দ সুন্দর পরিবেশ আতিথেয়তা এটিকে াকার শীর্ষ রেস্তোঁরাগুলিতে রেট করব',\n",
              " 'ভাল পদক্ষেপ',\n",
              " 'উজ্জ্বল',\n",
              " 'চারবাইলড মুরগি পছন্দ দুর্দান্ত',\n",
              " 'আশ্চর্যজনক খাবার দুর্দান্ত পরিষেবা',\n",
              " 'ভাল খাব',\n",
              " 'ভাল খাবার স্বাস্থ্যকর',\n",
              " 'রাতের খাবারের সত্যিই ভাল জায়গা জামাইকা কোরিয়ান চিকেন উভয়ই ভাল পরীক্ষা সংমিশ্রণ পিজ্জা দুর্দান্ত পছন্দ',\n",
              " 'ভাল খাবার এন দুর্দান্ত পরিষেবা',\n",
              " 'আসাদ',\n",
              " 'বিবিকিউ বাংলাদেশকে সূক্ষ্ম ডাইনিং উপাদানের তিহ্য বর্ণনা সহজ শব্দ',\n",
              " 'পছন্দ',\n",
              " 'সুস্বাদু খাবারটি সত্যিই ভাল তৈরি আলুগুলি অসাধারণ',\n",
              " 'টুয়েট ভো',\n",
              " 'সুস্বাদু',\n",
              " 'অর্থ ডিলের আসল মূল্য আশ্চর্যজনক খাবার',\n",
              " 'চিংড়ি গর্জনজোলা পিজ্জা চিকেন ক্রিম পাস্তা নিখুঁত পরবর্তী ভিজিটে বার্গার ফ্রাই আশা ব্যক্তিগত শহরে শীর্ষ বার্গার তালিকায় স্থান দেবে হ্যাঁ একজন বার্গারহোলিক',\n",
              " 'একেবারে ভালবাসি খাবার তাজা সুস্বাদু মুহুর্তে সম্ভবত াকার সেরা খাওয়ার জায়গাগুলির',\n",
              " '',\n",
              " 'আউসম ফুড',\n",
              " 'জায়গাটি বোমা',\n",
              " 'চমত্ক',\n",
              " 'রাতে পরিবারের সাথে বিবিকিউ ফুড পরীক্ষামূলকভাবে দুর্দান্ত ডিনার',\n",
              " 'দারুন জায়গা',\n",
              " 'জাস্ট চুড্ট নিজেকে তারকা ভাল জায়গা বন্ধ করুন আশ্চর্যজনক খাবার',\n",
              " 'সবেমাত্র দেড় বছর দেশে বেড়াতে এসেছিল রেস্তোঁরা খাবার কথাটি খুশি গুণটি আগের ভাল পুরানো প্রিয় কোরিয়ান চারব্রোয়েলড চিকেন এটির স্বাদ পেয়েছিল বরাবরের দুর্দান্ত অভিজ্ঞতা অবশ্যই আসব',\n",
              " 'বাহ মুরগী',\n",
              " 'সুপার ফুড দুর্দান্ত জায়গা',\n",
              " 'খাবার দুর্দান্ত',\n",
              " 'সেরা',\n",
              " 'খুঁজে পেয়েছি খাবারটি স্বাস্থ্যকর পরিবেশ অবস্থান আরামদায়ক',\n",
              " 'ফাতাফাতি দুর্দান্ত জোসস',\n",
              " 'সুন্দর খাবার',\n",
              " 'দুর্দান্ত পরিষেবা',\n",
              " 'প্রতিদিন যাই বলেছে হ্যাঁ',\n",
              " 'চমৎকার খাদ্য লম্পট পরিষেবা কর্মীদের ভাল প্রশিক্ষণ প্রয়োজন গুরুতরভাবে সমন্বয়ের অভাব সম্পাদনা গণ্ডগোলের সূচনা দীর্ঘ পথ পাড়ি প্রিয় জায়গাগুলির কর্মীরা সুন্দর চাই মেনুতে বৈচিত্র্য যুক্ত ইতিমধ্যে মেনুতে করেছি মেনুতে সবকিছু ভাল পিজ্জা তাকিয়ে আছি যেগুলি আশ্চর্যজনক',\n",
              " 'দুর্দান্ত খাবার ভাল পরিষেবা শীতল জায়গা সহজেই বিডির অন্যতম সেরা স্থান পেতে',\n",
              " 'আসল বিবিকিউ চিকেন মধু সরিষার সালাদ স্বাদে আশ্চর্যজনক পরিবেশটিও দুর্দান্ত বিবিকিউ বন্ধ',\n",
              " 'মুরগী সালাদ দুর্দান্ত মিষ্টান্নটি বেটার সবচেয়ে ভাল জিনিসটি মিষ্টান্নের ফিডের প্রশংসা করেছিল তাত্ক্ষণিকভাবে সেট করেছিল ব্রিগেড জেনারেল মনজুর কাদার আঙ্কেল মালিকদের একজন সাথে দ্রুত আড্ডার কিছুটা সময় কাটাতে ধৈর্য সহকারে শোনার ধন্যবাদ খাবার মেনুতে পর্যালোচনা অবশ্যই শীঘ্রই অন্যান্য আইটেম দেখছি',\n",
              " 'দুর্দান্ত পরিষেবা দুর্দান্ত খাবার',\n",
              " 'সবচেয়ে ভাল জায়গা',\n",
              " 'ভাল দুর্দান্ত সজ্জা দাম কিছুটা উঁচু খাবারটি সত্যিই ভাল তাজা',\n",
              " 'ভাল খাবার টাকার মূল্য',\n",
              " 'বাংলাদেশের সেরা খাব',\n",
              " 'দুর্দান্ত ভালবাসি',\n",
              " 'সজ্জা ভাল পরিষেবাও ভাল দ্রুত জিনিসটি খাবারের গুণমান সুস্বাদু মুখরোচক বিনামূল্যে ওয়াইফাই উপলব্ধ একরণের আচরণ সেবাযোগ্যতা',\n",
              " 'দুর্দান্ত খাবার স্বাদ পুরোপুরি অর্থ ব্যয় মূল্যবান চেকিং অত্যন্ত সুপারিশ',\n",
              " 'রাখুন টিএ বেসি জোসে জোসে সর্বদা জোদি আমন খাবার পরিবেশন করুন কোরে ইনশাল্লাহ সাফল্য হব',\n",
              " 'মশলাদার আকর্ষণীয় মেনু দুর্দান্ত খাবার পুরোপুরি ওয়েটার পরিবেশন ওয়ান্ডারফুল পরিবেশ উত্কৃষ্ট পরিষেবাতেও পূর্ণ পরিষেবাটি সময় গরম তাজা খাবার ওহ ভাল মিলিয়ে নিখুঁত খাবার টকটকে অভ্যন্তর পারিবারিক জমায়েত পার্টির দুর্দান্ত জায়গা পার্টির ব্যবস্থা কেবল শহরের সেরা জায়গা',\n",
              " 'পরিবারের সাথে ইফতার ইফটার মেনু ভাল পরিবার মানের বন্ধুদের সাথে দুর্দান্ত জায়গা পেয়েছি খাবারের মানও ভাল ঝরঝরে পরিষ্কার ক্যাফে',\n",
              " 'ভাল রেস্তোঁরা সাজসজ্জা অসাধারণ আউট দরজা দুর্দান্ত যুক্তিসঙ্গত দাম খাবার পরিষেবার দুর্দান্ত মানের জায়গাটি ভালবাসি সময় চাই',\n",
              " 'মশলাদার দুর্দান্ত অভিজ্ঞতা পরিষেবাটি দুর্দান্ত পরিচালন কর্মীরা পরিষেবার মান সম্পর্কে সচেতন মেনুটিও দুর্দান্ত পরামর্শ উদ্ভাবনী সুস্বাদু খাবারের আইটেমগুলিতে মনোনিবেশ রেস্তোঁরাটিকে অন্যদের আলাদা তুলতে খোলা পরিবেশ উপভোগ গ্রীষ্ম বর্ষাকালে খোলা জায়গার অস্থায়ী ছাদের ব্যবস্থা',\n",
              " 'খাবারটি ভাল পরিষেবাটি ২ য় সময় ধীর ব্যক্তিগতভাবে দায়িত্ব নেয় কর্তৃপক্ষের বড় থাম্বস আপ খাবারটি দ্রুত পেয়েছি নিশ্চিত করুন',\n",
              " 'সাধারণত পোস্ট মন্তব্য জায়গাটি দুর্দান্ত খাবারটিও সুস্বাদু এজন্য আশ্চর্যজনক জিনিস বন্ধুত্বপূর্ণ পরিষেবাটি মসৃণ ধন্যবাদ ছেলেরা',\n",
              " 'সেরা সেট মেনুগুলির থাই স্যুপটি সুস্বাদু মশলাদার খাদ্য',\n",
              " 'দুর্দান্ত পরিবেশ খাবারের মান কেবল দুর্দান্ত অত্যন্ত বাঞ্ছনীয়',\n",
              " 'দুর্দান্ত জায়গা কেবল দুর্দান্ত খাদ্য ইয়াম্মি সুস্বাদুও ভাল মানেরও বজায় রাখে',\n",
              " 'রিয়েল ফুড জিডি কেবল এটিই সুন্দর জায়গাও সুন্দর দৃশ্য দৃশ্য পছন্দ',\n",
              " 'যুক্তিসঙ্গত দাম খাবার পরিষেবার দুর্দান্ত মানের তদুপরি পরিবেশটি সুন্দর গ্রাহকদের মূল্য সরবরাহ মশলাদার দলের শুভেচ্ছা',\n",
              " 'অসাধারণ পরিবেশ ডাব্লুডি পরীক্ষামূলক খাবার লোকের আশেপাশে পার্টির ব্যবস্থা সকলেই দা ফুড এন ভিউ পছন্দ স্টিফ ভালভাবে শা আল্লাহে আসব এন',\n",
              " 'সত্যিই পূর্বের ভাল জায়গা পুনরুদ্ধার ভালবাসা খাবারগুলি সুস্বাদু ভাল কর্মী অনুগত ভাল',\n",
              " 'রেস্তোঁরাটি ভাল অভ্যন্তরটি কেবল দুর্দান্ত খাবার ভাল দাম যুক্তিসঙ্গত গুণমান ভাল ব্যবসায়ের শুভেচ্ছা',\n",
              " 'পুনরুদ্ধারটি ভাল অভ্যন্তরটি দুর্দান্ত খাবার ভাল দাম অনুরণনযোগ্য গুণমান ভাল ভালবাসা',\n",
              " 'কেবল বাহ ওসাম খাবারের গুণমান কেবল পছন্দ ¿ ½গুলির জায়গা জায়গাটিও সুন্দর',\n",
              " 'দুর্দান্ত পরিবেশ দুর্দান্ত সজ্জা এনডি মুখরোচক খাবার কেবল টিআইএইচএস জায়গা পছন্দ ঘুরে চা',\n",
              " 'একজন খাদ্য খাবারের মানটি পছন্দ পরিবেশটি দুর্দান্ত চাই',\n",
              " 'দুর্দান্ত জায়গা ½ ¿ ½গুলির ½ ¿ ½গুলির ¿ োশম্যান ¿ োশম্যান করেছিলএস ½',\n",
              " 'গ্রেট অভিজ্ঞতা মশলাদার খাবার এন পরিষেবাগুলির দুর্দান্ত মানের জায়গা ভালোবাসি',\n",
              " 'খাবার পরিবেশ অন্বেষণ পছন্দ কেবল এম্বিয়েন্স খাবারটি পছন্দ করতাম সন্তোষজনক',\n",
              " 'বারবার আসব দুর্দান্ত অভিজ্ঞতা স্ট্রবেরি শেক অগ্রাধিকারগুলি কাঁপতে পছন্দ',\n",
              " 'সুন্দর',\n",
              " 'দুর্দান্ত খাবার বেস্টব সার্ভিস দুর্দান্ত সজ্জা সামগ্রিকভাবে উপভোগের দুর্দান্ত জায়গা',\n",
              " 'জায়গাটি সুন্দরভাবে সজ্জিত খাদ্যের গুণমানটিও প্রশংসনীয়',\n",
              " 'স্থান খাবার অভ্যন্তর পরিষেবা ভাল মশলাদার সেরা আল্লাহ তোমাকে রহমত করুক',\n",
              " 'সুন্দর সাজসজ্জা সুন্দর পরিবেশ ভালো সেবা খাদ্য পরীক্ষা দুর্দান্ত ভাল আচরণ সম্পূর্ণ প্রশিক্ষিত রেস্তোঁরাটি পছন্দ',\n",
              " 'জায়গাটি দুর্দান্ত কেবল পছন্দ করেছি ডেকোরেশন ভাল',\n",
              " 'আশ্চর্যজনক অভ্যন্তর খাবার ভালো ভাল সময় ব্যয় সুন্দর জায়গা',\n",
              " 'ফিলিংস মশলাদার সম্পর্কে অভিজ্ঞতা বলি শব্দে',\n",
              " 'খাবারের মান স্বাস্থ্যকর ভাল পছন্দ করেছি',\n",
              " 'সুন্দর',\n",
              " 'সুন্দর অভ্যন্তর সুন্দর আচরণ ভাল খাবার যুক্তিসঙ্গত দাম',\n",
              " 'পরিবেশ খাবার পরিষেবা দুর্দান্ত',\n",
              " 'জোস আকতা প্লেস সুন্দর সজ্জা মুখরোচক খাবার',\n",
              " '¦ § ¦¬ ¦¸ § ¦¨ § ¦¦¦ ° ¦¯¦ আছেন ο¾ বিপরীতে ˜',\n",
              " 'ভাল সময় ভাল খাবার জায়গা সুন্দরী কনেশন',\n",
              " 'শুভকামনা',\n",
              " 'আসল মশলা পূরণ আসুন এন ইনজয়',\n",
              " 'জানি ছিলাম সত্যিই দুর্দান্ত কফি নিখুঁত কফি শপ',\n",
              " '€ ™ বাড়িতে তৈরি আইটেম ঠান্ডা কফি এটির এক ধরণের',\n",
              " 'ভালো লাগ্লো চোটো স্পেস হোমমেড প্যাস্ট্রি কেক কোল্ড কফি টিএ ব্যতিক্রমী',\n",
              " 'শালীন আচরণ খাবারগুলি স্বাস্থ্যকর সুস্বাদু',\n",
              " 'পছন্দ',\n",
              " 'ভালো',\n",
              " 'ঠান্ডা কফি ভালো সিলো আপনারা কর্ট পরান করুন',\n",
              " 'ডসাসে কোথায় যাবেন জানেন সঠিক জায়গা গতকাল পুরো পরিবারের সাথে জায়গায় গিয়েছিল জায়গাটির কর্মীরা দুর্দান্ত স্বাগত জানিয়েছিলেন দোসরা নরকের সুস্বাদু জায়গাটি সম্পর্কে সবচেয়ে আশ্চর্যজনক বিষয় হ ল দামের সীমা আক্ষরিকভাবে ধরণের ডসাস থাকতে সামগ্রিকভাবে পছন্দ',\n",
              " 'দোসা লাজাবাব হ ল অন্যতম সেরা অনন্য খাদ্য ধারণা পুরানো াকায় দেখেছি কেবল খাবার পছন্দ করেছি সীমাবদ্ধতা ছোট জায়গা বসেছিলাম বসার অন্যের সাথে ভাগ নিয়েছিলাম মুহুর্তে কেবল আপসকারী বিসিএসের প্রয়োজন প্রত্যেকে ডোসা লাজাবাবের খাবার পরীক্ষা দ্বিধায় অজানা ব্যক্তির সাথে পছন্দসই খাবার ভাগ উপভোগ করেছি ডোসা লাজাবাবের আসুন গ্রাহকের অনুভূতিগুলি বুঝতে পেরেছেন',\n",
              " 'খাবারের দুর্দান্ত স্বাদ দোসার স্বাদই সেরা',\n",
              " 'ডসাসে কোথায় যাবেন জানেন সঠিক জায়গা গতকাল পুরো পরিবারের সাথে জায়গায় গিয়েছিল জায়গাটির কর্মীরা দুর্দান্ত স্বাগত জানিয়েছিলেন দোসরা নরকের সুস্বাদু জায়গাটি সম্পর্কে সবচেয়ে আশ্চর্যজনক বিষয় হ ল দামের সীমা আক্ষরিকভাবে ধরণের ডসাস থাকতে সামগ্রিকভাবে পছন্দ',\n",
              " 'দোসা লাজাবাব হ ল অন্যতম সেরা অনন্য খাদ্য ধারণা পুরানো াকায় দেখেছি কেবল খাবার পছন্দ করেছি সীমাবদ্ধতা ছোট জায়গা বসেছিলাম বসার অন্যের সাথে ভাগ নিয়েছিলাম মুহুর্তে কেবল আপসকারী বিসিএসের প্রয়োজন প্রত্যেকে ডোসা লাজাবাবের খাবার পরীক্ষা দ্বিধায় অজানা ব্যক্তির সাথে পছন্দসই খাবার ভাগ উপভোগ করেছি ডোসা লাজাবাবের আসুন গ্রাহকের অনুভূতিগুলি বুঝতে পেরেছেন',\n",
              " 'প্রথমত দুর্দান্ত সজ্জা দুর্দান্ত আতিথেয়তা যুক্তিসঙ্গত দাম খাবার একেবারে মুখের জল চিজ আলু পারথা বেশিরভাগ হায়দরাবাদি দোসা দেখেছি ওল্ড াকার সেরা রেস্তোঁরা বারবার চাই শব্দে লাজাবাব',\n",
              " 'আগের ফ্রেন্ডস প্রশস্ত সময়ের যাই দুর্দান্ত ¿ ½ দোসা কেবল বাহ এনডি সস্তা খাবার বহন এনডি টিপস গ্রহণ অস্বীকার মর্মান্তিক জিনিস কোজ জায়গায় জায়গায় খেয়েছি সর্বদা পাশে টিপসের অন্যের পছন্দ আমিও আচরণে সন্তুষ্ট হই শা আল্লাহে সময় যাব',\n",
              " 'ভারতীয় খাবারের খাঁটি পরীক্ষা কথায় মুখের জল খাওয়ানো খাবার মান পরিষেবা দুর্দান্ত পরিবেশ দুর্দান্ত আপনাকে পরামর্শ চাই বিশাল কস্টোমারের দাবি অনুসারে শীঘ্রই বড় জায়গা দুর্দান্ত পরিষেবার ধন্যবাদ আপনাকে ভাল লাক্স কামনা করছি দোসা লাজাবাব রকস',\n",
              " 'দুর্দান্ত খাদ্য খাবারের গুণমান ডি সস্তা দাম এফএনএফের সাথে হ্যাঙ্গআউট দুর্দান্ত জায়গা পরিষেবা ভাল সামগ্রিক রেটিং সেরা পরিষেবা সেরা খাবার পাশাপাশি',\n",
              " 'ইয়েস্টি স্ত্রী ধোই ফুচকা মিশ্রণ নুডলস',\n",
              " 'দোসা লাজাবাব ওল্ড টাউনটির সেরা খাবারের দোকান খাবারটি তাজা',\n",
              " 'সস্তা দামের সাথে দুর্দান্ত খাবার খাবারের মানও ভাল জায়গাটি পছন্দ করুন',\n",
              " 'বেশিরভাগ খাবার স্বাদযুক্ত এনডি ভাল অঞ্চলের অন্যতম সেরা রেস্তোঁরা',\n",
              " 'বড় জায়গা আইটিজ কোয়ালিটি বড় ফুডজকে ভালবাসি সময় যাই কেবল দুর্দান্ত ভাল টেস্টি ফুডজ পরিবেশন কর',\n",
              " 'অসাধারণ পরিবেশ খাদ্য পরিষেবাগুলি ভাল চোলা ভ্যাচারকে ভালবাসি ওল্ড সেরা রেস্তোঁরা',\n",
              " 'কেবল দুর্দান্ত জায়গা খাবারের স্বাদ গুণমান ভাল দ্রুত পরিষেবা সামগ্রিক',\n",
              " 'জায়গাটি পছন্দ এন খাবার ভাল আচরণের সাথে ভাল খাবার',\n",
              " 'কেবল দুর্দান্ত জায়গা খাবারের স্বাদ গুণমান ভাল দ্রুত পরিষেবা সামগ্রিক',\n",
              " 'খাবারের আইটেমগুলি দুর্দান্ত সস্তা ভাল রাখুন টিএ ছোট সজ্জা সুন্দর',\n",
              " 'সেরা সেরা জেএসটি খাবার আতিথেয়তা পছন্দ',\n",
              " 'ওল্ড টাউনে সর্বকালের সেরা সবকিছু ভাল স্বাদ',\n",
              " 'যুগে যুগে রিয়েল ডোসার স্বাদ পেয়েছিলাম অবশ্যই',\n",
              " 'সুন্দর সজ্জা দুর্দান্ত খাবার পরিষেবাটিও দুর্দান্ত',\n",
              " 'ভালবাসুন ¿ ½ § § ½ খাবারটি ভাল বিশেষত দোসা ¿ ½',\n",
              " 'খাবারগুলি সত্যিই সুস্বাদু বসার জায়গাগুলির প্রয়োজন',\n",
              " 'যুক্তিসঙ্গত দাম ভাল খাবার বসার ব্যবস্থা পরিচালনা',\n",
              " 'কোথাই লাজাবাব ¿ ½ ¿ ½ ¿ ½ পরীক্ষামূলক খাবার পান',\n",
              " 'ভাল খাবার সস্তা দাম পরিষেবাটি ভাল বন্ধুত্বপূর্ণ পছন্দ',\n",
              " 'সুন্দর সজ্জা দুর্দান্ত খাবার পরিষেবাটিও দুর্দান্ত',\n",
              " 'দুর্দান্ত খাবার এন শীতল সজ্জা ডোসা সত্যিই লাজাবাব',\n",
              " 'দোসা লাজাওয়াবে যাই উহু মুখরোচক',\n",
              " 'সবকিছু প্রশস্ত পরিবেশের প্রয়োজন বিপুল পরিমাণে লোকেরা',\n",
              " 'টেস্টি ভাল আইটেমগুলি দুর্দান্ত',\n",
              " 'খাবারটি সত্যিই সুস্বাদু বিশেষত মুরগির করাহি কারির স্বাদটি দুর্দান্ত',\n",
              " 'দুর্দান্ত পরীক্ষা যুক্তিসঙ্গত মূল্য ¿ ½গুলির ½ ¿ ½গুলির ½ ¿ ½ ¿ ½ ¿ ½ চ্যালেঞ্জ',\n",
              " 'সুন্দর সজ্জা ভাল খাবার দুর্দান্ত খাবার মুখরোচক দোসা',\n",
              " 'দারুন সুন্দর সজ্জা সুস্বাদু খাবার ওয়েটারদের আচরণ পছন্দ করেছি দোসা লাজাওয়াবকে ভালবাসি',\n",
              " 'দোসা সত্যিই লাজাওয়াব মুরগী করাহি কারি খাচ্ছে',\n",
              " 'সস্তা দামে ভাল খাবার',\n",
              " 'দুর্দান্ত',\n",
              " 'সত্যিই লাজাবাব ¿ ½',\n",
              " '',\n",
              " 'সুদৃ',\n",
              " 'সাজসজ্জা কুব ভালো চিলো স্পেস টা আকুত ছোটো খাবারার প্রাইস ওঙ্ক ওঙ্ক ওঙ্ক যুক্তিসঙ্গত টেস্ট ওনাক ভালো',\n",
              " 'অনুরণনযোগ্য মূল্য বোসার স্পেস আরেকতু বারালে ভ্যালো হোয়',\n",
              " 'যুক্তিসঙ্গত দাম ভাল খাবার পরিষেবা উন্নত',\n",
              " 'ভাল খাবার উপলব্ধ',\n",
              " 'ছোট্ট পৃষ্ঠা তৈরি করুন সেরা',\n",
              " 'গতকাল পিজ্জা কিনেছি ভালো প্রস্তাবিত',\n",
              " 'কফি উপভোগ করেছি মুহুর্ত ব্যয় পছন্দ হ্যাঙ্গআউট দুর্দান্ত জায়গা সুন্দর অভ্যন্তর নকশা কেবল রেস্তোঁরাটি দেখুন প্রতিটি আইটেমে ছাড় পান',\n",
              " 'টাকো থাই স্যুপ কেবল পছন্দ করেছি সত্যিই ভাল',\n",
              " 'গুণমান পরিমাণ পরিবেশ আচরণ এসওবি কোথয়ে ওসাদারন মি টাকো ক্যাফের শুভকামনা এগিয়ে',\n",
              " 'গুণমান পরিমাণ পরিবেশ আচরণ এসওবি কোথয়ে ওসাদারন মি টাকো ক্যাফের শুভকামনা',\n",
              " 'সন্ধ্যা উপভোগ খাবার খেতে সুন্দর পরিবেশ',\n",
              " 'বিচ্ছিন্ন স্বাদযুক্ত খাবার একজয় সুন্দর জায়গা',\n",
              " 'ভাল মানের খাবার',\n",
              " 'এআই মি টাকো তে খেলম খাবার খুবি মাজাদার',\n",
              " 'শীতল পরিবেশ ভাল শৃঙ্খলাবদ্ধ কর্মী অসাধারণ ভাল পরিষেবা সুস্বাদু দুর্দান্ত মুখরোচক খাবার খাওয়ার দুর্দান্ত জায়গা শীঘ্রই আসুন বহুবার',\n",
              " 'যুক্তিসঙ্গত দামের সাথে সুস্বাদু খাবার পরিষেবাগুলি দুর্দান্ত অবশ্যই আসব কেবল পছন্দ করেছি স্পষ্টতই রেস্তোঁরাটির সজ্জা দুর্দান্ত',\n",
              " 'মানুষের সাথে যেভাবে যোগাযোগ সত্যিই পছন্দ করেছি অনুষ্ঠানের হোস্টিংয়ের সত্যই বিশ্বাস এমনকি খাদ্যের গুণমান স্বাদ অকল্পনীয়ভাবে আশ্চর্যজনক সাথে পুরোপুরি সন্তুষ্ট চালিয়ে বড় মত',\n",
              " 'াকা শহরে',\n",
              " 'শীতল পরিবেশ ভাল পদ্ধতিতে কর্মী অসাধারণ ভাল পরিষেবা সবচেয়ে গুরুত্বপূর্ণভাবে সুস্বাদু খাবারগুলি খাওয়ার দুর্দান্ত জায়গা',\n",
              " 'চমত্কার স্বাগত পানীয় সত্যিই দুর্দান্ত পরিপাটি রেস্তোঁরা খাবারগুলি সুস্বাদু ˜ ভালবাসুন ˜',\n",
              " 'সামগ্রিকভাবে খাবারটি দুর্দান্ত পরিবেশটি ভাল',\n",
              " 'খাবার পছন্দ অনুমানের াকা মালিবাগ শান্তিনগর অঞ্চল',\n",
              " 'খাবারটি দুর্দান্ত',\n",
              " 'অভ্যন্তর নকশা সজ্জা আতিথেয়তা খাবারের গুণমান স্পষ্টতই গুণমানের পরিষেবা মুগ্ধ',\n",
              " 'খাদ্যের গুণমানটি দুর্দান্ত পরিষেবাও ভাল',\n",
              " 'পরিষেবা খাবার উভয়ই সত্যিই ভাল অবশ্যই স্টার রেটিং',\n",
              " 'থাই স্যুপ ওয়ান্টন পছন্দ স্বাদ সত্যিই ভাল',\n",
              " 'দলে সন্তুষ্টি খেতে দুর্দান্ত রেস্তোঁরা',\n",
              " 'চাইনিজ প্লাটার ভাল সাশ্রয়ী মূল্যের অভ্যন্তরটিও পছন্দ ডি',\n",
              " 'খাবার দুর্দান্ত',\n",
              " 'ভাল আতিথেয়তা বিশেষত মি মুন্না অত্যন্ত সৌহার্দ্য খাবার রসালো',\n",
              " 'খাবার পরীক্ষামূলক ইয়াম্মি চিনেস আইটেম স্বাগত পানীয়গুলি দুর্দান্ত',\n",
              " 'ভারতীয় সেট মেনুতে গুজরাটি উদ্ভিজ্জ পছন্দ করুন',\n",
              " 'খাবারের মান ভাল',\n",
              " 'মুরগির চিজি বার্গার মির্জফার বার্গার চিকেন ফ্রাই অনুষ্ঠানে করেছি বলার নেতিবাচক াকায় কেবল বার্গার জয়েন্টগুলি করেছি দাম স্বাদে আসে সেরা সহজ সাশ্রয়ী মূল্যের কিনুন পান বিনামূল্যে সেরা চুক্তি',\n",
              " 'স্বাক্ষর গরুর মাংস বেকন বার্গার করেছি একেবারে আশ্চর্যজনক সলিড ভাল রান্না গরুর মাংসের প্যাটিগুলি টেন্ডার গরুর মাংসের স্ট্রিপগুলি পনির সসের নিখুঁত ভারসাম্য শীর্ষে টাটকা লেটুস টমেটো স্লাইস খাস্তা বানগুলি অভিজ্ঞতাটিকে উন্নত ক্যাপ্টেন কুক বার্গার যখনই শিমন্তো স্কোয়ারে ধনমন্ডিতে যাই গো টু বার্গারের জায়গা দয়া করুন',\n",
              " 'দুর্দান্ত ফাস্টফুড জায়গা মানে খাবারটা অসাধারণ ছিলো দামী মি পাউন্ডার মি অ্যালেক্সান্ডারের মেনুতে উত্কৃষ্ট বার্গার খাবার পরিবেশন সময়টি ভিড় মাঝারি পছন্দ করেছি জল চেয়েছিলাম কেবল বোতল জল চশমাও দিয়েছিল প্রাপ্য শান্তি ক্যাপ্টেন কুক',\n",
              " 'ক্যাপ্টেন কুক াকা আশ্চর্যজনক সত্যিই ভাল পরিষেবা অবিশ্বাস্য পনির চিকেন বার্গার মারা বয়সের সেরা ভাল রেস্তোঁরা সেরা রেস্তোঁরাগুলি',\n",
              " 'দামের সাথে তুলনা ডাবল কোয়ার্টার পাউন্ডার বার্গার ইউউমি প্রতিটি টেবিলে নম্র সবকিছু কিনা জিজ্ঞাসা ক্ষুধার্ত বাজেটে বার্গারের ভাল কামড় পেতে এটিই জায়গা',\n",
              " 'ক্যাপ্টেন কুক স্পেশাল মি পাউন্ডার গরুর মাংস জলপেনো রসুন সসের সাথে দুর্দান্ত প্যাটি দুর্দান্ত গণ্ডগোল সরস আপনাকে কাঁদতে মশলাদার স্থান দুর্দান্ত শীতল পরিবেষ্টিত আকাশের দৃশ্য দুর্দান্ত মূল্য অভিজ্ঞতা খাবার মূল্য',\n",
              " 'তুলনামূলকভাবে কম দামের সাথে শহরের সেরা বার্গার আসল ফিকামোলি বার্গারটি শীর্ষে সরস চিটচিটে শিমন্তো স্কোয়ার ধনমন্ডিতে বার্গারের ভাল স্বাদ আনন্দিত ধন্যবাদ ক্যাপ্টেন কুক',\n",
              " 'তুলনামূলকভাবে কম দামের সাথে শহরের সেরা বার্গার বার্গারটি সরস শীর্ষে চিটচিটে ধনমন্ডিতে বার্গারের ভাল স্বাদ আনন্দিত',\n",
              " 'পরিষেবা দ্রুত প্রতিটি গ্রাহকের সাথে ভদ্র রেস্তোঁরা ইয়েস্টার্ডে ভর্তি করেছি শ্রদ্ধা ছাড় সেবায় সন্তুষ্ট বার্গারটি সুস্বাদু সরস সবাইকে রেস্তোঁরা দেখার পরামর্শ চাই',\n",
              " 'বার্গারগুলি শালীনভাবে মূল্য নির্ধারণ অর্থের মূল্য প্যাটি শুকনো ভাল মেরিনেট পনিরের শালীন পরিমাণ সামগ্রিকভাবে দুর্দান্ত সত্যিই অন্যান্য খাবারগুলিও চাই ধন্যবাদ ক্যাপ্টেন কুক',\n",
              " 'খাদ্য পরিষেবা পরিবেশের গুণমান দুর্দান্ত পরিধান মানসম্পন্ন খাবারের সাথে মানের সময় পাস সেরা জায়গা জায়গাটি দেখুন অবশ্যই পছন্দ',\n",
              " 'স্বাক্ষর গরুর মাংস বেকন বার্গার স্যান্ডউইচগুলি দেখেছি পুরোপুরি পছন্দ করেছি ডি পরিবেষ্টিত পরিবেশ হ্যাঙ্গআউট দুর্দান্ত খাবারের ভাল',\n",
              " 'জায়গাটি সাম্প্রতিক প্রিয় মি মিরজফার বার্গারকে বিশেষভাবে ভালবাসুন ইতিমধ্যে চারবার কর্মীদের আচরণ সত্যিই ভাল আপনাকে ক্যাপ্টেন কুক রেস্তোঁরা ধন্যবাদ',\n",
              " 'বার্গারের স্বাদ দামের তুলনা করুন দামটি কম স্বাদটি দুর্দান্ত বার্গার প্রেমিক ক্যাপ্টেনকুক ম্যাল্রেক্সেন্ডারবার্গার এমআরএমআইআরজেফারবার্গ',\n",
              " 'পরিবেশ ব্যতীত সবকিছু দুর্দান্ত মি আলেকজান্ডার বার্গার সবচেয়ে ভাল স্বাদ পেয়েছি বার্গারের',\n",
              " 'বিশেষভাবে বার্গার প্রেমীদের অবশ্যই মি পাউন্ডার বার্গার হট বাফেলো ডানা মুগ্ধ মানের সেরা ক্যাপ্টেন কুক রাখুন',\n",
              " 'খাবারের গুণমান পছন্দ করেছি বিবিকিউ গরুর মাংস বার্গার প্রতারিত বার্গার চেইনের স্বাদযুক্ত ভবিষ্যতের সৌভাগ্য কামনা করছি',\n",
              " 'ধনমন্ডি অঞ্চলে গ্রেট বার্গার শপ ক্যাপ্টেন কুককে শুভেচ্ছা জানান',\n",
              " 'আগত মি মিরজাফার বার্গারের সাথে মাইন্ড ফুঁকের অভিজ্ঞতাও খাঁটি স্নিকার্সকে কাঁপিয়ে তোলে ক্যাপ্টেন কুককে উত্সর্গীকৃত ভাল কাজের লোক জেড',\n",
              " 'শহরের সেরা বার্গার মি মিরজফার বার্গার মন ফুটিয়ে উঠছে দামটিও যুক্তিসঙ্গত আপনাকে ধন্যবাদ ক্যাপ্টেন কুক াকা',\n",
              " 'ধনমন্ডির সেরা শিক্ষার্থী বান্ধব বার্গার রেস্তোঁরা বার্গার প্রেমিক অবাক দিয়েছিল শিক্ষার্থীদের স্কুল প্রচারে এসেছে আমাজিং',\n",
              " 'ক্যাপ্টেন কুক াকা শহরের অন্যতম সেরা রেস্তোঁরা ভাল সজ্জিত রেস্তোঁরা খাবারের স্বাদ আলাদা পরিষেবা আচরণ বড় সম্পদ',\n",
              " 'মুরগির পনির বার্গার নিয়মিত ফরাসি ফ্রাই ভালবাসে',\n",
              " 'খাবারটি দুর্দান্ত আচরণ ভাল তবুও পেটের খুশির সুন্দর জায়গা ˜',\n",
              " 'মি মিরজাফর কেবল কিটকাত শেক সতেজ তুলছেন ক্যাপ্টেন কুক ভালবাসি',\n",
              " 'খাবার পরিবেশের প্রথমটি দুর্দান্ত বিখ্যাত রয়্যাল সুদানি বার্গার স্নিকার্স শেক মাইন্ড ফুঁকানো পরীক্ষা সততার সাথে করেছিলাম ক্যাপ্টেন কুকের ভালবাসা শুভেচ্ছা',\n",
              " 'এজন্য সর্বদা শিমন্তো স্কোয়ারে এসেছি ক্যাপ্টেন কুক নামে বার্গারের দোকানটি পছন্দ',\n",
              " 'বাহ হাভি সুস্বাদু খাবার দুর্দান্ত অবস্থান ক্যাপ্টেন কুক াকা শহরের সর্বাধিক বিখ্যাত পুনরুদ্ধারকারী',\n",
              " 'বাংলাদেশের অন্যতম সেরা বার্গার কেন্দ্রিক সংস্থা',\n",
              " 'বন্ধু অন্যদের সাথে ভাল জায়গা',\n",
              " 'দুর্দান্ত মানুষ দুর্দান্ত পরিষেবা ভাল সময় ব্যয় শিথিল তোলে',\n",
              " 'জাতীয় প্রারম্ভিক মানের সাথে চালিয়ে সর্বদা মান বজায় রাখুন শুভকামনা',\n",
              " 'যুক্তিসঙ্গত দাম দুর্দান্ত খাবার ভবিষ্যতের যাত্রার শুভকামনা',\n",
              " 'সত্যিই ধনমন্ডি বার্গার জাইয়ান্ট পেয়েছিলেন আশা ভাল খ্যাতি রাখবে',\n",
              " 'ক্যাপ্টেন কুক াকা সত্যিই দুর্দান্ত বার্গারগুলি সুপার সুস্বাদু',\n",
              " 'ক্যাপ্টেন কুককে শুভ কামনা বজায়',\n",
              " 'বার্গার ফ্রাইয়ের ভাল মি পাউন্ডার মি মিরজাফারের আশ্চর্যজনক বার্গার কেবল বাহ',\n",
              " 'দারুন পরিষেবাগুলি দুর্দান্ত ভালবাসা সুন্দর স্বাগতযুক্ত',\n",
              " 'সুস্বাদু খাবারের সংবেদন এইমাত্র',\n",
              " 'ধনমন্ডিতে আরেকটি বার্গার স্বর্গ',\n",
              " 'শীর্ষ ক্যাপ্টেন কুক তালিকাভুক্ত চাই',\n",
              " 'রেস্তোঁরাটির বার্গারটি সুন্দর',\n",
              " 'নাগা বার্গার কেবল মন খারাপ ফেলছে',\n",
              " 'দারুন মানসম্পন্ন পণ্য সুপারভ মানের পরিষেবা',\n",
              " 'সবচেয়ে অনন্য পণ্য লাইন আপ দুর্দান্ত বার্গার রেস্তোঁরা ক্যাপ্টেন কুকের উন্নতি করুন',\n",
              " 'ভাল খাবার তৈরি পার',\n",
              " 'ক্যাপ্টেন কুক প্রমাণ প্রতিভা শেফ সত্যিই দুর্দান্ত',\n",
              " 'শিমন্তো স্কোয়ার ধনমন্ডিতে সেরা পরিষেবা স্বাদ',\n",
              " 'সেরা ছাদ বার্গার রেস্তোঁরা',\n",
              " 'সেরাদের সেরা',\n",
              " 'সেরা এক',\n",
              " 'শহরে সেরা',\n",
              " 'দুর্দান্ত',\n",
              " 'গুড',\n",
              " 'মঙ্গলভাব',\n",
              " 'সাবাশ',\n",
              " 'বার্গারের দোকানটি পরিদর্শন করেছি অসাধারণ',\n",
              " 'ধনমন্ডিতে সুস্বাদু বার্গারের দোকান',\n",
              " 'সত্যিই ভাল পরিষেবা অবিশ্বাস্য পনির গরুর মাংস বার্গার বাহ',\n",
              " 'ভাল খাবার',\n",
              " 'ধনমন্ডি শিমন্তো স্কয়ারের অন্যতম সেরা বার্গার হাউস দাম আশ্চর্যজনক সেরা খাদ্য মানের',\n",
              " 'বার্গারের দোকানটি ভালবাসার মূল কারণটি',\n",
              " 'দীর্ঘ সময় দুর্দান্ত বার্গার মুরগির পনির অতিরিক্ত মশলাদার পৃথিবীর বাইরে ধন্যবাদ ক্যাপ্টেন কুক',\n",
              " 'শহরের অন্যতম সেরা বার্গার শপ অবশ্যই বন্ধু পরিবারের সাথে উপভোগ সেরা পরিবেশ পেয়েছে বার্গারটি অত্যন্ত সুস্বাদু ক্যাপ্টেন কুকের শুভেচ্ছা',\n",
              " 'সেরা এক',\n",
              " 'দুর্দান্ত খাবার সুন্দর পরিবেশ ক্যাপ্টেন কুকের প্রতিটি বার্গারের স্বাদ পেয়েছি স্বাদযুক্ত সুস্বাদু খাবারগুলি সরবরাহ স্টাফগুলি দ্রুত',\n",
              " 'মুহুর্তে ধনমন্ডিতে সেরা বার্গার শপ বিশেষত শিক্ষার্থীদের',\n",
              " 'গোপ খাব',\n",
              " 'সন্তোষজনক খাবার খাওয়ার ভাল জায়গা খাবারটি সুস্বাদু পরিষেবাটি আশ্চর্যজনক দাম যুক্তিসঙ্গত রেটিং',\n",
              " 'সন্তোষজনক খাবার খাওয়ার ভাল জায়গা খাবারটি সুস্বাদু পরিষেবাটি আশ্চর্যজনক দাম যুক্তিসঙ্গত শিগাল শিগগিরই শিগগিরই',\n",
              " 'করতাম দেরিতে মধ্যাহ্নভোজনে গিয়েছিলাম দুর্ভিক্ষে সেট মেনু পাস্তা বাস্টা অর্ডার করেছি আনন্দের পাস্তা ওভেন বেকড পরিবেশন আনন্দের ক্ষুধার্ত পেট ভরাট পরিমাণটি অসাধারণ',\n",
              " ...]"
            ]
          },
          "metadata": {},
          "execution_count": 8
        }
      ]
    },
    {
      "cell_type": "markdown",
      "source": [
        "# ***Feature Selection***"
      ],
      "metadata": {
        "id": "jc3ql2DMUDMu"
      }
    },
    {
      "cell_type": "markdown",
      "source": [
        "# **TF-IDF**"
      ],
      "metadata": {
        "id": "EcI3NlFiT9-S"
      }
    },
    {
      "cell_type": "code",
      "source": [
        "# TF-IDF\n",
        "from sklearn.feature_extraction.text import TfidfVectorizer\n",
        "cv = TfidfVectorizer(ngram_range = (1,2))\n",
        "TM= cv.fit_transform(corpus).toarray()\n",
        "y= data.iloc[:, 1].values"
      ],
      "metadata": {
        "id": "pFR1otCXVVQT"
      },
      "execution_count": null,
      "outputs": []
    },
    {
      "cell_type": "markdown",
      "source": [
        "# **Spliting data for TF-IDF 80:20 Ratio**"
      ],
      "metadata": {
        "id": "GDDsdv1YURgS"
      }
    },
    {
      "cell_type": "code",
      "source": [
        "#Splitting the dataset into training set and test set\n",
        "X_train,X_test,y_train,y_test= train_test_split(TM,y,test_size=0.2,random_state=2, stratify=data['Sentiment'])\n",
        "print(TM)"
      ],
      "metadata": {
        "id": "BwfXTdsDVLGD",
        "colab": {
          "base_uri": "https://localhost:8080/"
        },
        "outputId": "d4e488bb-5c1f-4f70-8977-94711317591a"
      },
      "execution_count": null,
      "outputs": [
        {
          "output_type": "stream",
          "name": "stdout",
          "text": [
            "[[0. 0. 0. ... 0. 0. 0.]\n",
            " [0. 0. 0. ... 0. 0. 0.]\n",
            " [0. 0. 0. ... 0. 0. 0.]\n",
            " ...\n",
            " [0. 0. 0. ... 0. 0. 0.]\n",
            " [0. 0. 0. ... 0. 0. 0.]\n",
            " [0. 0. 0. ... 0. 0. 0.]]\n"
          ]
        }
      ]
    },
    {
      "cell_type": "markdown",
      "source": [
        "# ***Machine Learning Classifier***"
      ],
      "metadata": {
        "id": "5IRaQl7WoD-p"
      }
    },
    {
      "cell_type": "markdown",
      "source": [
        "# **Result Table (M1)**"
      ],
      "metadata": {
        "id": "fdee__O_WrmD"
      }
    },
    {
      "cell_type": "code",
      "source": [
        "evalution_table = []\n",
        "evalution_table.append(['Classifier Name','Precision','Recall','Accuracy','F1-Score'])"
      ],
      "metadata": {
        "id": "OghVpI-vWiOJ"
      },
      "execution_count": null,
      "outputs": []
    },
    {
      "cell_type": "markdown",
      "source": [
        "# **Decision Tree using TF-IDF**"
      ],
      "metadata": {
        "id": "KL7kakF4YWU2"
      }
    },
    {
      "cell_type": "code",
      "execution_count": null,
      "metadata": {
        "colab": {
          "base_uri": "https://localhost:8080/",
          "height": 297
        },
        "id": "CBA-s032jVwa",
        "outputId": "9c38f7d5-2d69-40b9-fc72-7362d8960564"
      },
      "outputs": [
        {
          "output_type": "stream",
          "name": "stdout",
          "text": [
            "Confusion Matrix for Model 1 (DT)\n"
          ]
        },
        {
          "output_type": "display_data",
          "data": {
            "text/plain": [
              "<Figure size 432x288 with 2 Axes>"
            ],
            "image/png": "[encoded data removed]"
          },
          "metadata": {
            "needs_background": "light"
          }
        }
      ],
      "source": [
        "#decision tree\n",
        "classifier = DecisionTreeClassifier(criterion=\"entropy\", random_state=5)\n",
        "classifier.fit(X_train,y_train)\n",
        "y_pred_DT = classifier.predict(X_test)\n",
        "\n",
        "cm_DT = confusion_matrix(y_test,y_pred_DT)\n",
        "\n",
        "pr_DT= precision_score(y_test, y_pred_DT, average=None)\n",
        "re_DT= recall_score(y_test, y_pred_DT, average=None)\n",
        "f1_DT= f1_score(y_test, y_pred_DT, average=None)\n",
        "acc_DT = accuracy_score(y_test,y_pred_DT)\n",
        "\n",
        "from mlxtend.plotting import plot_confusion_matrix\n",
        "print(\"Confusion Matrix for Model 1 (DT)\")\n",
        "plot_confusion_matrix(conf_mat=cm_DT,show_absolute=True,\n",
        "                                show_normed=True,\n",
        "                                colorbar=True)\n",
        "\n",
        "evalution_table.append(['DT',pr_DT[0],re_DT[0],acc_DT,f1_DT[0]])"
      ]
    },
    {
      "cell_type": "markdown",
      "source": [
        "# **Random Forest using TF-IDF**"
      ],
      "metadata": {
        "id": "pzK-9LmuYgm8"
      }
    },
    {
      "cell_type": "code",
      "execution_count": null,
      "metadata": {
        "colab": {
          "base_uri": "https://localhost:8080/",
          "height": 300
        },
        "id": "_N9sMIRQlZsF",
        "outputId": "7496939a-a9bc-4271-e7fc-55288d4c90ea"
      },
      "outputs": [
        {
          "output_type": "stream",
          "name": "stdout",
          "text": [
            "Confusion Matrix for Model 1 (RF)\n"
          ]
        },
        {
          "output_type": "display_data",
          "data": {
            "text/plain": [
              "<Figure size 432x288 with 2 Axes>"
            ],
            "image/png": "[encoded data removed]"
          },
          "metadata": {
            "needs_background": "light"
          }
        }
      ],
      "source": [
        "#Random Forest\n",
        "classifier = RandomForestClassifier(n_estimators=10,criterion='entropy',random_state=2)\n",
        "classifier.fit(X_train,y_train)\n",
        "\n",
        "y_pred_RF = classifier.predict(X_test)\n",
        "cm_RF = confusion_matrix(y_test,y_pred_RF)\n",
        "pr_RF= precision_score(y_test, y_pred_RF, average=None)\n",
        "re_RF= recall_score(y_test, y_pred_RF, average=None)\n",
        "f1_RF= f1_score(y_test, y_pred_RF, average=None)\n",
        "acc_RF = accuracy_score(y_test,y_pred_RF)\n",
        "\n",
        "from mlxtend.plotting import plot_confusion_matrix\n",
        "print(\"Confusion Matrix for Model 1 (RF)\")\n",
        "plot_confusion_matrix(conf_mat=cm_RF,show_absolute=True,\n",
        "                                show_normed=True,\n",
        "                                colorbar=True)\n",
        "\n",
        "evalution_table.append(['RF',pr_RF[0],re_RF[0],acc_RF,f1_RF[0]])"
      ]
    },
    {
      "cell_type": "markdown",
      "source": [
        "# **Support Vector Machine using TF-IDF**"
      ],
      "metadata": {
        "id": "HsXB87LxYbE3"
      }
    },
    {
      "cell_type": "code",
      "source": [
        "#SVM\n",
        "classifier = SVC(kernel='linear',gamma='auto')\n",
        "classifier.fit(X_train,y_train)\n",
        "\n",
        "y_pred_SVM = classifier.predict(X_test)\n",
        "cm_SVM = confusion_matrix(y_test,y_pred_SVM)\n",
        "pr_SVM= precision_score(y_test, y_pred_SVM, average=None)\n",
        "re_SVM= recall_score(y_test, y_pred_SVM, average=None)\n",
        "f1_SVM= f1_score(y_test, y_pred_SVM, average=None)\n",
        "acc_SVM = accuracy_score(y_test,y_pred_SVM)\n",
        "\n",
        "from mlxtend.plotting import plot_confusion_matrix\n",
        "print(\"Confusion Matrix for Model 1 (SVM)\")\n",
        "plot_confusion_matrix(conf_mat=cm_SVM,show_absolute=True,\n",
        "                                show_normed=True,\n",
        "                                colorbar=True)\n",
        "\n",
        "evalution_table.append(['SVM',pr_SVM[0],re_SVM[0],acc_SVM,f1_SVM[0]])"
      ],
      "metadata": {
        "id": "bhhG7etkkQJL",
        "colab": {
          "base_uri": "https://localhost:8080/",
          "height": 297
        },
        "outputId": "25e5f9b1-39ed-40a1-8169-dc777b76b182"
      },
      "execution_count": null,
      "outputs": [
        {
          "output_type": "stream",
          "name": "stdout",
          "text": [
            "Confusion Matrix for Model 1 (SVM)\n"
          ]
        },
        {
          "output_type": "display_data",
          "data": {
            "text/plain": [
              "<Figure size 432x288 with 2 Axes>"
            ],
            "image/png": "[encoded data removed]"
          },
          "metadata": {
            "needs_background": "light"
          }
        }
      ]
    },
    {
      "cell_type": "markdown",
      "source": [
        "# **KNN using TF-IDF**"
      ],
      "metadata": {
        "id": "KooePz-4lVPA"
      }
    },
    {
      "cell_type": "code",
      "execution_count": null,
      "metadata": {
        "colab": {
          "base_uri": "https://localhost:8080/",
          "height": 72
        },
        "id": "m2cArVmrlV8X",
        "outputId": "b62eaf77-c508-42ac-bdb4-f0f8af469281"
      },
      "outputs": [
        {
          "output_type": "stream",
          "name": "stdout",
          "text": [
            "Confusion Matrix for Model 1 (KNN)\n"
          ]
        },
        {
          "output_type": "display_data",
          "data": {
            "text/plain": [
              "<Figure size 432x288 with 2 Axes>"
            ],
            "image/png": "[encoded data removed]"
          },
          "metadata": {
            "needs_background": "light"
          }
        }
      ],
      "source": [
        "#KNN\n",
        "classifier = KNeighborsClassifier(n_neighbors=4,metric='minkowski',p=2)\n",
        "classifier.fit(X_train,y_train)\n",
        "\n",
        "y_pred_KNN = classifier.predict(X_test)\n",
        "cm_KNN = confusion_matrix(y_test,y_pred_KNN)\n",
        "pr_KNN = precision_score(y_test, y_pred_KNN, average=None)\n",
        "re_KNN = recall_score(y_test, y_pred_KNN, average=None)\n",
        "f1_KNN = f1_score(y_test, y_pred_KNN, average=None)\n",
        "acc_KNN = accuracy_score(y_test,y_pred_KNN)\n",
        "\n",
        "from mlxtend.plotting import plot_confusion_matrix\n",
        "print(\"Confusion Matrix for Model 1 (KNN)\")\n",
        "plot_confusion_matrix(conf_mat=cm_KNN,show_absolute=True,\n",
        "                                show_normed=True,\n",
        "                                colorbar=True)\n",
        "\n",
        "evalution_table.append(['KNN',pr_KNN[0],re_KNN[0],acc_KNN,f1_KNN[0]])"
      ]
    },
    {
      "cell_type": "markdown",
      "source": [
        "# **NB using TF-IDF**"
      ],
      "metadata": {
        "id": "U98IUWFdmzKo"
      }
    },
    {
      "cell_type": "code",
      "source": [
        "#NB\n",
        "classifier = GaussianNB()\n",
        "classifier.fit(X_train,y_train)\n",
        "\n",
        "y_pred_NB = classifier.predict(X_test)\n",
        "cm_NB = confusion_matrix(y_test,y_pred_NB)\n",
        "pr_NB = precision_score(y_test, y_pred_NB, average=None)\n",
        "re_NB = recall_score(y_test, y_pred_NB, average=None)\n",
        "f1_NB = f1_score(y_test, y_pred_NB, average=None)\n",
        "acc_NB = accuracy_score(y_test,y_pred_NB)\n",
        "\n",
        "from mlxtend.plotting import plot_confusion_matrix\n",
        "print(\"Confusion Matrix for Model 1 (NB)\")\n",
        "plot_confusion_matrix(conf_mat=cm_NB,show_absolute=True,\n",
        "                                show_normed=True,\n",
        "                                colorbar=True)\n",
        "\n",
        "evalution_table.append(['NB',pr_NB[0],re_NB[0],acc_NB,f1_NB[0]])"
      ],
      "metadata": {
        "id": "2egC7lhnm4aq",
        "colab": {
          "base_uri": "https://localhost:8080/",
          "height": 72
        },
        "outputId": "172c35c9-cca6-4e65-aee8-0985f82d044e"
      },
      "execution_count": null,
      "outputs": [
        {
          "output_type": "stream",
          "name": "stdout",
          "text": [
            "Confusion Matrix for Model 1 (NB)\n"
          ]
        },
        {
          "output_type": "display_data",
          "data": {
            "text/plain": [
              "<Figure size 432x288 with 2 Axes>"
            ],
            "image/png": "[encoded data removed]"
          },
          "metadata": {
            "needs_background": "light"
          }
        }
      ]
    },
    {
      "cell_type": "markdown",
      "source": [
        "# ***Boosting Classifier***"
      ],
      "metadata": {
        "id": "a85pu2u-oP62"
      }
    },
    {
      "cell_type": "markdown",
      "source": [
        "# ***AdaBoosting using TF-IDF***"
      ],
      "metadata": {
        "id": "R9b4GHj7oT0C"
      }
    },
    {
      "cell_type": "code",
      "source": [
        "#Ada Boosting\n",
        "classifier = AdaBoostClassifier(n_estimators=100, learning_rate=0.1)\n",
        "classifier.fit(X_train,y_train)\n",
        "\n",
        "y_pred_adab = classifier.predict(X_test)\n",
        "cm_adab = confusion_matrix(y_test,y_pred_adab)\n",
        "pr_adab = precision_score(y_test, y_pred_adab, average=None)\n",
        "re_adab = recall_score(y_test, y_pred_adab, average=None)\n",
        "f1_adab = f1_score(y_test, y_pred_adab, average=None)\n",
        "acc_adab = accuracy_score(y_test,y_pred_adab)\n",
        "\n",
        "from mlxtend.plotting import plot_confusion_matrix\n",
        "print(\"Confusion Matrix for Model 1 (Ada)\")\n",
        "plot_confusion_matrix(conf_mat=cm_adab,show_absolute=True,\n",
        "                                show_normed=True,\n",
        "                                colorbar=True)\n",
        "\n",
        "evalution_table.append(['Ada',pr_adab[0],re_adab[0],acc_adab,f1_adab[0]])"
      ],
      "metadata": {
        "id": "J_RGnI0-pFhR",
        "colab": {
          "base_uri": "https://localhost:8080/",
          "height": 72
        },
        "outputId": "ad0df06e-7ab3-4650-ef15-e6d0c0a8a01f"
      },
      "execution_count": null,
      "outputs": [
        {
          "output_type": "stream",
          "name": "stdout",
          "text": [
            "Confusion Matrix for Model 1 (Ada)\n"
          ]
        },
        {
          "output_type": "display_data",
          "data": {
            "text/plain": [
              "<Figure size 432x288 with 2 Axes>"
            ],
            "image/png": "[encoded data removed]"
          },
          "metadata": {
            "needs_background": "light"
          }
        }
      ]
    },
    {
      "cell_type": "markdown",
      "source": [
        "# ***Gradinent Boosting using TF-IDF***"
      ],
      "metadata": {
        "id": "vsXbPoqyoaey"
      }
    },
    {
      "cell_type": "code",
      "source": [
        "#Ada Boosting\n",
        "classifier = GradientBoostingClassifier(n_estimators=100, learning_rate=0.1)\n",
        "classifier.fit(X_train,y_train)\n",
        "\n",
        "y_pred_gb = classifier.predict(X_test)\n",
        "cm_gb = confusion_matrix(y_test,y_pred_gb)\n",
        "pr_gb = precision_score(y_test, y_pred_gb, average=None)\n",
        "re_gb = recall_score(y_test, y_pred_gb, average=None)\n",
        "f1_gb = f1_score(y_test, y_pred_gb, average=None)\n",
        "acc_gb = accuracy_score(y_test,y_pred_gb)\n",
        "\n",
        "from mlxtend.plotting import plot_confusion_matrix\n",
        "print(\"Confusion Matrix for Model 1 (GB)\")\n",
        "plot_confusion_matrix(conf_mat=cm_gb,show_absolute=True,\n",
        "                                show_normed=True,\n",
        "                                colorbar=True)\n",
        "\n",
        "evalution_table.append(['GB',pr_gb[0],re_gb[0],acc_gb,f1_gb[0]])"
      ],
      "metadata": {
        "id": "WXw61R7UpzY2",
        "colab": {
          "base_uri": "https://localhost:8080/",
          "height": 72
        },
        "outputId": "d52c9c08-56b4-4f6b-f771-63aacb2382e6"
      },
      "execution_count": null,
      "outputs": [
        {
          "output_type": "stream",
          "name": "stdout",
          "text": [
            "Confusion Matrix for Model 1 (GB)\n"
          ]
        },
        {
          "output_type": "display_data",
          "data": {
            "text/plain": [
              "<Figure size 432x288 with 2 Axes>"
            ],
            "image/png": "[encoded data removed]"
          },
          "metadata": {
            "needs_background": "light"
          }
        }
      ]
    },
    {
      "cell_type": "markdown",
      "source": [
        "# **Result Analysis for TF-IDF**"
      ],
      "metadata": {
        "id": "4tXAUL4PXssA"
      }
    },
    {
      "cell_type": "code",
      "execution_count": null,
      "metadata": {
        "colab": {
          "base_uri": "https://localhost:8080/"
        },
        "outputId": "5ed55c65-2d08-492c-d72c-eb402daef786",
        "id": "WP4BWrmQXssB"
      },
      "outputs": [
        {
          "output_type": "stream",
          "name": "stdout",
          "text": [
            "Results using TF-IDF\n",
            "---------------  ------------------  ------------------  ------------------  ------------------\n",
            "Classifier Name  Precision           Recall              Accuracy            F1-Score\n",
            "DT               0.7650695517774343  0.7071428571428572  0.7655942219304005  0.734966592427617\n",
            "RF               0.8107255520504731  0.7342857142857143  0.799080761654629   0.7706146926536732\n",
            "SVM              0.855973813420622   0.7471428571428571  0.8260013131976363  0.7978642257818459\n",
            "KNN              0.5518341307814992  0.4942857142857143  0.5830597504924491  0.5214770158251695\n",
            "NB               0.7508361204013378  0.6414285714285715  0.737360472751149   0.6918335901386748\n",
            "Ada              0.8661616161616161  0.49                0.7307944845699278  0.6259124087591241\n",
            "GB               0.8597560975609756  0.6042857142857143  0.7728168089297439  0.7097315436241611\n",
            "---------------  ------------------  ------------------  ------------------  ------------------\n"
          ]
        }
      ],
      "source": [
        "print(\"Results using TF-IDF\")\n",
        "print(tabulate(evalution_table))"
      ]
    },
    {
      "cell_type": "markdown",
      "source": [
        "# ***ROC Curve***"
      ],
      "metadata": {
        "id": "p8wTL_DgSid-"
      }
    },
    {
      "cell_type": "code",
      "source": [
        "fpr, tpr, _ = metrics.roc_curve(y_test, y_pred_SVM)\n",
        "auc = round(metrics.roc_auc_score(y_test, y_pred_SVM), 4)\n",
        "plt.plot(fpr,tpr,label=\"SVM, AUC=\"+str(auc))\n",
        "\n",
        "fpr, tpr, _ = metrics.roc_curve(y_test, y_pred_DT)\n",
        "auc = round(metrics.roc_auc_score(y_test, y_pred_DT), 4)\n",
        "plt.plot(fpr,tpr,label=\"DT, AUC=\"+str(auc))\n",
        "\n",
        "fpr, tpr, _ = metrics.roc_curve(y_test, y_pred_RF)\n",
        "auc = round(metrics.roc_auc_score(y_test, y_pred_RF), 4)\n",
        "plt.plot(fpr,tpr,label=\"RF, AUC=\"+str(auc))\n",
        "\n",
        "fpr, tpr, _ = metrics.roc_curve(y_test, y_pred_KNN)\n",
        "auc = round(metrics.roc_auc_score(y_test, y_pred_KNN), 4)\n",
        "plt.plot(fpr,tpr,label=\"SVM, AUC=\"+str(auc))\n",
        "\n",
        "fpr, tpr, _ = metrics.roc_curve(y_test, y_pred_NB)\n",
        "auc = round(metrics.roc_auc_score(y_test, y_pred_NB), 4)\n",
        "plt.plot(fpr,tpr,label=\"NB, AUC=\"+str(auc))\n",
        "\n",
        "fpr, tpr, _ = metrics.roc_curve(y_test, y_pred_adab)\n",
        "auc = round(metrics.roc_auc_score(y_test, y_pred_adab), 4)\n",
        "plt.plot(fpr,tpr,label=\"AdaB, AUC=\"+str(auc))\n",
        "\n",
        "fpr, tpr, _ = metrics.roc_curve(y_test, y_pred_gb)\n",
        "auc = round(metrics.roc_auc_score(y_test, y_pred_gb), 4)\n",
        "plt.plot(fpr,tpr,label=\"GB, AUC=\"+str(auc))\n",
        "\n",
        "plt.legend()"
      ],
      "metadata": {
        "colab": {
          "base_uri": "https://localhost:8080/",
          "height": 283
        },
        "outputId": "bfb5eaef-489f-4474-8710-38029ec22cb4",
        "id": "BeXdwDXGSid_"
      },
      "execution_count": null,
      "outputs": [
        {
          "output_type": "execute_result",
          "data": {
            "text/plain": [
              "<matplotlib.legend.Legend at 0x7f15f6e329d0>"
            ]
          },
          "metadata": {},
          "execution_count": 21
        },
        {
          "output_type": "display_data",
          "data": {
            "text/plain": [
              "<Figure size 432x288 with 1 Axes>"
            ],
            "image/png": "[encoded data removed]"
          },
          "metadata": {
            "needs_background": "light"
          }
        }
      ]
    }
  ]
}